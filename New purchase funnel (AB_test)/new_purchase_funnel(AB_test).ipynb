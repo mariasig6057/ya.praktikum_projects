{
 "cells": [
  {
   "cell_type": "markdown",
   "metadata": {},
   "source": [
    "# Анализ результатов A/B-тестирования (новая платежная воронка)"
   ]
  },
  {
   "cell_type": "markdown",
   "metadata": {},
   "source": [
    "**Задача**\n",
    "\n",
    "Провести оценку результатов A/B-теста:\n",
    "   * оценить корректность проведения теста;\n",
    "   * проанализировать результаты теста.\n",
    "   \n",
    "**Исходные данные:**\n",
    "   * 2 группы: \n",
    "       * А — контрольная, \n",
    "       * B — новая платёжная воронка;\n",
    "   * дата запуска: 2020-12-07;\n",
    "   * дата остановки набора новых пользователей: 2020-12-21;\n",
    "   * дата остановки: 2021-01-04;\n",
    "   * аудитория: 15% новых пользователей из региона EU;\n",
    "   * назначение теста: тестирование изменений, связанных с внедрением улучшенной рекомендательной системы;\n",
    "   * ожидаемое количество участников теста: 6000;\n",
    "   * ожидаемый эффект: за 14 дней с момента регистрации пользователи покажут улучшение каждой метрики не менее, чем на 10%\n",
    "    \n",
    "**Исходные датасеты:**\n",
    "\n",
    "* календарь маркетинговых событий на 2020 год.\n",
    "* пользователи, зарегистрировавшиеся с 7 по 21 декабря 2020 года.\n",
    "* действия новых пользователей в период с 7 декабря 2020 по 4 января 2021 года.\n",
    "* таблица участников тестов.\n"
   ]
  },
  {
   "cell_type": "markdown",
   "metadata": {},
   "source": [
    "## План работ"
   ]
  },
  {
   "cell_type": "markdown",
   "metadata": {},
   "source": [
    "1. [Шаг 1. Импорт и изучение данных](#step1)  \n",
    "2. [Шаг 2. Предобработка данных](#step2)\n",
    "3. [Шаг 3. Исследовательский анализ данных](#step3)\n",
    "4. [Шаг 4. Проверка статистической разницы конверсий в группах](#step4)\n",
    "5. [Шаг 5. Общий вывод](#step5)\n",
    "\n"
   ]
  },
  {
   "cell_type": "markdown",
   "metadata": {},
   "source": [
    "## Глобальные настройки"
   ]
  },
  {
   "cell_type": "markdown",
   "metadata": {},
   "source": [
    "**Импорты библиотек**"
   ]
  },
  {
   "cell_type": "code",
   "execution_count": 1,
   "metadata": {},
   "outputs": [],
   "source": [
    "# Базовые библиотеки\n",
    "import pandas as pd\n",
    "import numpy as np\n",
    "\n",
    "# Построение графиков \n",
    "import matplotlib.pyplot as plt\n",
    "from pandas.plotting import register_matplotlib_converters\n",
    "register_matplotlib_converters()\n",
    "import seaborn as sns\n",
    "\n",
    "# Проверка статистических гипотез\n",
    "from scipy import stats as st\n",
    "import math as mth"
   ]
  },
  {
   "cell_type": "markdown",
   "metadata": {},
   "source": [
    "**Настройки темы для графиков**"
   ]
  },
  {
   "cell_type": "code",
   "execution_count": 2,
   "metadata": {},
   "outputs": [],
   "source": [
    "sns.set_style('whitegrid')\n",
    "new = ['#FE022A', '#FF6302', '#02FBC3', '#46FE02']\n",
    "sns.set_palette(new)"
   ]
  },
  {
   "cell_type": "markdown",
   "metadata": {},
   "source": [
    "<a id='step1'></a>\n",
    "## Импорт и изучение данных"
   ]
  },
  {
   "cell_type": "code",
   "execution_count": 3,
   "metadata": {
    "scrolled": true
   },
   "outputs": [
    {
     "data": {
      "text/html": [
       "<div>\n",
       "<style scoped>\n",
       "    .dataframe tbody tr th:only-of-type {\n",
       "        vertical-align: middle;\n",
       "    }\n",
       "\n",
       "    .dataframe tbody tr th {\n",
       "        vertical-align: top;\n",
       "    }\n",
       "\n",
       "    .dataframe thead th {\n",
       "        text-align: right;\n",
       "    }\n",
       "</style>\n",
       "<table border=\"1\" class=\"dataframe\">\n",
       "  <thead>\n",
       "    <tr style=\"text-align: right;\">\n",
       "      <th></th>\n",
       "      <th>name</th>\n",
       "      <th>regions</th>\n",
       "      <th>start_dt</th>\n",
       "      <th>finish_dt</th>\n",
       "    </tr>\n",
       "  </thead>\n",
       "  <tbody>\n",
       "    <tr>\n",
       "      <td>0</td>\n",
       "      <td>Christmas&amp;New Year Promo</td>\n",
       "      <td>EU, N.America</td>\n",
       "      <td>2020-12-25</td>\n",
       "      <td>2021-01-03</td>\n",
       "    </tr>\n",
       "    <tr>\n",
       "      <td>1</td>\n",
       "      <td>St. Valentine's Day Giveaway</td>\n",
       "      <td>EU, CIS, APAC, N.America</td>\n",
       "      <td>2020-02-14</td>\n",
       "      <td>2020-02-16</td>\n",
       "    </tr>\n",
       "    <tr>\n",
       "      <td>2</td>\n",
       "      <td>St. Patric's Day Promo</td>\n",
       "      <td>EU, N.America</td>\n",
       "      <td>2020-03-17</td>\n",
       "      <td>2020-03-19</td>\n",
       "    </tr>\n",
       "    <tr>\n",
       "      <td>3</td>\n",
       "      <td>Easter Promo</td>\n",
       "      <td>EU, CIS, APAC, N.America</td>\n",
       "      <td>2020-04-12</td>\n",
       "      <td>2020-04-19</td>\n",
       "    </tr>\n",
       "    <tr>\n",
       "      <td>4</td>\n",
       "      <td>4th of July Promo</td>\n",
       "      <td>N.America</td>\n",
       "      <td>2020-07-04</td>\n",
       "      <td>2020-07-11</td>\n",
       "    </tr>\n",
       "  </tbody>\n",
       "</table>\n",
       "</div>"
      ],
      "text/plain": [
       "                           name                   regions    start_dt  \\\n",
       "0      Christmas&New Year Promo             EU, N.America  2020-12-25   \n",
       "1  St. Valentine's Day Giveaway  EU, CIS, APAC, N.America  2020-02-14   \n",
       "2        St. Patric's Day Promo             EU, N.America  2020-03-17   \n",
       "3                  Easter Promo  EU, CIS, APAC, N.America  2020-04-12   \n",
       "4             4th of July Promo                 N.America  2020-07-04   \n",
       "\n",
       "    finish_dt  \n",
       "0  2021-01-03  \n",
       "1  2020-02-16  \n",
       "2  2020-03-19  \n",
       "3  2020-04-19  \n",
       "4  2020-07-11  "
      ]
     },
     "execution_count": 3,
     "metadata": {},
     "output_type": "execute_result"
    }
   ],
   "source": [
    "marketing_events = pd.read_csv('ab_project_marketing_events.csv')\n",
    "marketing_events.head()"
   ]
  },
  {
   "cell_type": "code",
   "execution_count": 4,
   "metadata": {},
   "outputs": [
    {
     "data": {
      "text/html": [
       "<div>\n",
       "<style scoped>\n",
       "    .dataframe tbody tr th:only-of-type {\n",
       "        vertical-align: middle;\n",
       "    }\n",
       "\n",
       "    .dataframe tbody tr th {\n",
       "        vertical-align: top;\n",
       "    }\n",
       "\n",
       "    .dataframe thead th {\n",
       "        text-align: right;\n",
       "    }\n",
       "</style>\n",
       "<table border=\"1\" class=\"dataframe\">\n",
       "  <thead>\n",
       "    <tr style=\"text-align: right;\">\n",
       "      <th></th>\n",
       "      <th>user_id</th>\n",
       "      <th>first_date</th>\n",
       "      <th>region</th>\n",
       "      <th>device</th>\n",
       "    </tr>\n",
       "  </thead>\n",
       "  <tbody>\n",
       "    <tr>\n",
       "      <td>0</td>\n",
       "      <td>D72A72121175D8BE</td>\n",
       "      <td>2020-12-07</td>\n",
       "      <td>EU</td>\n",
       "      <td>PC</td>\n",
       "    </tr>\n",
       "    <tr>\n",
       "      <td>1</td>\n",
       "      <td>F1C668619DFE6E65</td>\n",
       "      <td>2020-12-07</td>\n",
       "      <td>N.America</td>\n",
       "      <td>Android</td>\n",
       "    </tr>\n",
       "    <tr>\n",
       "      <td>2</td>\n",
       "      <td>2E1BF1D4C37EA01F</td>\n",
       "      <td>2020-12-07</td>\n",
       "      <td>EU</td>\n",
       "      <td>PC</td>\n",
       "    </tr>\n",
       "    <tr>\n",
       "      <td>3</td>\n",
       "      <td>50734A22C0C63768</td>\n",
       "      <td>2020-12-07</td>\n",
       "      <td>EU</td>\n",
       "      <td>iPhone</td>\n",
       "    </tr>\n",
       "    <tr>\n",
       "      <td>4</td>\n",
       "      <td>E1BDDCE0DAFA2679</td>\n",
       "      <td>2020-12-07</td>\n",
       "      <td>N.America</td>\n",
       "      <td>iPhone</td>\n",
       "    </tr>\n",
       "  </tbody>\n",
       "</table>\n",
       "</div>"
      ],
      "text/plain": [
       "            user_id  first_date     region   device\n",
       "0  D72A72121175D8BE  2020-12-07         EU       PC\n",
       "1  F1C668619DFE6E65  2020-12-07  N.America  Android\n",
       "2  2E1BF1D4C37EA01F  2020-12-07         EU       PC\n",
       "3  50734A22C0C63768  2020-12-07         EU   iPhone\n",
       "4  E1BDDCE0DAFA2679  2020-12-07  N.America   iPhone"
      ]
     },
     "execution_count": 4,
     "metadata": {},
     "output_type": "execute_result"
    }
   ],
   "source": [
    "new_users =  pd.read_csv('final_ab_new_users.csv')\n",
    "new_users.head()"
   ]
  },
  {
   "cell_type": "code",
   "execution_count": 5,
   "metadata": {},
   "outputs": [
    {
     "data": {
      "text/html": [
       "<div>\n",
       "<style scoped>\n",
       "    .dataframe tbody tr th:only-of-type {\n",
       "        vertical-align: middle;\n",
       "    }\n",
       "\n",
       "    .dataframe tbody tr th {\n",
       "        vertical-align: top;\n",
       "    }\n",
       "\n",
       "    .dataframe thead th {\n",
       "        text-align: right;\n",
       "    }\n",
       "</style>\n",
       "<table border=\"1\" class=\"dataframe\">\n",
       "  <thead>\n",
       "    <tr style=\"text-align: right;\">\n",
       "      <th></th>\n",
       "      <th>user_id</th>\n",
       "      <th>event_dt</th>\n",
       "      <th>event_name</th>\n",
       "      <th>details</th>\n",
       "    </tr>\n",
       "  </thead>\n",
       "  <tbody>\n",
       "    <tr>\n",
       "      <td>0</td>\n",
       "      <td>E1BDDCE0DAFA2679</td>\n",
       "      <td>2020-12-07 20:22:03</td>\n",
       "      <td>purchase</td>\n",
       "      <td>99.99</td>\n",
       "    </tr>\n",
       "    <tr>\n",
       "      <td>1</td>\n",
       "      <td>7B6452F081F49504</td>\n",
       "      <td>2020-12-07 09:22:53</td>\n",
       "      <td>purchase</td>\n",
       "      <td>9.99</td>\n",
       "    </tr>\n",
       "    <tr>\n",
       "      <td>2</td>\n",
       "      <td>9CD9F34546DF254C</td>\n",
       "      <td>2020-12-07 12:59:29</td>\n",
       "      <td>purchase</td>\n",
       "      <td>4.99</td>\n",
       "    </tr>\n",
       "    <tr>\n",
       "      <td>3</td>\n",
       "      <td>96F27A054B191457</td>\n",
       "      <td>2020-12-07 04:02:40</td>\n",
       "      <td>purchase</td>\n",
       "      <td>4.99</td>\n",
       "    </tr>\n",
       "    <tr>\n",
       "      <td>4</td>\n",
       "      <td>1FD7660FDF94CA1F</td>\n",
       "      <td>2020-12-07 10:15:09</td>\n",
       "      <td>purchase</td>\n",
       "      <td>4.99</td>\n",
       "    </tr>\n",
       "  </tbody>\n",
       "</table>\n",
       "</div>"
      ],
      "text/plain": [
       "            user_id             event_dt event_name  details\n",
       "0  E1BDDCE0DAFA2679  2020-12-07 20:22:03   purchase    99.99\n",
       "1  7B6452F081F49504  2020-12-07 09:22:53   purchase     9.99\n",
       "2  9CD9F34546DF254C  2020-12-07 12:59:29   purchase     4.99\n",
       "3  96F27A054B191457  2020-12-07 04:02:40   purchase     4.99\n",
       "4  1FD7660FDF94CA1F  2020-12-07 10:15:09   purchase     4.99"
      ]
     },
     "execution_count": 5,
     "metadata": {},
     "output_type": "execute_result"
    }
   ],
   "source": [
    "events = pd.read_csv('final_ab_events.csv')\n",
    "events.head()"
   ]
  },
  {
   "cell_type": "code",
   "execution_count": 6,
   "metadata": {},
   "outputs": [
    {
     "data": {
      "text/html": [
       "<div>\n",
       "<style scoped>\n",
       "    .dataframe tbody tr th:only-of-type {\n",
       "        vertical-align: middle;\n",
       "    }\n",
       "\n",
       "    .dataframe tbody tr th {\n",
       "        vertical-align: top;\n",
       "    }\n",
       "\n",
       "    .dataframe thead th {\n",
       "        text-align: right;\n",
       "    }\n",
       "</style>\n",
       "<table border=\"1\" class=\"dataframe\">\n",
       "  <thead>\n",
       "    <tr style=\"text-align: right;\">\n",
       "      <th></th>\n",
       "      <th>user_id</th>\n",
       "      <th>group</th>\n",
       "      <th>ab_test</th>\n",
       "    </tr>\n",
       "  </thead>\n",
       "  <tbody>\n",
       "    <tr>\n",
       "      <td>0</td>\n",
       "      <td>D1ABA3E2887B6A73</td>\n",
       "      <td>A</td>\n",
       "      <td>recommender_system_test</td>\n",
       "    </tr>\n",
       "    <tr>\n",
       "      <td>1</td>\n",
       "      <td>A7A3664BD6242119</td>\n",
       "      <td>A</td>\n",
       "      <td>recommender_system_test</td>\n",
       "    </tr>\n",
       "    <tr>\n",
       "      <td>2</td>\n",
       "      <td>DABC14FDDFADD29E</td>\n",
       "      <td>A</td>\n",
       "      <td>recommender_system_test</td>\n",
       "    </tr>\n",
       "    <tr>\n",
       "      <td>3</td>\n",
       "      <td>04988C5DF189632E</td>\n",
       "      <td>A</td>\n",
       "      <td>recommender_system_test</td>\n",
       "    </tr>\n",
       "    <tr>\n",
       "      <td>4</td>\n",
       "      <td>482F14783456D21B</td>\n",
       "      <td>B</td>\n",
       "      <td>recommender_system_test</td>\n",
       "    </tr>\n",
       "  </tbody>\n",
       "</table>\n",
       "</div>"
      ],
      "text/plain": [
       "            user_id group                  ab_test\n",
       "0  D1ABA3E2887B6A73     A  recommender_system_test\n",
       "1  A7A3664BD6242119     A  recommender_system_test\n",
       "2  DABC14FDDFADD29E     A  recommender_system_test\n",
       "3  04988C5DF189632E     A  recommender_system_test\n",
       "4  482F14783456D21B     B  recommender_system_test"
      ]
     },
     "execution_count": 6,
     "metadata": {},
     "output_type": "execute_result"
    }
   ],
   "source": [
    "participants = pd.read_csv('final_ab_participants.csv')\n",
    "participants.head()"
   ]
  },
  {
   "cell_type": "code",
   "execution_count": 7,
   "metadata": {},
   "outputs": [],
   "source": [
    "# Словарь таблиц\n",
    "dfs = {'marketing_events' : marketing_events, 'new_users' : new_users, \n",
    "       'events' : events, 'participants' : participants}"
   ]
  },
  {
   "cell_type": "code",
   "execution_count": 8,
   "metadata": {},
   "outputs": [
    {
     "name": "stdout",
     "output_type": "stream",
     "text": [
      "marketing_events\n",
      "\n",
      "<class 'pandas.core.frame.DataFrame'>\n",
      "RangeIndex: 14 entries, 0 to 13\n",
      "Data columns (total 4 columns):\n",
      "name         14 non-null object\n",
      "regions      14 non-null object\n",
      "start_dt     14 non-null object\n",
      "finish_dt    14 non-null object\n",
      "dtypes: object(4)\n",
      "memory usage: 576.0+ bytes\n",
      "None\n",
      "\n",
      "Количество грубых дубликатов: 0\n",
      "\n",
      "new_users\n",
      "\n",
      "<class 'pandas.core.frame.DataFrame'>\n",
      "RangeIndex: 61733 entries, 0 to 61732\n",
      "Data columns (total 4 columns):\n",
      "user_id       61733 non-null object\n",
      "first_date    61733 non-null object\n",
      "region        61733 non-null object\n",
      "device        61733 non-null object\n",
      "dtypes: object(4)\n",
      "memory usage: 1.9+ MB\n",
      "None\n",
      "\n",
      "Количество грубых дубликатов: 0\n",
      "\n",
      "events\n",
      "\n",
      "<class 'pandas.core.frame.DataFrame'>\n",
      "RangeIndex: 440317 entries, 0 to 440316\n",
      "Data columns (total 4 columns):\n",
      "user_id       440317 non-null object\n",
      "event_dt      440317 non-null object\n",
      "event_name    440317 non-null object\n",
      "details       62740 non-null float64\n",
      "dtypes: float64(1), object(3)\n",
      "memory usage: 13.4+ MB\n",
      "None\n",
      "\n",
      "Количество грубых дубликатов: 0\n",
      "\n",
      "participants\n",
      "\n",
      "<class 'pandas.core.frame.DataFrame'>\n",
      "RangeIndex: 18268 entries, 0 to 18267\n",
      "Data columns (total 3 columns):\n",
      "user_id    18268 non-null object\n",
      "group      18268 non-null object\n",
      "ab_test    18268 non-null object\n",
      "dtypes: object(3)\n",
      "memory usage: 428.3+ KB\n",
      "None\n",
      "\n",
      "Количество грубых дубликатов: 0\n",
      "\n"
     ]
    }
   ],
   "source": [
    "# Проверка типов данных, пропусков и наличия грубых дубликатов для всех таблиц\n",
    "for name, df in dfs.items():    \n",
    "    print(name)\n",
    "    print()\n",
    "    print(df.info())\n",
    "    print()\n",
    "    print('Количество грубых дубликатов: {}'.format(df.duplicated().sum()))\n",
    "    print()"
   ]
  },
  {
   "cell_type": "code",
   "execution_count": 9,
   "metadata": {},
   "outputs": [
    {
     "name": "stdout",
     "output_type": "stream",
     "text": [
      "marketing_events\n",
      "\n",
      "name\n",
      "['Christmas&New Year Promo' \"St. Valentine's Day Giveaway\"\n",
      " \"St. Patric's Day Promo\" 'Easter Promo' '4th of July Promo'\n",
      " 'Black Friday Ads Campaign' 'Chinese New Year Promo'\n",
      " 'Labor day (May 1st) Ads Campaign' \"International Women's Day Promo\"\n",
      " 'Victory Day CIS (May 9th) Event' 'CIS New Year Gift Lottery'\n",
      " 'Dragon Boat Festival Giveaway' \"Single's Day Gift Promo\"\n",
      " 'Chinese Moon Festival']\n",
      "regions\n",
      "['EU, N.America' 'EU, CIS, APAC, N.America' 'N.America' 'APAC'\n",
      " 'EU, CIS, APAC' 'CIS']\n",
      "start_dt\n",
      "['2020-12-25' '2020-02-14' '2020-03-17' '2020-04-12' '2020-07-04'\n",
      " '2020-11-26' '2020-01-25' '2020-05-01' '2020-03-08' '2020-05-09'\n",
      " '2020-12-30' '2020-06-25' '2020-11-11' '2020-10-01']\n",
      "finish_dt\n",
      "['2021-01-03' '2020-02-16' '2020-03-19' '2020-04-19' '2020-07-11'\n",
      " '2020-12-01' '2020-02-07' '2020-05-03' '2020-03-10' '2020-05-11'\n",
      " '2021-01-07' '2020-07-01' '2020-11-12' '2020-10-07']\n",
      "\n",
      "new_users\n",
      "\n",
      "user_id\n",
      "['D72A72121175D8BE' 'F1C668619DFE6E65' '2E1BF1D4C37EA01F' ...\n",
      " '7ADEE837D5D8CBBD' '1C7D23927835213F' '8F04273BB2860229']\n",
      "first_date\n",
      "['2020-12-07' '2020-12-14' '2020-12-21' '2020-12-08' '2020-12-15'\n",
      " '2020-12-22' '2020-12-09' '2020-12-16' '2020-12-23' '2020-12-10'\n",
      " '2020-12-17' '2020-12-11' '2020-12-18' '2020-12-12' '2020-12-19'\n",
      " '2020-12-13' '2020-12-20']\n",
      "region\n",
      "['EU' 'N.America' 'APAC' 'CIS']\n",
      "device\n",
      "['PC' 'Android' 'iPhone' 'Mac']\n",
      "\n",
      "events\n",
      "\n",
      "user_id\n",
      "['E1BDDCE0DAFA2679' '7B6452F081F49504' '9CD9F34546DF254C' ...\n",
      " 'C9F1399FDCD83F13' '4F32B58E4FF19DC5' '27767D4BECDD260E']\n",
      "event_dt\n",
      "['2020-12-07 20:22:03' '2020-12-07 09:22:53' '2020-12-07 12:59:29' ...\n",
      " '2020-12-30 12:21:24' '2020-12-30 10:54:15' '2020-12-30 10:59:09']\n",
      "event_name\n",
      "['purchase' 'product_cart' 'product_page' 'login']\n",
      "details\n",
      "[ 99.99   9.99   4.99 499.99    nan]\n",
      "\n",
      "participants\n",
      "\n",
      "user_id\n",
      "['D1ABA3E2887B6A73' 'A7A3664BD6242119' 'DABC14FDDFADD29E' ...\n",
      " 'F501F79D332BE86C' '63FBE257B05F2245' '79F9ABFB029CF724']\n",
      "group\n",
      "['A' 'B']\n",
      "ab_test\n",
      "['recommender_system_test' 'interface_eu_test']\n",
      "\n"
     ]
    }
   ],
   "source": [
    "# Проверка уникальных значений в столбцах таблиц\n",
    "for name, df in dfs.items(): \n",
    "    print(name)\n",
    "    print()\n",
    "    for i in df.columns:\n",
    "        print(i)\n",
    "        print(df[i].unique())\n",
    "    print()"
   ]
  },
  {
   "cell_type": "markdown",
   "metadata": {},
   "source": [
    "Исходя из первичного осмотра данных, можно сделать следующие выводы:\n",
    "1. пропуски и грубые дубликаты в данных отсутствуют, за исключение столбца `details` таблицы `events`, что некритично, т.к. это необязательный параметр, и не по всем записям хранятся дополнительные данные о событии;\n",
    "2. необходимо привести даты в таблицах `marketing_events`, `new_users`, `events`, `participants` к типу данных `datetime64`;\n",
    "3. из таблицы `marketing_events` необходимо выбрать только те события, которые соответствуют региону (`EU`) и датам проведения (`2020-12-07` - `2021-01-04`) AB-теста;\n",
    "4. в таблицу `new_users` попали пользователи, несоответствующие ТЗ AB-теста: необходимо выбрать только тех пользователей, которые соответствуют региону (`EU`) и временному периоду набора новых пользователей (`2020-12-07` - `2020-12-21`);\n",
    "5. в таблице `participants` необходимо оставить только пользователей, относящихся к тесту `recommender_system_test`;\n",
    "6. в таблице `events` необходимо из столбца `event_dt` выделить дату события."
   ]
  },
  {
   "cell_type": "markdown",
   "metadata": {},
   "source": [
    "<a id='step2'></a>\n",
    "## Предобработка данных"
   ]
  },
  {
   "cell_type": "markdown",
   "metadata": {},
   "source": [
    "**Обработка дат**"
   ]
  },
  {
   "cell_type": "markdown",
   "metadata": {},
   "source": [
    "Приведем все даты к типу `datetime64`."
   ]
  },
  {
   "cell_type": "code",
   "execution_count": 10,
   "metadata": {},
   "outputs": [
    {
     "data": {
      "text/html": [
       "<div>\n",
       "<style scoped>\n",
       "    .dataframe tbody tr th:only-of-type {\n",
       "        vertical-align: middle;\n",
       "    }\n",
       "\n",
       "    .dataframe tbody tr th {\n",
       "        vertical-align: top;\n",
       "    }\n",
       "\n",
       "    .dataframe thead th {\n",
       "        text-align: right;\n",
       "    }\n",
       "</style>\n",
       "<table border=\"1\" class=\"dataframe\">\n",
       "  <thead>\n",
       "    <tr style=\"text-align: right;\">\n",
       "      <th></th>\n",
       "      <th>name</th>\n",
       "      <th>regions</th>\n",
       "      <th>start_dt</th>\n",
       "      <th>finish_dt</th>\n",
       "    </tr>\n",
       "  </thead>\n",
       "  <tbody>\n",
       "    <tr>\n",
       "      <td>0</td>\n",
       "      <td>Christmas&amp;New Year Promo</td>\n",
       "      <td>EU, N.America</td>\n",
       "      <td>2020-12-25</td>\n",
       "      <td>2021-01-03</td>\n",
       "    </tr>\n",
       "    <tr>\n",
       "      <td>1</td>\n",
       "      <td>St. Valentine's Day Giveaway</td>\n",
       "      <td>EU, CIS, APAC, N.America</td>\n",
       "      <td>2020-02-14</td>\n",
       "      <td>2020-02-16</td>\n",
       "    </tr>\n",
       "    <tr>\n",
       "      <td>2</td>\n",
       "      <td>St. Patric's Day Promo</td>\n",
       "      <td>EU, N.America</td>\n",
       "      <td>2020-03-17</td>\n",
       "      <td>2020-03-19</td>\n",
       "    </tr>\n",
       "    <tr>\n",
       "      <td>3</td>\n",
       "      <td>Easter Promo</td>\n",
       "      <td>EU, CIS, APAC, N.America</td>\n",
       "      <td>2020-04-12</td>\n",
       "      <td>2020-04-19</td>\n",
       "    </tr>\n",
       "    <tr>\n",
       "      <td>4</td>\n",
       "      <td>4th of July Promo</td>\n",
       "      <td>N.America</td>\n",
       "      <td>2020-07-04</td>\n",
       "      <td>2020-07-11</td>\n",
       "    </tr>\n",
       "  </tbody>\n",
       "</table>\n",
       "</div>"
      ],
      "text/plain": [
       "                           name                   regions   start_dt  \\\n",
       "0      Christmas&New Year Promo             EU, N.America 2020-12-25   \n",
       "1  St. Valentine's Day Giveaway  EU, CIS, APAC, N.America 2020-02-14   \n",
       "2        St. Patric's Day Promo             EU, N.America 2020-03-17   \n",
       "3                  Easter Promo  EU, CIS, APAC, N.America 2020-04-12   \n",
       "4             4th of July Promo                 N.America 2020-07-04   \n",
       "\n",
       "   finish_dt  \n",
       "0 2021-01-03  \n",
       "1 2020-02-16  \n",
       "2 2020-03-19  \n",
       "3 2020-04-19  \n",
       "4 2020-07-11  "
      ]
     },
     "metadata": {},
     "output_type": "display_data"
    },
    {
     "name": "stdout",
     "output_type": "stream",
     "text": [
      "<class 'pandas.core.frame.DataFrame'>\n",
      "RangeIndex: 14 entries, 0 to 13\n",
      "Data columns (total 4 columns):\n",
      "name         14 non-null object\n",
      "regions      14 non-null object\n",
      "start_dt     14 non-null datetime64[ns]\n",
      "finish_dt    14 non-null datetime64[ns]\n",
      "dtypes: datetime64[ns](2), object(2)\n",
      "memory usage: 576.0+ bytes\n",
      "None\n"
     ]
    },
    {
     "data": {
      "text/html": [
       "<div>\n",
       "<style scoped>\n",
       "    .dataframe tbody tr th:only-of-type {\n",
       "        vertical-align: middle;\n",
       "    }\n",
       "\n",
       "    .dataframe tbody tr th {\n",
       "        vertical-align: top;\n",
       "    }\n",
       "\n",
       "    .dataframe thead th {\n",
       "        text-align: right;\n",
       "    }\n",
       "</style>\n",
       "<table border=\"1\" class=\"dataframe\">\n",
       "  <thead>\n",
       "    <tr style=\"text-align: right;\">\n",
       "      <th></th>\n",
       "      <th>user_id</th>\n",
       "      <th>first_date</th>\n",
       "      <th>region</th>\n",
       "      <th>device</th>\n",
       "    </tr>\n",
       "  </thead>\n",
       "  <tbody>\n",
       "    <tr>\n",
       "      <td>0</td>\n",
       "      <td>D72A72121175D8BE</td>\n",
       "      <td>2020-12-07</td>\n",
       "      <td>EU</td>\n",
       "      <td>PC</td>\n",
       "    </tr>\n",
       "    <tr>\n",
       "      <td>1</td>\n",
       "      <td>F1C668619DFE6E65</td>\n",
       "      <td>2020-12-07</td>\n",
       "      <td>N.America</td>\n",
       "      <td>Android</td>\n",
       "    </tr>\n",
       "    <tr>\n",
       "      <td>2</td>\n",
       "      <td>2E1BF1D4C37EA01F</td>\n",
       "      <td>2020-12-07</td>\n",
       "      <td>EU</td>\n",
       "      <td>PC</td>\n",
       "    </tr>\n",
       "    <tr>\n",
       "      <td>3</td>\n",
       "      <td>50734A22C0C63768</td>\n",
       "      <td>2020-12-07</td>\n",
       "      <td>EU</td>\n",
       "      <td>iPhone</td>\n",
       "    </tr>\n",
       "    <tr>\n",
       "      <td>4</td>\n",
       "      <td>E1BDDCE0DAFA2679</td>\n",
       "      <td>2020-12-07</td>\n",
       "      <td>N.America</td>\n",
       "      <td>iPhone</td>\n",
       "    </tr>\n",
       "  </tbody>\n",
       "</table>\n",
       "</div>"
      ],
      "text/plain": [
       "            user_id first_date     region   device\n",
       "0  D72A72121175D8BE 2020-12-07         EU       PC\n",
       "1  F1C668619DFE6E65 2020-12-07  N.America  Android\n",
       "2  2E1BF1D4C37EA01F 2020-12-07         EU       PC\n",
       "3  50734A22C0C63768 2020-12-07         EU   iPhone\n",
       "4  E1BDDCE0DAFA2679 2020-12-07  N.America   iPhone"
      ]
     },
     "metadata": {},
     "output_type": "display_data"
    },
    {
     "name": "stdout",
     "output_type": "stream",
     "text": [
      "<class 'pandas.core.frame.DataFrame'>\n",
      "RangeIndex: 61733 entries, 0 to 61732\n",
      "Data columns (total 4 columns):\n",
      "user_id       61733 non-null object\n",
      "first_date    61733 non-null datetime64[ns]\n",
      "region        61733 non-null object\n",
      "device        61733 non-null object\n",
      "dtypes: datetime64[ns](1), object(3)\n",
      "memory usage: 1.9+ MB\n",
      "None\n"
     ]
    },
    {
     "data": {
      "text/html": [
       "<div>\n",
       "<style scoped>\n",
       "    .dataframe tbody tr th:only-of-type {\n",
       "        vertical-align: middle;\n",
       "    }\n",
       "\n",
       "    .dataframe tbody tr th {\n",
       "        vertical-align: top;\n",
       "    }\n",
       "\n",
       "    .dataframe thead th {\n",
       "        text-align: right;\n",
       "    }\n",
       "</style>\n",
       "<table border=\"1\" class=\"dataframe\">\n",
       "  <thead>\n",
       "    <tr style=\"text-align: right;\">\n",
       "      <th></th>\n",
       "      <th>user_id</th>\n",
       "      <th>event_dt</th>\n",
       "      <th>event_name</th>\n",
       "      <th>details</th>\n",
       "    </tr>\n",
       "  </thead>\n",
       "  <tbody>\n",
       "    <tr>\n",
       "      <td>0</td>\n",
       "      <td>E1BDDCE0DAFA2679</td>\n",
       "      <td>2020-12-07 20:22:03</td>\n",
       "      <td>purchase</td>\n",
       "      <td>99.99</td>\n",
       "    </tr>\n",
       "    <tr>\n",
       "      <td>1</td>\n",
       "      <td>7B6452F081F49504</td>\n",
       "      <td>2020-12-07 09:22:53</td>\n",
       "      <td>purchase</td>\n",
       "      <td>9.99</td>\n",
       "    </tr>\n",
       "    <tr>\n",
       "      <td>2</td>\n",
       "      <td>9CD9F34546DF254C</td>\n",
       "      <td>2020-12-07 12:59:29</td>\n",
       "      <td>purchase</td>\n",
       "      <td>4.99</td>\n",
       "    </tr>\n",
       "    <tr>\n",
       "      <td>3</td>\n",
       "      <td>96F27A054B191457</td>\n",
       "      <td>2020-12-07 04:02:40</td>\n",
       "      <td>purchase</td>\n",
       "      <td>4.99</td>\n",
       "    </tr>\n",
       "    <tr>\n",
       "      <td>4</td>\n",
       "      <td>1FD7660FDF94CA1F</td>\n",
       "      <td>2020-12-07 10:15:09</td>\n",
       "      <td>purchase</td>\n",
       "      <td>4.99</td>\n",
       "    </tr>\n",
       "  </tbody>\n",
       "</table>\n",
       "</div>"
      ],
      "text/plain": [
       "            user_id            event_dt event_name  details\n",
       "0  E1BDDCE0DAFA2679 2020-12-07 20:22:03   purchase    99.99\n",
       "1  7B6452F081F49504 2020-12-07 09:22:53   purchase     9.99\n",
       "2  9CD9F34546DF254C 2020-12-07 12:59:29   purchase     4.99\n",
       "3  96F27A054B191457 2020-12-07 04:02:40   purchase     4.99\n",
       "4  1FD7660FDF94CA1F 2020-12-07 10:15:09   purchase     4.99"
      ]
     },
     "metadata": {},
     "output_type": "display_data"
    },
    {
     "name": "stdout",
     "output_type": "stream",
     "text": [
      "<class 'pandas.core.frame.DataFrame'>\n",
      "RangeIndex: 440317 entries, 0 to 440316\n",
      "Data columns (total 4 columns):\n",
      "user_id       440317 non-null object\n",
      "event_dt      440317 non-null datetime64[ns]\n",
      "event_name    440317 non-null object\n",
      "details       62740 non-null float64\n",
      "dtypes: datetime64[ns](1), float64(1), object(2)\n",
      "memory usage: 13.4+ MB\n",
      "None\n"
     ]
    },
    {
     "data": {
      "text/html": [
       "<div>\n",
       "<style scoped>\n",
       "    .dataframe tbody tr th:only-of-type {\n",
       "        vertical-align: middle;\n",
       "    }\n",
       "\n",
       "    .dataframe tbody tr th {\n",
       "        vertical-align: top;\n",
       "    }\n",
       "\n",
       "    .dataframe thead th {\n",
       "        text-align: right;\n",
       "    }\n",
       "</style>\n",
       "<table border=\"1\" class=\"dataframe\">\n",
       "  <thead>\n",
       "    <tr style=\"text-align: right;\">\n",
       "      <th></th>\n",
       "      <th>user_id</th>\n",
       "      <th>group</th>\n",
       "      <th>ab_test</th>\n",
       "    </tr>\n",
       "  </thead>\n",
       "  <tbody>\n",
       "    <tr>\n",
       "      <td>0</td>\n",
       "      <td>D1ABA3E2887B6A73</td>\n",
       "      <td>A</td>\n",
       "      <td>recommender_system_test</td>\n",
       "    </tr>\n",
       "    <tr>\n",
       "      <td>1</td>\n",
       "      <td>A7A3664BD6242119</td>\n",
       "      <td>A</td>\n",
       "      <td>recommender_system_test</td>\n",
       "    </tr>\n",
       "    <tr>\n",
       "      <td>2</td>\n",
       "      <td>DABC14FDDFADD29E</td>\n",
       "      <td>A</td>\n",
       "      <td>recommender_system_test</td>\n",
       "    </tr>\n",
       "    <tr>\n",
       "      <td>3</td>\n",
       "      <td>04988C5DF189632E</td>\n",
       "      <td>A</td>\n",
       "      <td>recommender_system_test</td>\n",
       "    </tr>\n",
       "    <tr>\n",
       "      <td>4</td>\n",
       "      <td>482F14783456D21B</td>\n",
       "      <td>B</td>\n",
       "      <td>recommender_system_test</td>\n",
       "    </tr>\n",
       "  </tbody>\n",
       "</table>\n",
       "</div>"
      ],
      "text/plain": [
       "            user_id group                  ab_test\n",
       "0  D1ABA3E2887B6A73     A  recommender_system_test\n",
       "1  A7A3664BD6242119     A  recommender_system_test\n",
       "2  DABC14FDDFADD29E     A  recommender_system_test\n",
       "3  04988C5DF189632E     A  recommender_system_test\n",
       "4  482F14783456D21B     B  recommender_system_test"
      ]
     },
     "metadata": {},
     "output_type": "display_data"
    },
    {
     "name": "stdout",
     "output_type": "stream",
     "text": [
      "<class 'pandas.core.frame.DataFrame'>\n",
      "RangeIndex: 18268 entries, 0 to 18267\n",
      "Data columns (total 3 columns):\n",
      "user_id    18268 non-null object\n",
      "group      18268 non-null object\n",
      "ab_test    18268 non-null object\n",
      "dtypes: object(3)\n",
      "memory usage: 428.3+ KB\n",
      "None\n"
     ]
    }
   ],
   "source": [
    "# Приведение всех дат во всех табицах к типу datetime64\n",
    "for name, df in dfs.items():\n",
    "    for i in df.columns:\n",
    "        if 'dt' in i or 'date' in i:\n",
    "            df[i] = pd.to_datetime(df[i])\n",
    "    display(df.head())\n",
    "    print(df.info())"
   ]
  },
  {
   "cell_type": "markdown",
   "metadata": {},
   "source": [
    "Выделим дату события из столбца `event_dt` таблицы `events`."
   ]
  },
  {
   "cell_type": "code",
   "execution_count": 11,
   "metadata": {},
   "outputs": [
    {
     "data": {
      "text/html": [
       "<div>\n",
       "<style scoped>\n",
       "    .dataframe tbody tr th:only-of-type {\n",
       "        vertical-align: middle;\n",
       "    }\n",
       "\n",
       "    .dataframe tbody tr th {\n",
       "        vertical-align: top;\n",
       "    }\n",
       "\n",
       "    .dataframe thead th {\n",
       "        text-align: right;\n",
       "    }\n",
       "</style>\n",
       "<table border=\"1\" class=\"dataframe\">\n",
       "  <thead>\n",
       "    <tr style=\"text-align: right;\">\n",
       "      <th></th>\n",
       "      <th>user_id</th>\n",
       "      <th>event_dt</th>\n",
       "      <th>event_name</th>\n",
       "      <th>details</th>\n",
       "      <th>date</th>\n",
       "    </tr>\n",
       "  </thead>\n",
       "  <tbody>\n",
       "    <tr>\n",
       "      <td>103812</td>\n",
       "      <td>84E9BDB45E5595A8</td>\n",
       "      <td>2020-12-21 16:15:00</td>\n",
       "      <td>product_cart</td>\n",
       "      <td>NaN</td>\n",
       "      <td>2020-12-21</td>\n",
       "    </tr>\n",
       "    <tr>\n",
       "      <td>115254</td>\n",
       "      <td>0B575735D9892FED</td>\n",
       "      <td>2020-12-24 12:11:20</td>\n",
       "      <td>product_cart</td>\n",
       "      <td>NaN</td>\n",
       "      <td>2020-12-24</td>\n",
       "    </tr>\n",
       "    <tr>\n",
       "      <td>311231</td>\n",
       "      <td>B57D15DDF01BFA90</td>\n",
       "      <td>2020-12-15 00:47:03</td>\n",
       "      <td>login</td>\n",
       "      <td>NaN</td>\n",
       "      <td>2020-12-15</td>\n",
       "    </tr>\n",
       "    <tr>\n",
       "      <td>163733</td>\n",
       "      <td>CBCB434A80BE255A</td>\n",
       "      <td>2020-12-15 20:24:46</td>\n",
       "      <td>product_page</td>\n",
       "      <td>NaN</td>\n",
       "      <td>2020-12-15</td>\n",
       "    </tr>\n",
       "    <tr>\n",
       "      <td>84279</td>\n",
       "      <td>3B73C7C49821DD35</td>\n",
       "      <td>2020-12-15 16:27:20</td>\n",
       "      <td>product_cart</td>\n",
       "      <td>NaN</td>\n",
       "      <td>2020-12-15</td>\n",
       "    </tr>\n",
       "  </tbody>\n",
       "</table>\n",
       "</div>"
      ],
      "text/plain": [
       "                 user_id            event_dt    event_name  details       date\n",
       "103812  84E9BDB45E5595A8 2020-12-21 16:15:00  product_cart      NaN 2020-12-21\n",
       "115254  0B575735D9892FED 2020-12-24 12:11:20  product_cart      NaN 2020-12-24\n",
       "311231  B57D15DDF01BFA90 2020-12-15 00:47:03         login      NaN 2020-12-15\n",
       "163733  CBCB434A80BE255A 2020-12-15 20:24:46  product_page      NaN 2020-12-15\n",
       "84279   3B73C7C49821DD35 2020-12-15 16:27:20  product_cart      NaN 2020-12-15"
      ]
     },
     "execution_count": 11,
     "metadata": {},
     "output_type": "execute_result"
    }
   ],
   "source": [
    "events['date'] = events['event_dt'].dt.date\n",
    "events['date'] = pd.to_datetime(events['date'])\n",
    "events.sample(5)"
   ]
  },
  {
   "cell_type": "code",
   "execution_count": 12,
   "metadata": {},
   "outputs": [
    {
     "data": {
      "text/plain": [
       "count                  440317\n",
       "unique                     24\n",
       "top       2020-12-21 00:00:00\n",
       "freq                    32559\n",
       "first     2020-12-07 00:00:00\n",
       "last      2020-12-30 00:00:00\n",
       "Name: date, dtype: object"
      ]
     },
     "execution_count": 12,
     "metadata": {},
     "output_type": "execute_result"
    }
   ],
   "source": [
    "# Разброс значений дат в таблице\n",
    "events['date'].describe()"
   ]
  },
  {
   "cell_type": "markdown",
   "metadata": {},
   "source": [
    "**Фильтрция данных в таблице `marketing_events`**"
   ]
  },
  {
   "cell_type": "markdown",
   "metadata": {},
   "source": [
    "Выделим маркетинговые события, которые проходили в период проведения AB-теста."
   ]
  },
  {
   "cell_type": "code",
   "execution_count": 13,
   "metadata": {},
   "outputs": [
    {
     "data": {
      "text/html": [
       "<div>\n",
       "<style scoped>\n",
       "    .dataframe tbody tr th:only-of-type {\n",
       "        vertical-align: middle;\n",
       "    }\n",
       "\n",
       "    .dataframe tbody tr th {\n",
       "        vertical-align: top;\n",
       "    }\n",
       "\n",
       "    .dataframe thead th {\n",
       "        text-align: right;\n",
       "    }\n",
       "</style>\n",
       "<table border=\"1\" class=\"dataframe\">\n",
       "  <thead>\n",
       "    <tr style=\"text-align: right;\">\n",
       "      <th></th>\n",
       "      <th>name</th>\n",
       "      <th>regions</th>\n",
       "      <th>start_dt</th>\n",
       "      <th>finish_dt</th>\n",
       "    </tr>\n",
       "  </thead>\n",
       "  <tbody>\n",
       "    <tr>\n",
       "      <td>0</td>\n",
       "      <td>Christmas&amp;New Year Promo</td>\n",
       "      <td>EU, N.America</td>\n",
       "      <td>2020-12-25</td>\n",
       "      <td>2021-01-03</td>\n",
       "    </tr>\n",
       "  </tbody>\n",
       "</table>\n",
       "</div>"
      ],
      "text/plain": [
       "                       name        regions   start_dt  finish_dt\n",
       "0  Christmas&New Year Promo  EU, N.America 2020-12-25 2021-01-03"
      ]
     },
     "execution_count": 13,
     "metadata": {},
     "output_type": "execute_result"
    }
   ],
   "source": [
    "ab_marketing_events = marketing_events[(marketing_events['start_dt'] >= '2020-12-07') \n",
    "                                       & (marketing_events['finish_dt'] <= '2021-01-04') \n",
    "                                       & (marketing_events['regions'].str.contains('EU'))]\n",
    "ab_marketing_events"
   ]
  },
  {
   "cell_type": "markdown",
   "metadata": {},
   "source": [
    "**Фильтрция данных в таблице `new_users`**"
   ]
  },
  {
   "cell_type": "markdown",
   "metadata": {},
   "source": [
    "Выделим пользователей региона `EU`, чьи даты соответствуют датам набора новых пользователей (`2020-12-07` - `2020-12-21`)."
   ]
  },
  {
   "cell_type": "code",
   "execution_count": 14,
   "metadata": {},
   "outputs": [
    {
     "data": {
      "text/html": [
       "<div>\n",
       "<style scoped>\n",
       "    .dataframe tbody tr th:only-of-type {\n",
       "        vertical-align: middle;\n",
       "    }\n",
       "\n",
       "    .dataframe tbody tr th {\n",
       "        vertical-align: top;\n",
       "    }\n",
       "\n",
       "    .dataframe thead th {\n",
       "        text-align: right;\n",
       "    }\n",
       "</style>\n",
       "<table border=\"1\" class=\"dataframe\">\n",
       "  <thead>\n",
       "    <tr style=\"text-align: right;\">\n",
       "      <th></th>\n",
       "      <th>user_id</th>\n",
       "      <th>first_date</th>\n",
       "      <th>region</th>\n",
       "      <th>device</th>\n",
       "    </tr>\n",
       "  </thead>\n",
       "  <tbody>\n",
       "    <tr>\n",
       "      <td>13316</td>\n",
       "      <td>97E7AB0A787DCE46</td>\n",
       "      <td>2020-12-21</td>\n",
       "      <td>EU</td>\n",
       "      <td>iPhone</td>\n",
       "    </tr>\n",
       "    <tr>\n",
       "      <td>13315</td>\n",
       "      <td>662E8A4E0F1C1382</td>\n",
       "      <td>2020-12-21</td>\n",
       "      <td>EU</td>\n",
       "      <td>Android</td>\n",
       "    </tr>\n",
       "    <tr>\n",
       "      <td>13314</td>\n",
       "      <td>16FF2E767374D4AB</td>\n",
       "      <td>2020-12-21</td>\n",
       "      <td>EU</td>\n",
       "      <td>Android</td>\n",
       "    </tr>\n",
       "    <tr>\n",
       "      <td>13282</td>\n",
       "      <td>668A8E82618D438E</td>\n",
       "      <td>2020-12-21</td>\n",
       "      <td>EU</td>\n",
       "      <td>Android</td>\n",
       "    </tr>\n",
       "    <tr>\n",
       "      <td>14098</td>\n",
       "      <td>2C52C977465888B7</td>\n",
       "      <td>2020-12-21</td>\n",
       "      <td>EU</td>\n",
       "      <td>iPhone</td>\n",
       "    </tr>\n",
       "  </tbody>\n",
       "</table>\n",
       "</div>"
      ],
      "text/plain": [
       "                user_id first_date region   device\n",
       "13316  97E7AB0A787DCE46 2020-12-21     EU   iPhone\n",
       "13315  662E8A4E0F1C1382 2020-12-21     EU  Android\n",
       "13314  16FF2E767374D4AB 2020-12-21     EU  Android\n",
       "13282  668A8E82618D438E 2020-12-21     EU  Android\n",
       "14098  2C52C977465888B7 2020-12-21     EU   iPhone"
      ]
     },
     "execution_count": 14,
     "metadata": {},
     "output_type": "execute_result"
    }
   ],
   "source": [
    "ab_users = new_users[(new_users['first_date'] >= '2020-12-07')\n",
    "                     & (new_users['first_date'] <= '2020-12-21')\n",
    "                     & (new_users['region'] == 'EU')]\n",
    "ab_users.sort_values(by = 'first_date', ascending = True).tail()"
   ]
  },
  {
   "cell_type": "markdown",
   "metadata": {},
   "source": [
    "**Фильтрция данных в таблице `participants`**"
   ]
  },
  {
   "cell_type": "code",
   "execution_count": 15,
   "metadata": {},
   "outputs": [
    {
     "data": {
      "text/plain": [
       "array(['recommender_system_test', 'interface_eu_test'], dtype=object)"
      ]
     },
     "execution_count": 15,
     "metadata": {},
     "output_type": "execute_result"
    }
   ],
   "source": [
    "participants['ab_test'].unique()"
   ]
  },
  {
   "cell_type": "code",
   "execution_count": 16,
   "metadata": {},
   "outputs": [
    {
     "data": {
      "text/html": [
       "<div>\n",
       "<style scoped>\n",
       "    .dataframe tbody tr th:only-of-type {\n",
       "        vertical-align: middle;\n",
       "    }\n",
       "\n",
       "    .dataframe tbody tr th {\n",
       "        vertical-align: top;\n",
       "    }\n",
       "\n",
       "    .dataframe thead th {\n",
       "        text-align: right;\n",
       "    }\n",
       "</style>\n",
       "<table border=\"1\" class=\"dataframe\">\n",
       "  <thead>\n",
       "    <tr style=\"text-align: right;\">\n",
       "      <th></th>\n",
       "      <th>user_id</th>\n",
       "      <th>group</th>\n",
       "      <th>ab_test</th>\n",
       "    </tr>\n",
       "  </thead>\n",
       "  <tbody>\n",
       "    <tr>\n",
       "      <td>6696</td>\n",
       "      <td>053FB26D6D49EDDC</td>\n",
       "      <td>A</td>\n",
       "      <td>recommender_system_test</td>\n",
       "    </tr>\n",
       "    <tr>\n",
       "      <td>6697</td>\n",
       "      <td>9D263B8EF15CF188</td>\n",
       "      <td>B</td>\n",
       "      <td>recommender_system_test</td>\n",
       "    </tr>\n",
       "    <tr>\n",
       "      <td>6698</td>\n",
       "      <td>F2FBBA33F37DEC46</td>\n",
       "      <td>A</td>\n",
       "      <td>recommender_system_test</td>\n",
       "    </tr>\n",
       "    <tr>\n",
       "      <td>6699</td>\n",
       "      <td>29C92313A98B1176</td>\n",
       "      <td>B</td>\n",
       "      <td>recommender_system_test</td>\n",
       "    </tr>\n",
       "    <tr>\n",
       "      <td>6700</td>\n",
       "      <td>6715343AFBA285AE</td>\n",
       "      <td>B</td>\n",
       "      <td>recommender_system_test</td>\n",
       "    </tr>\n",
       "  </tbody>\n",
       "</table>\n",
       "</div>"
      ],
      "text/plain": [
       "               user_id group                  ab_test\n",
       "6696  053FB26D6D49EDDC     A  recommender_system_test\n",
       "6697  9D263B8EF15CF188     B  recommender_system_test\n",
       "6698  F2FBBA33F37DEC46     A  recommender_system_test\n",
       "6699  29C92313A98B1176     B  recommender_system_test\n",
       "6700  6715343AFBA285AE     B  recommender_system_test"
      ]
     },
     "execution_count": 16,
     "metadata": {},
     "output_type": "execute_result"
    }
   ],
   "source": [
    "ab_participants = participants.query('ab_test == \"recommender_system_test\"')\n",
    "ab_participants.tail()"
   ]
  },
  {
   "cell_type": "code",
   "execution_count": 17,
   "metadata": {},
   "outputs": [
    {
     "data": {
      "text/plain": [
       "array(['recommender_system_test'], dtype=object)"
      ]
     },
     "execution_count": 17,
     "metadata": {},
     "output_type": "execute_result"
    }
   ],
   "source": [
    "ab_participants['ab_test'].unique()"
   ]
  },
  {
   "cell_type": "markdown",
   "metadata": {},
   "source": [
    "Проверим, есть ли пользователи, которые одновременно участвовали в тесте `recommender_system_test` и во втором тесте `interface_eu_test` одновременно."
   ]
  },
  {
   "cell_type": "code",
   "execution_count": 18,
   "metadata": {},
   "outputs": [
    {
     "data": {
      "text/plain": [
       "1602"
      ]
     },
     "execution_count": 18,
     "metadata": {},
     "output_type": "execute_result"
    }
   ],
   "source": [
    "# Идентификаторы пользователей, участвующих в двух тестах одновременно\n",
    "intersected_users = ab_participants['user_id'][ab_participants['user_id'].isin(participants.query('ab_test == \"interface_eu_test\"')['user_id'])]\n",
    "\n",
    "# Количество пользователей, участвующих в двух тестах одновременно\n",
    "len(intersected_users)"
   ]
  },
  {
   "cell_type": "code",
   "execution_count": 19,
   "metadata": {},
   "outputs": [
    {
     "data": {
      "text/plain": [
       "0.23906879570213402"
      ]
     },
     "execution_count": 19,
     "metadata": {},
     "output_type": "execute_result"
    }
   ],
   "source": [
    "# Доля пользователей, участвующих в двух тестах одновременно, от числа участников теста \n",
    "len(intersected_users) / len(ab_participants)"
   ]
  },
  {
   "cell_type": "markdown",
   "metadata": {},
   "source": [
    "**Вывод**\n",
    "\n",
    "Была выполнена первичная предобработка данных: \n",
    "1. Все даты во всех таблицах были приведены к формату даты (тип данных `datetime64`).\n",
    "2. Были отфильтрованы данные во всех таблицах в соответствии с ТЗ AB-теста.  \n",
    "Отфильтрованные данные были записаны в таблицы `ab_marketing_events`, `ab_users` и `ab_participants`.\n",
    "\n",
    "В ходе предобработки данных:\n",
    "* было обнаружено 1602 пользователя, которые участвовали одновременно в двух проводимых AB-тестах (`recommender_system_test` и `interface_eu_test`), что составляет 24% от всех участников теста `recommender_system_test`. Поведение пользователей, одновременно участвующих в двух тестах одновременно, будет сложно интерпретировать, т.к. непонятно, изменения из какого теста повлияли на пользователей."
   ]
  },
  {
   "cell_type": "markdown",
   "metadata": {},
   "source": [
    "<a id='step3'></a>\n",
    "## Исследовательский анализ данных"
   ]
  },
  {
   "cell_type": "markdown",
   "metadata": {},
   "source": [
    "### Участники теста"
   ]
  },
  {
   "cell_type": "markdown",
   "metadata": {},
   "source": [
    "Проверим корректное разделение пользователей на группы, а также отсеем пользователей, которые не попадают в обозначенные в ТЗ временные сроки."
   ]
  },
  {
   "cell_type": "code",
   "execution_count": 20,
   "metadata": {},
   "outputs": [
    {
     "data": {
      "text/plain": [
       "6701"
      ]
     },
     "execution_count": 20,
     "metadata": {},
     "output_type": "execute_result"
    }
   ],
   "source": [
    "# Исходное количество пользователей в таблице с учатниками\n",
    "ab_participants['user_id'].nunique()"
   ]
  },
  {
   "cell_type": "code",
   "execution_count": 21,
   "metadata": {},
   "outputs": [
    {
     "data": {
      "text/plain": [
       "0"
      ]
     },
     "execution_count": 21,
     "metadata": {},
     "output_type": "execute_result"
    }
   ],
   "source": [
    "# Количество пользователей, записи по которым есть более чем в одной экспериментальной группе\n",
    "sum(ab_participants.groupby('user_id')['group'].nunique() > 1)"
   ]
  },
  {
   "cell_type": "markdown",
   "metadata": {},
   "source": [
    "Смержим участников АБ-теста с таблицей с новыми пользователями из региона EU, зарегистрированными в интересующий нас интервал времени. Оставим только тех пользователей, которые есть в обоих таблицах."
   ]
  },
  {
   "cell_type": "code",
   "execution_count": 22,
   "metadata": {},
   "outputs": [
    {
     "data": {
      "text/plain": [
       "6351"
      ]
     },
     "execution_count": 22,
     "metadata": {},
     "output_type": "execute_result"
    }
   ],
   "source": [
    "ab_participants = ab_participants.merge(ab_users, on = 'user_id', how = 'inner')\n",
    "# Длина таблицы после мержа\n",
    "len(ab_participants)"
   ]
  },
  {
   "cell_type": "markdown",
   "metadata": {},
   "source": [
    "Можно отметить, что количество участников уменьшилось. Скорее всего, в таблицу с участниками попали пользователи из других регионов, либо которые зарегестрировались вне заданного временного интервала."
   ]
  },
  {
   "cell_type": "markdown",
   "metadata": {},
   "source": [
    "Проверим размерность экспериментальных групп."
   ]
  },
  {
   "cell_type": "code",
   "execution_count": 23,
   "metadata": {},
   "outputs": [
    {
     "data": {
      "text/html": [
       "<div>\n",
       "<style scoped>\n",
       "    .dataframe tbody tr th:only-of-type {\n",
       "        vertical-align: middle;\n",
       "    }\n",
       "\n",
       "    .dataframe tbody tr th {\n",
       "        vertical-align: top;\n",
       "    }\n",
       "\n",
       "    .dataframe thead th {\n",
       "        text-align: right;\n",
       "    }\n",
       "</style>\n",
       "<table border=\"1\" class=\"dataframe\">\n",
       "  <thead>\n",
       "    <tr style=\"text-align: right;\">\n",
       "      <th></th>\n",
       "      <th>group</th>\n",
       "      <th>rate</th>\n",
       "    </tr>\n",
       "  </thead>\n",
       "  <tbody>\n",
       "    <tr>\n",
       "      <td>A</td>\n",
       "      <td>3634</td>\n",
       "      <td>0.57</td>\n",
       "    </tr>\n",
       "    <tr>\n",
       "      <td>B</td>\n",
       "      <td>2717</td>\n",
       "      <td>0.43</td>\n",
       "    </tr>\n",
       "  </tbody>\n",
       "</table>\n",
       "</div>"
      ],
      "text/plain": [
       "   group  rate\n",
       "A   3634  0.57\n",
       "B   2717  0.43"
      ]
     },
     "execution_count": 23,
     "metadata": {},
     "output_type": "execute_result"
    }
   ],
   "source": [
    "# Размерность экспериментальных групп\n",
    "participants_info = ab_participants['group'].value_counts().to_frame()\n",
    "participants_info['rate'] = round(participants_info['group'] / participants_info['group'].sum(), 2)\n",
    "participants_info"
   ]
  },
  {
   "cell_type": "markdown",
   "metadata": {},
   "source": [
    "**Вывод**  \n",
    "\n",
    "Количество участников соответствует ТЗ, в то время как качество разбиения пользователей на группы для теста не очень хорошее: количество пользователей в экспериментальных группах различается на 14%, также в таблицу с участниками попали пользователи, не соответствующие ТЗ AB-теста (из других регионов, зарегистрированные в даты, выходящие за обозначенный интервал).\n",
    "Некорректность разделения на группы может сказаться на результатах, полученных в ходе проведения AB-теста."
   ]
  },
  {
   "cell_type": "markdown",
   "metadata": {},
   "source": [
    "### События"
   ]
  },
  {
   "cell_type": "markdown",
   "metadata": {},
   "source": [
    "**Фильтрация событий**"
   ]
  },
  {
   "cell_type": "markdown",
   "metadata": {},
   "source": [
    "Оставим в таблице с событиями информацию только по участникам AB-теста."
   ]
  },
  {
   "cell_type": "code",
   "execution_count": 24,
   "metadata": {},
   "outputs": [
    {
     "data": {
      "text/plain": [
       "440317"
      ]
     },
     "execution_count": 24,
     "metadata": {},
     "output_type": "execute_result"
    }
   ],
   "source": [
    "# Длина исходной таблицы с событиями\n",
    "len(events)"
   ]
  },
  {
   "cell_type": "code",
   "execution_count": 25,
   "metadata": {},
   "outputs": [],
   "source": [
    "# Список с идентификаторов участников\n",
    "list_of_participants = ab_participants['user_id'].unique()"
   ]
  },
  {
   "cell_type": "code",
   "execution_count": 26,
   "metadata": {},
   "outputs": [
    {
     "data": {
      "text/plain": [
       "23420"
      ]
     },
     "execution_count": 26,
     "metadata": {},
     "output_type": "execute_result"
    }
   ],
   "source": [
    "# Срез данных по участникам AB-теста\n",
    "events = events.query('user_id in @list_of_participants')\n",
    "# Итоговая длина таблицы с событиями\n",
    "len(events)"
   ]
  },
  {
   "cell_type": "markdown",
   "metadata": {},
   "source": [
    "Итого у нас имеется 23 420 событий в логах по участникам AB-теста.   \n",
    "Изучим их подробнее."
   ]
  },
  {
   "cell_type": "markdown",
   "metadata": {},
   "source": [
    "**Даты событий**"
   ]
  },
  {
   "cell_type": "markdown",
   "metadata": {},
   "source": [
    "Проверим интервал дат событий в таблицы"
   ]
  },
  {
   "cell_type": "code",
   "execution_count": 27,
   "metadata": {},
   "outputs": [
    {
     "data": {
      "text/plain": [
       "count                   23420\n",
       "unique                     24\n",
       "top       2020-12-21 00:00:00\n",
       "freq                     2304\n",
       "first     2020-12-07 00:00:00\n",
       "last      2020-12-30 00:00:00\n",
       "Name: date, dtype: object"
      ]
     },
     "execution_count": 27,
     "metadata": {},
     "output_type": "execute_result"
    }
   ],
   "source": [
    "# Даты проведения теста\n",
    "events['date'].describe()"
   ]
  },
  {
   "cell_type": "markdown",
   "metadata": {},
   "source": [
    "Временные границы проведения AB-теста по ТЗ: `2020-12-07` - `2021-01-04`. Однако в таблице с событиями содержатся данные только до `2020-12-30`. Либо по пользователям отсутствуют данные за первые числа января, либо данные в таблице неполные."
   ]
  },
  {
   "cell_type": "markdown",
   "metadata": {},
   "source": [
    "Проверим, пересекаются ли даты проведения маркетинговых кампаний `ab_marketing_events`  с датами событий в логах `events`."
   ]
  },
  {
   "cell_type": "code",
   "execution_count": 28,
   "metadata": {},
   "outputs": [
    {
     "data": {
      "text/html": [
       "<div>\n",
       "<style scoped>\n",
       "    .dataframe tbody tr th:only-of-type {\n",
       "        vertical-align: middle;\n",
       "    }\n",
       "\n",
       "    .dataframe tbody tr th {\n",
       "        vertical-align: top;\n",
       "    }\n",
       "\n",
       "    .dataframe thead th {\n",
       "        text-align: right;\n",
       "    }\n",
       "</style>\n",
       "<table border=\"1\" class=\"dataframe\">\n",
       "  <thead>\n",
       "    <tr style=\"text-align: right;\">\n",
       "      <th></th>\n",
       "      <th>name</th>\n",
       "      <th>regions</th>\n",
       "      <th>start_dt</th>\n",
       "      <th>finish_dt</th>\n",
       "    </tr>\n",
       "  </thead>\n",
       "  <tbody>\n",
       "    <tr>\n",
       "      <td>0</td>\n",
       "      <td>Christmas&amp;New Year Promo</td>\n",
       "      <td>EU, N.America</td>\n",
       "      <td>2020-12-25</td>\n",
       "      <td>2021-01-03</td>\n",
       "    </tr>\n",
       "  </tbody>\n",
       "</table>\n",
       "</div>"
      ],
      "text/plain": [
       "                       name        regions   start_dt  finish_dt\n",
       "0  Christmas&New Year Promo  EU, N.America 2020-12-25 2021-01-03"
      ]
     },
     "execution_count": 28,
     "metadata": {},
     "output_type": "execute_result"
    }
   ],
   "source": [
    "ab_marketing_events"
   ]
  },
  {
   "cell_type": "markdown",
   "metadata": {},
   "source": [
    "Видно, что даты одной маркетинговой акции пересекаются с датами проведения AB-теста. Данная акция может повлиять на поведение пользователей, что может исказить результаты AB-теста."
   ]
  },
  {
   "cell_type": "markdown",
   "metadata": {},
   "source": [
    "**Количество событий**"
   ]
  },
  {
   "cell_type": "markdown",
   "metadata": {},
   "source": [
    "**Распределение количества событий по датам**"
   ]
  },
  {
   "cell_type": "code",
   "execution_count": 29,
   "metadata": {},
   "outputs": [
    {
     "data": {
      "image/png": "[encoded data removed]",
      "text/plain": [
       "<Figure size 936x576 with 1 Axes>"
      ]
     },
     "metadata": {},
     "output_type": "display_data"
    }
   ],
   "source": [
    "# Построение графика распределения количества событий по датам\n",
    "plt.figure(figsize=(13, 8))\n",
    "\n",
    "ax = sns.countplot(data = events, y = 'date', color = new[0])\n",
    "\n",
    "# Настройка графика\n",
    "plt.title('График распределения количества событий по датам', pad = 20)\n",
    "plt.xlabel('Количество событий')\n",
    "plt.ylabel('')\n",
    "ax.set_yticklabels(pd.Series(events['date'].unique()).dt.date)\n",
    "\n",
    "plt.show()"
   ]
  },
  {
   "cell_type": "markdown",
   "metadata": {},
   "source": [
    "Количество событий по дням распределено не равномерно: можно отметить резкий рост в количестве событий начиная с 14 декабря, пик приходится на 21 декабря, после чего идет существенный спад в количестве событий. Такое неравномерное распределение данных можно связать с предрождественским периодом: на неделю перед Рождеством приходится резкий рост в количестве событий. "
   ]
  },
  {
   "cell_type": "markdown",
   "metadata": {},
   "source": [
    "**Распределение событий по количеству записей в логе**"
   ]
  },
  {
   "cell_type": "code",
   "execution_count": 30,
   "metadata": {
    "scrolled": false
   },
   "outputs": [
    {
     "data": {
      "image/png": "[encoded data removed]",
      "text/plain": [
       "<Figure size 936x576 with 1 Axes>"
      ]
     },
     "metadata": {},
     "output_type": "display_data"
    }
   ],
   "source": [
    "# Построение графика распределения событий по количеству записей в логе\n",
    "\n",
    "# Настройки фигуры \n",
    "plt.figure(figsize=(13, 8))\n",
    "\n",
    "ax = sns.countplot(data = events, \n",
    "                   x = 'event_name',\n",
    "                   order = events['event_name'].value_counts().index, palette = new);\n",
    "\n",
    "# Процентное соотношение\n",
    "total = len(df)\n",
    "for p in ax.patches:\n",
    "        percentage = '{:.1%}'.format(p.get_height()/total)\n",
    "        x = p.get_x() + p.get_width()/3.1\n",
    "        y = p.get_y() + p.get_height()\n",
    "        ax.annotate(percentage, (x, y))\n",
    "\n",
    "# Настройка графика\n",
    "plt.title('График распределения событий по количеству записей в логе', pad = 20)\n",
    "plt.xlabel('Событие')         \n",
    "plt.ylabel('Встречается в лог-файле, раз')\n",
    "\n",
    "\n",
    "plt.show()"
   ]
  },
  {
   "cell_type": "markdown",
   "metadata": {},
   "source": [
    "**Распределение количества событий по группам участников теста**"
   ]
  },
  {
   "cell_type": "markdown",
   "metadata": {},
   "source": [
    "Добавим в таблицу `events` информацию по экспериментальной пользовательской группе."
   ]
  },
  {
   "cell_type": "code",
   "execution_count": 31,
   "metadata": {},
   "outputs": [
    {
     "data": {
      "text/html": [
       "<div>\n",
       "<style scoped>\n",
       "    .dataframe tbody tr th:only-of-type {\n",
       "        vertical-align: middle;\n",
       "    }\n",
       "\n",
       "    .dataframe tbody tr th {\n",
       "        vertical-align: top;\n",
       "    }\n",
       "\n",
       "    .dataframe thead th {\n",
       "        text-align: right;\n",
       "    }\n",
       "</style>\n",
       "<table border=\"1\" class=\"dataframe\">\n",
       "  <thead>\n",
       "    <tr style=\"text-align: right;\">\n",
       "      <th></th>\n",
       "      <th>user_id</th>\n",
       "      <th>event_dt</th>\n",
       "      <th>event_name</th>\n",
       "      <th>details</th>\n",
       "      <th>date</th>\n",
       "      <th>group</th>\n",
       "    </tr>\n",
       "  </thead>\n",
       "  <tbody>\n",
       "    <tr>\n",
       "      <td>0</td>\n",
       "      <td>831887FE7F2D6CBA</td>\n",
       "      <td>2020-12-07 06:50:29</td>\n",
       "      <td>purchase</td>\n",
       "      <td>4.99</td>\n",
       "      <td>2020-12-07</td>\n",
       "      <td>A</td>\n",
       "    </tr>\n",
       "    <tr>\n",
       "      <td>1</td>\n",
       "      <td>3C5DD0288AC4FE23</td>\n",
       "      <td>2020-12-07 19:42:40</td>\n",
       "      <td>purchase</td>\n",
       "      <td>4.99</td>\n",
       "      <td>2020-12-07</td>\n",
       "      <td>A</td>\n",
       "    </tr>\n",
       "    <tr>\n",
       "      <td>2</td>\n",
       "      <td>49EA242586C87836</td>\n",
       "      <td>2020-12-07 06:31:24</td>\n",
       "      <td>purchase</td>\n",
       "      <td>99.99</td>\n",
       "      <td>2020-12-07</td>\n",
       "      <td>B</td>\n",
       "    </tr>\n",
       "    <tr>\n",
       "      <td>3</td>\n",
       "      <td>2B06EB547B7AAD08</td>\n",
       "      <td>2020-12-07 21:36:38</td>\n",
       "      <td>purchase</td>\n",
       "      <td>4.99</td>\n",
       "      <td>2020-12-07</td>\n",
       "      <td>A</td>\n",
       "    </tr>\n",
       "    <tr>\n",
       "      <td>4</td>\n",
       "      <td>A640F31CAC7823A6</td>\n",
       "      <td>2020-12-07 18:48:26</td>\n",
       "      <td>purchase</td>\n",
       "      <td>4.99</td>\n",
       "      <td>2020-12-07</td>\n",
       "      <td>B</td>\n",
       "    </tr>\n",
       "  </tbody>\n",
       "</table>\n",
       "</div>"
      ],
      "text/plain": [
       "            user_id            event_dt event_name  details       date group\n",
       "0  831887FE7F2D6CBA 2020-12-07 06:50:29   purchase     4.99 2020-12-07     A\n",
       "1  3C5DD0288AC4FE23 2020-12-07 19:42:40   purchase     4.99 2020-12-07     A\n",
       "2  49EA242586C87836 2020-12-07 06:31:24   purchase    99.99 2020-12-07     B\n",
       "3  2B06EB547B7AAD08 2020-12-07 21:36:38   purchase     4.99 2020-12-07     A\n",
       "4  A640F31CAC7823A6 2020-12-07 18:48:26   purchase     4.99 2020-12-07     B"
      ]
     },
     "execution_count": 31,
     "metadata": {},
     "output_type": "execute_result"
    }
   ],
   "source": [
    "events = events.merge(ab_participants[['user_id', 'group']], on = 'user_id', how = 'left')\n",
    "events.head()"
   ]
  },
  {
   "cell_type": "code",
   "execution_count": 32,
   "metadata": {},
   "outputs": [
    {
     "data": {
      "text/plain": [
       "array(['A', 'B'], dtype=object)"
      ]
     },
     "execution_count": 32,
     "metadata": {},
     "output_type": "execute_result"
    }
   ],
   "source": [
    "# Проверка, всем ли пользователям проставилась группа\n",
    "events['group'].unique()"
   ]
  },
  {
   "cell_type": "code",
   "execution_count": 33,
   "metadata": {
    "scrolled": true
   },
   "outputs": [
    {
     "name": "stdout",
     "output_type": "stream",
     "text": [
      "Количество событий по пользователей группы A: 18309\n",
      "Количество событий по пользователей группы B: 5111\n",
      "Количество уникальных пользователей, совершивших событие, разбитое по экспериментальным группам:\n"
     ]
    },
    {
     "data": {
      "text/html": [
       "<div>\n",
       "<style scoped>\n",
       "    .dataframe tbody tr th:only-of-type {\n",
       "        vertical-align: middle;\n",
       "    }\n",
       "\n",
       "    .dataframe tbody tr th {\n",
       "        vertical-align: top;\n",
       "    }\n",
       "\n",
       "    .dataframe thead th {\n",
       "        text-align: right;\n",
       "    }\n",
       "</style>\n",
       "<table border=\"1\" class=\"dataframe\">\n",
       "  <thead>\n",
       "    <tr style=\"text-align: right;\">\n",
       "      <th>group</th>\n",
       "      <th>A</th>\n",
       "      <th>B</th>\n",
       "    </tr>\n",
       "    <tr>\n",
       "      <th>event_name</th>\n",
       "      <th></th>\n",
       "      <th></th>\n",
       "    </tr>\n",
       "  </thead>\n",
       "  <tbody>\n",
       "    <tr>\n",
       "      <td>login</td>\n",
       "      <td>2604</td>\n",
       "      <td>877</td>\n",
       "    </tr>\n",
       "    <tr>\n",
       "      <td>product_cart</td>\n",
       "      <td>782</td>\n",
       "      <td>244</td>\n",
       "    </tr>\n",
       "    <tr>\n",
       "      <td>product_page</td>\n",
       "      <td>1685</td>\n",
       "      <td>493</td>\n",
       "    </tr>\n",
       "    <tr>\n",
       "      <td>purchase</td>\n",
       "      <td>833</td>\n",
       "      <td>249</td>\n",
       "    </tr>\n",
       "  </tbody>\n",
       "</table>\n",
       "</div>"
      ],
      "text/plain": [
       "group            A    B\n",
       "event_name             \n",
       "login         2604  877\n",
       "product_cart   782  244\n",
       "product_page  1685  493\n",
       "purchase       833  249"
      ]
     },
     "metadata": {},
     "output_type": "display_data"
    }
   ],
   "source": [
    "print('Количество событий по пользователей группы A:', len(events[events['group'] == 'A']))\n",
    "print('Количество событий по пользователей группы B:', len(events[events['group'] == 'B']))\n",
    "print('Количество уникальных пользователей, совершивших событие, разбитое по экспериментальным группам:')\n",
    "display(events.pivot_table(columns = 'group', index = 'event_name', values = 'user_id', aggfunc = 'nunique'))"
   ]
  },
  {
   "cell_type": "markdown",
   "metadata": {},
   "source": [
    "Распределений событий по экспериментальным группам неравномерное. Количество событий по пользователям в группе A более чем в три раза превышает количество событий по пользователям в группе B. Такой разброс в данных может сильно сказаться на качестве результатов AB теста."
   ]
  },
  {
   "cell_type": "markdown",
   "metadata": {},
   "source": [
    "**Количество пользователей по событиями**"
   ]
  },
  {
   "cell_type": "markdown",
   "metadata": {},
   "source": [
    "Проверим, по всем ли участникам AB-теста есть записи по событиям."
   ]
  },
  {
   "cell_type": "code",
   "execution_count": 34,
   "metadata": {},
   "outputs": [
    {
     "data": {
      "text/plain": [
       "3481"
      ]
     },
     "execution_count": 34,
     "metadata": {},
     "output_type": "execute_result"
    }
   ],
   "source": [
    "# Количество уникальных пользователей, по которым есть записи в таблице с событиями\n",
    "events['user_id'].nunique()"
   ]
  },
  {
   "cell_type": "code",
   "execution_count": 35,
   "metadata": {},
   "outputs": [
    {
     "data": {
      "text/plain": [
       "group\n",
       "A    2604\n",
       "B     877\n",
       "Name: user_id, dtype: int64"
      ]
     },
     "execution_count": 35,
     "metadata": {},
     "output_type": "execute_result"
    }
   ],
   "source": [
    "# Распределение пользователей по группам\n",
    "events.groupby('group')['user_id'].nunique()"
   ]
  },
  {
   "cell_type": "markdown",
   "metadata": {},
   "source": [
    "Количество пользователей, по которым есть записи в логе событий почти в два раза меньше, чем количество участников AB теста (из таблицы `ab_participants`), количество пользователей по группам распределено неравномерно: в группе A более чем в 3 раза больше, чем в группе B."
   ]
  },
  {
   "cell_type": "code",
   "execution_count": 36,
   "metadata": {},
   "outputs": [
    {
     "data": {
      "image/png": "[encoded data removed]",
      "text/plain": [
       "<Figure size 936x576 with 1 Axes>"
      ]
     },
     "metadata": {},
     "output_type": "display_data"
    }
   ],
   "source": [
    "# График количества уникальных пользователей, совершивших то или иное действие (событие)\n",
    "\n",
    "# Настройки фигуры \n",
    "plt.figure(figsize=(13, 8))\n",
    "\n",
    "# Количество уникальных пользователей, совершивших действия\n",
    "events_by_user = events.groupby('event_name', as_index = False).agg({'user_id' :'nunique'}).sort_values(by = 'user_id', ascending = False)\n",
    "\n",
    "ax = sns.barplot(data = events_by_user, \n",
    "                 x = 'event_name',\n",
    "                 y = 'user_id');\n",
    "\n",
    "# Процентное соотношение\n",
    "total = events['user_id'].nunique()\n",
    "for p in ax.patches:\n",
    "        percentage = '{:.1%}'.format(p.get_height()/total)\n",
    "        x = p.get_x() + p.get_width()/3.1\n",
    "        y = p.get_y() + p.get_height()\n",
    "        ax.annotate(percentage, (x, y))\n",
    "\n",
    "# Настройка графика\n",
    "plt.title('График количества уникальных пользователей, совершивших событие ', pad = 20)\n",
    "plt.xlabel('Событие')         \n",
    "plt.ylabel('Количество уникальных пользователей')\n",
    "\n",
    "\n",
    "plt.show()"
   ]
  },
  {
   "cell_type": "markdown",
   "metadata": {},
   "source": [
    "### Продуктовые воронки событий"
   ]
  },
  {
   "cell_type": "markdown",
   "metadata": {},
   "source": [
    "Исходя из построенного выше графика можно сделать вывод, что 100% пользователей начинают с действия `login`, после чего переходят на страницу/экран с товаром (`product_page`). \n",
    "Количество пользователей, совершающих действие покупки `purchase` превышает количество пользователей, совершающих переход на страницу/экран с корзиной (`product_cart`). Cкорее всего, для оформления заказа и покупки товара не обязательно переходить на страницу с корзиной.   \n",
    "В связи с этим рассмотрим 3 продуктовые воронки для двух экспериментальных групп: продуктовую воронку без учета последовательностей событий для всех событий, продуктовую воронку с учетом последовательности событий для всех событий и продуктовую воронку с учетом последовательности событий без события `product_cart`."
   ]
  },
  {
   "cell_type": "markdown",
   "metadata": {},
   "source": [
    "Продуктовая воронка полная: \n",
    "\n",
    "    Login  \n",
    "      ↓   \n",
    "    Product_page \n",
    "      ↓\n",
    "    Product_cart\n",
    "       ↓\n",
    "    Purchase \n",
    "    \n",
    "Продуктовая воронка без учета события `product_cart`: \n",
    "\n",
    "    Login  \n",
    "      ↓   \n",
    "    Product_page \n",
    "      ↓\n",
    "    Purchase "
   ]
  },
  {
   "cell_type": "markdown",
   "metadata": {},
   "source": [
    "#### Воронка без учета последовательностей событий"
   ]
  },
  {
   "cell_type": "code",
   "execution_count": 37,
   "metadata": {},
   "outputs": [],
   "source": [
    "# Воронка для событий группы A\n",
    "\n",
    "# Количество уникальных пользователей, совершивших событие\n",
    "funnel_1_a = events[events['group'] == 'A'].groupby('event_name', as_index = False).agg({'user_id' :'nunique'})\n",
    "funnel_1_a = funnel_1_a.sort_values(by = 'user_id', ascending = False)\n",
    "\n",
    "# Расчет доли пользователей, совершивших действие, от числа уникальных пользователей на первом шаге\n",
    "funnel_1_a['ratio_from_first'] = round((funnel_1_a['user_id'] / funnel_1_a['user_id'][0]).fillna(1), 2)"
   ]
  },
  {
   "cell_type": "code",
   "execution_count": 38,
   "metadata": {},
   "outputs": [],
   "source": [
    "# Воронка для событий группы B\n",
    "\n",
    "# Количество уникальных пользователей, совершивших событие\n",
    "funnel_1_b = events[events['group'] == 'B'].groupby('event_name', as_index = False).agg({'user_id' :'nunique'})\n",
    "funnel_1_b = funnel_1_b.sort_values(by = 'user_id', ascending = False)\n",
    "\n",
    "# Расчет доли пользователей, совершивших действие, от числа уникальных пользователей на первом шаге\n",
    "funnel_1_b['ratio_from_first'] = round((funnel_1_b['user_id'] / funnel_1_b['user_id'][0]).fillna(1), 2)"
   ]
  },
  {
   "cell_type": "code",
   "execution_count": 39,
   "metadata": {},
   "outputs": [
    {
     "name": "stdout",
     "output_type": "stream",
     "text": [
      "Воронка для событий группы A\n"
     ]
    },
    {
     "data": {
      "text/html": [
       "<div>\n",
       "<style scoped>\n",
       "    .dataframe tbody tr th:only-of-type {\n",
       "        vertical-align: middle;\n",
       "    }\n",
       "\n",
       "    .dataframe tbody tr th {\n",
       "        vertical-align: top;\n",
       "    }\n",
       "\n",
       "    .dataframe thead th {\n",
       "        text-align: right;\n",
       "    }\n",
       "</style>\n",
       "<table border=\"1\" class=\"dataframe\">\n",
       "  <thead>\n",
       "    <tr style=\"text-align: right;\">\n",
       "      <th></th>\n",
       "      <th>event_name</th>\n",
       "      <th>user_id</th>\n",
       "      <th>ratio_from_first</th>\n",
       "    </tr>\n",
       "  </thead>\n",
       "  <tbody>\n",
       "    <tr>\n",
       "      <td>0</td>\n",
       "      <td>login</td>\n",
       "      <td>2604</td>\n",
       "      <td>1.00</td>\n",
       "    </tr>\n",
       "    <tr>\n",
       "      <td>2</td>\n",
       "      <td>product_page</td>\n",
       "      <td>1685</td>\n",
       "      <td>0.65</td>\n",
       "    </tr>\n",
       "    <tr>\n",
       "      <td>3</td>\n",
       "      <td>purchase</td>\n",
       "      <td>833</td>\n",
       "      <td>0.32</td>\n",
       "    </tr>\n",
       "    <tr>\n",
       "      <td>1</td>\n",
       "      <td>product_cart</td>\n",
       "      <td>782</td>\n",
       "      <td>0.30</td>\n",
       "    </tr>\n",
       "  </tbody>\n",
       "</table>\n",
       "</div>"
      ],
      "text/plain": [
       "     event_name  user_id  ratio_from_first\n",
       "0         login     2604              1.00\n",
       "2  product_page     1685              0.65\n",
       "3      purchase      833              0.32\n",
       "1  product_cart      782              0.30"
      ]
     },
     "metadata": {},
     "output_type": "display_data"
    },
    {
     "name": "stdout",
     "output_type": "stream",
     "text": [
      "\n",
      "Воронка для событий группы B\n"
     ]
    },
    {
     "data": {
      "text/html": [
       "<div>\n",
       "<style scoped>\n",
       "    .dataframe tbody tr th:only-of-type {\n",
       "        vertical-align: middle;\n",
       "    }\n",
       "\n",
       "    .dataframe tbody tr th {\n",
       "        vertical-align: top;\n",
       "    }\n",
       "\n",
       "    .dataframe thead th {\n",
       "        text-align: right;\n",
       "    }\n",
       "</style>\n",
       "<table border=\"1\" class=\"dataframe\">\n",
       "  <thead>\n",
       "    <tr style=\"text-align: right;\">\n",
       "      <th></th>\n",
       "      <th>event_name</th>\n",
       "      <th>user_id</th>\n",
       "      <th>ratio_from_first</th>\n",
       "    </tr>\n",
       "  </thead>\n",
       "  <tbody>\n",
       "    <tr>\n",
       "      <td>0</td>\n",
       "      <td>login</td>\n",
       "      <td>877</td>\n",
       "      <td>1.00</td>\n",
       "    </tr>\n",
       "    <tr>\n",
       "      <td>2</td>\n",
       "      <td>product_page</td>\n",
       "      <td>493</td>\n",
       "      <td>0.56</td>\n",
       "    </tr>\n",
       "    <tr>\n",
       "      <td>3</td>\n",
       "      <td>purchase</td>\n",
       "      <td>249</td>\n",
       "      <td>0.28</td>\n",
       "    </tr>\n",
       "    <tr>\n",
       "      <td>1</td>\n",
       "      <td>product_cart</td>\n",
       "      <td>244</td>\n",
       "      <td>0.28</td>\n",
       "    </tr>\n",
       "  </tbody>\n",
       "</table>\n",
       "</div>"
      ],
      "text/plain": [
       "     event_name  user_id  ratio_from_first\n",
       "0         login      877              1.00\n",
       "2  product_page      493              0.56\n",
       "3      purchase      249              0.28\n",
       "1  product_cart      244              0.28"
      ]
     },
     "metadata": {},
     "output_type": "display_data"
    }
   ],
   "source": [
    "print('Воронка для событий группы A')\n",
    "display(funnel_1_a)\n",
    "print()\n",
    "print('Воронка для событий группы B')\n",
    "display(funnel_1_b)"
   ]
  },
  {
   "cell_type": "markdown",
   "metadata": {},
   "source": [
    "Показатели долей пользователей, совершивших действие, от числа уникальных пользователей на первом шаге, для группы B ниже, чем для группы A по всем событиям."
   ]
  },
  {
   "cell_type": "markdown",
   "metadata": {},
   "source": [
    "#### Воронки с учетом последовательностей  событий"
   ]
  },
  {
   "cell_type": "code",
   "execution_count": 40,
   "metadata": {},
   "outputs": [],
   "source": [
    "# Функция построения воронки, в flag передаются значения:\n",
    "#'yes' - воронка с событием product_cart\n",
    "#'no' - воронка без учета события product_cart\n",
    "\n",
    "def create_funnel(df, flag):\n",
    "    # Расчет времени первого действия, совершенного пользователем\n",
    "    first_events = df.pivot_table(index = 'user_id', columns = 'event_name', \n",
    "                                      values = 'event_dt', aggfunc = 'min')\n",
    "\n",
    "    # Список пользователей, совершивших действие 'login'\n",
    "    step_1 = ~first_events['login'].isnull()\n",
    "\n",
    "    # Список пользователей, совершивших действие 'product_page' после действия 'login'\n",
    "    step_2 = step_1 & (first_events['product_page'] >= first_events['login'])\n",
    "\n",
    "    if flag == 'yes':\n",
    "        # Список пользователей, совершивших действие 'product_cart' после действия 'product_page'\n",
    "        step_3 = step_2 & (first_events['product_cart'] >= first_events['product_page'])\n",
    "        # Список пользователей совершивших действие 'purchase' после действия 'product_cart'\n",
    "        step_4 = step_3 & (first_events['purchase'] >= first_events['product_cart'])\n",
    "        # Подсчет количества пользователей для событий\n",
    "        login = len(first_events[step_1])\n",
    "        product_page = len(first_events[step_2])\n",
    "        product_cart = len(first_events[step_3])\n",
    "        purchase = len(first_events[step_4])\n",
    "        # Сохранение данных в таблицу \n",
    "        data = {'event_name':['Логин', 'Страница с продуктом', 'Продуктовая корзина', 'Покупка'], \n",
    "                'users_count':[login, product_page, product_cart, purchase]}   \n",
    "    \n",
    "    if flag == 'no':\n",
    "        # Список пользователей, совершивших действие 'purchase' после действия 'product_page'\n",
    "        step_3 = step_2 & (first_events['purchase'] >= first_events['product_page'])\n",
    "        # Подсчет количества пользователей для событий\n",
    "        login = len(first_events[step_1])\n",
    "        product_page = len(first_events[step_2])\n",
    "        purchase = len(first_events[step_3])\n",
    "        # Сохранение данных в таблицу \n",
    "        data = {'event_name':['Логин', 'Страница с продуктом', 'Покупка'], \n",
    "                'users_count':[login, product_page, purchase]}\n",
    "    \n",
    "    \n",
    "    funnel = pd.DataFrame(data)\n",
    "    \n",
    "    # Расчет доли пользователей, совершивших действие, от числа уникальных пользователей на предыдущем шаге\n",
    "    funnel['ratio_from_prev'] = round((funnel['users_count'] / funnel['users_count'].shift(1)).fillna(1), 2)\n",
    "    return funnel"
   ]
  },
  {
   "cell_type": "code",
   "execution_count": 41,
   "metadata": {},
   "outputs": [],
   "source": [
    "funnel_2_a = create_funnel(events[events['group'] == 'A'], 'yes')\n",
    "funnel_2_b = create_funnel(events[events['group'] == 'B'], 'yes')\n",
    "funnel_3_a = create_funnel(events[events['group'] == 'A'], 'no')\n",
    "funnel_3_b = create_funnel(events[events['group'] == 'B'], 'no')"
   ]
  },
  {
   "cell_type": "code",
   "execution_count": 42,
   "metadata": {
    "scrolled": false
   },
   "outputs": [
    {
     "name": "stdout",
     "output_type": "stream",
     "text": [
      "Воронка с учетом последовательности событий\n",
      "Login -> Product_page -> Product_cart -> Purchase\n",
      "\n",
      "для группы A\n"
     ]
    },
    {
     "data": {
      "text/html": [
       "<div>\n",
       "<style scoped>\n",
       "    .dataframe tbody tr th:only-of-type {\n",
       "        vertical-align: middle;\n",
       "    }\n",
       "\n",
       "    .dataframe tbody tr th {\n",
       "        vertical-align: top;\n",
       "    }\n",
       "\n",
       "    .dataframe thead th {\n",
       "        text-align: right;\n",
       "    }\n",
       "</style>\n",
       "<table border=\"1\" class=\"dataframe\">\n",
       "  <thead>\n",
       "    <tr style=\"text-align: right;\">\n",
       "      <th></th>\n",
       "      <th>event_name</th>\n",
       "      <th>users_count</th>\n",
       "      <th>ratio_from_prev</th>\n",
       "    </tr>\n",
       "  </thead>\n",
       "  <tbody>\n",
       "    <tr>\n",
       "      <td>0</td>\n",
       "      <td>Логин</td>\n",
       "      <td>2604</td>\n",
       "      <td>1.00</td>\n",
       "    </tr>\n",
       "    <tr>\n",
       "      <td>1</td>\n",
       "      <td>Страница с продуктом</td>\n",
       "      <td>1685</td>\n",
       "      <td>0.65</td>\n",
       "    </tr>\n",
       "    <tr>\n",
       "      <td>2</td>\n",
       "      <td>Продуктовая корзина</td>\n",
       "      <td>369</td>\n",
       "      <td>0.22</td>\n",
       "    </tr>\n",
       "    <tr>\n",
       "      <td>3</td>\n",
       "      <td>Покупка</td>\n",
       "      <td>41</td>\n",
       "      <td>0.11</td>\n",
       "    </tr>\n",
       "  </tbody>\n",
       "</table>\n",
       "</div>"
      ],
      "text/plain": [
       "             event_name  users_count  ratio_from_prev\n",
       "0                 Логин         2604             1.00\n",
       "1  Страница с продуктом         1685             0.65\n",
       "2   Продуктовая корзина          369             0.22\n",
       "3               Покупка           41             0.11"
      ]
     },
     "metadata": {},
     "output_type": "display_data"
    },
    {
     "name": "stdout",
     "output_type": "stream",
     "text": [
      "\n",
      "для группы B\n"
     ]
    },
    {
     "data": {
      "text/html": [
       "<div>\n",
       "<style scoped>\n",
       "    .dataframe tbody tr th:only-of-type {\n",
       "        vertical-align: middle;\n",
       "    }\n",
       "\n",
       "    .dataframe tbody tr th {\n",
       "        vertical-align: top;\n",
       "    }\n",
       "\n",
       "    .dataframe thead th {\n",
       "        text-align: right;\n",
       "    }\n",
       "</style>\n",
       "<table border=\"1\" class=\"dataframe\">\n",
       "  <thead>\n",
       "    <tr style=\"text-align: right;\">\n",
       "      <th></th>\n",
       "      <th>event_name</th>\n",
       "      <th>users_count</th>\n",
       "      <th>ratio_from_prev</th>\n",
       "    </tr>\n",
       "  </thead>\n",
       "  <tbody>\n",
       "    <tr>\n",
       "      <td>0</td>\n",
       "      <td>Логин</td>\n",
       "      <td>877</td>\n",
       "      <td>1.00</td>\n",
       "    </tr>\n",
       "    <tr>\n",
       "      <td>1</td>\n",
       "      <td>Страница с продуктом</td>\n",
       "      <td>493</td>\n",
       "      <td>0.56</td>\n",
       "    </tr>\n",
       "    <tr>\n",
       "      <td>2</td>\n",
       "      <td>Продуктовая корзина</td>\n",
       "      <td>100</td>\n",
       "      <td>0.20</td>\n",
       "    </tr>\n",
       "    <tr>\n",
       "      <td>3</td>\n",
       "      <td>Покупка</td>\n",
       "      <td>10</td>\n",
       "      <td>0.10</td>\n",
       "    </tr>\n",
       "  </tbody>\n",
       "</table>\n",
       "</div>"
      ],
      "text/plain": [
       "             event_name  users_count  ratio_from_prev\n",
       "0                 Логин          877             1.00\n",
       "1  Страница с продуктом          493             0.56\n",
       "2   Продуктовая корзина          100             0.20\n",
       "3               Покупка           10             0.10"
      ]
     },
     "metadata": {},
     "output_type": "display_data"
    },
    {
     "name": "stdout",
     "output_type": "stream",
     "text": [
      "\n",
      "\n",
      "Воронка с учетом последовательности событий\n",
      "Login -> Product_page -> Purchase\n",
      "\n",
      "для группы A\n"
     ]
    },
    {
     "data": {
      "text/html": [
       "<div>\n",
       "<style scoped>\n",
       "    .dataframe tbody tr th:only-of-type {\n",
       "        vertical-align: middle;\n",
       "    }\n",
       "\n",
       "    .dataframe tbody tr th {\n",
       "        vertical-align: top;\n",
       "    }\n",
       "\n",
       "    .dataframe thead th {\n",
       "        text-align: right;\n",
       "    }\n",
       "</style>\n",
       "<table border=\"1\" class=\"dataframe\">\n",
       "  <thead>\n",
       "    <tr style=\"text-align: right;\">\n",
       "      <th></th>\n",
       "      <th>event_name</th>\n",
       "      <th>users_count</th>\n",
       "      <th>ratio_from_prev</th>\n",
       "    </tr>\n",
       "  </thead>\n",
       "  <tbody>\n",
       "    <tr>\n",
       "      <td>0</td>\n",
       "      <td>Логин</td>\n",
       "      <td>2604</td>\n",
       "      <td>1.00</td>\n",
       "    </tr>\n",
       "    <tr>\n",
       "      <td>1</td>\n",
       "      <td>Страница с продуктом</td>\n",
       "      <td>1685</td>\n",
       "      <td>0.65</td>\n",
       "    </tr>\n",
       "    <tr>\n",
       "      <td>2</td>\n",
       "      <td>Покупка</td>\n",
       "      <td>245</td>\n",
       "      <td>0.15</td>\n",
       "    </tr>\n",
       "  </tbody>\n",
       "</table>\n",
       "</div>"
      ],
      "text/plain": [
       "             event_name  users_count  ratio_from_prev\n",
       "0                 Логин         2604             1.00\n",
       "1  Страница с продуктом         1685             0.65\n",
       "2               Покупка          245             0.15"
      ]
     },
     "metadata": {},
     "output_type": "display_data"
    },
    {
     "name": "stdout",
     "output_type": "stream",
     "text": [
      "\n",
      "для группы B\n"
     ]
    },
    {
     "data": {
      "text/html": [
       "<div>\n",
       "<style scoped>\n",
       "    .dataframe tbody tr th:only-of-type {\n",
       "        vertical-align: middle;\n",
       "    }\n",
       "\n",
       "    .dataframe tbody tr th {\n",
       "        vertical-align: top;\n",
       "    }\n",
       "\n",
       "    .dataframe thead th {\n",
       "        text-align: right;\n",
       "    }\n",
       "</style>\n",
       "<table border=\"1\" class=\"dataframe\">\n",
       "  <thead>\n",
       "    <tr style=\"text-align: right;\">\n",
       "      <th></th>\n",
       "      <th>event_name</th>\n",
       "      <th>users_count</th>\n",
       "      <th>ratio_from_prev</th>\n",
       "    </tr>\n",
       "  </thead>\n",
       "  <tbody>\n",
       "    <tr>\n",
       "      <td>0</td>\n",
       "      <td>Логин</td>\n",
       "      <td>877</td>\n",
       "      <td>1.00</td>\n",
       "    </tr>\n",
       "    <tr>\n",
       "      <td>1</td>\n",
       "      <td>Страница с продуктом</td>\n",
       "      <td>493</td>\n",
       "      <td>0.56</td>\n",
       "    </tr>\n",
       "    <tr>\n",
       "      <td>2</td>\n",
       "      <td>Покупка</td>\n",
       "      <td>73</td>\n",
       "      <td>0.15</td>\n",
       "    </tr>\n",
       "  </tbody>\n",
       "</table>\n",
       "</div>"
      ],
      "text/plain": [
       "             event_name  users_count  ratio_from_prev\n",
       "0                 Логин          877             1.00\n",
       "1  Страница с продуктом          493             0.56\n",
       "2               Покупка           73             0.15"
      ]
     },
     "metadata": {},
     "output_type": "display_data"
    },
    {
     "name": "stdout",
     "output_type": "stream",
     "text": [
      "\n"
     ]
    }
   ],
   "source": [
    "print('Воронка с учетом последовательности событий')\n",
    "print('Login -> Product_page -> Product_cart -> Purchase')\n",
    "print()\n",
    "print('для группы A')\n",
    "display(funnel_2_a)\n",
    "print()\n",
    "print('для группы B')\n",
    "display(funnel_2_b)\n",
    "print()\n",
    "print()\n",
    "print('Воронка с учетом последовательности событий')\n",
    "print('Login -> Product_page -> Purchase')\n",
    "print()\n",
    "print('для группы A')\n",
    "display(funnel_3_a)\n",
    "print()\n",
    "print('для группы B')\n",
    "display(funnel_3_b)\n",
    "print()"
   ]
  },
  {
   "cell_type": "markdown",
   "metadata": {},
   "source": [
    "Изучив продуктовые воронки, можно предположить, что показатели (конверсии в события `product_page`, `product_cart` и `purchase`) для группы B хуже, чем для группы A. "
   ]
  },
  {
   "cell_type": "markdown",
   "metadata": {},
   "source": [
    "### Вывод"
   ]
  },
  {
   "cell_type": "markdown",
   "metadata": {},
   "source": [
    "В ходе проведения исследовательского анализа данных был обнаружен ряд нарушений в проведении AB-теста:\n",
    "* неравномерное распределение пользователей и событий между группами;\n",
    "* проведение маркетинговых кампаний в даты сбора тестовых данных;\n",
    "* неполные данные в таблице `events`.\n",
    "\n",
    "Также были изучены продуктовые воронки для двух групп теста без учета последовательности событий, а также с учетом последовательности событий:\n",
    "* предварительно, группа B показала себя хуже по всем показателя, чем группа A (но количество пользователей в группе B в три раза меньше, чем в группе A);\n",
    "* пользовательский путь нечетко определен, пользователи могут пропускать разные этапы воронки: например, не всегда перед совершением покупки (событие `purchase`) пользователи переходят в продуктовую корзину (событие `product_cart`)."
   ]
  },
  {
   "cell_type": "markdown",
   "metadata": {},
   "source": [
    "<a id='step4'></a>\n",
    "## Проверка статистической разницы конверсий в группах"
   ]
  },
  {
   "cell_type": "markdown",
   "metadata": {},
   "source": [
    "### Подготовка данных"
   ]
  },
  {
   "cell_type": "markdown",
   "metadata": {},
   "source": [
    "Подготовим таблицу по группам, где будет информация об общем количестве пользователей в группе и о количестве пользователей, совершивших событие, а также долю таких пользователей. Т.к. ранее было установлено, проход по всем этапам воронки не является обязательным условием, смотреть конверсию будем относительно общего числа клиентов."
   ]
  },
  {
   "cell_type": "code",
   "execution_count": 43,
   "metadata": {},
   "outputs": [
    {
     "data": {
      "text/html": [
       "<div>\n",
       "<style scoped>\n",
       "    .dataframe tbody tr th:only-of-type {\n",
       "        vertical-align: middle;\n",
       "    }\n",
       "\n",
       "    .dataframe tbody tr th {\n",
       "        vertical-align: top;\n",
       "    }\n",
       "\n",
       "    .dataframe thead th {\n",
       "        text-align: right;\n",
       "    }\n",
       "</style>\n",
       "<table border=\"1\" class=\"dataframe\">\n",
       "  <thead>\n",
       "    <tr style=\"text-align: right;\">\n",
       "      <th></th>\n",
       "      <th>group</th>\n",
       "      <th>event_name</th>\n",
       "      <th>user_id</th>\n",
       "    </tr>\n",
       "  </thead>\n",
       "  <tbody>\n",
       "    <tr>\n",
       "      <td>0</td>\n",
       "      <td>A</td>\n",
       "      <td>login</td>\n",
       "      <td>2604</td>\n",
       "    </tr>\n",
       "    <tr>\n",
       "      <td>1</td>\n",
       "      <td>A</td>\n",
       "      <td>product_cart</td>\n",
       "      <td>782</td>\n",
       "    </tr>\n",
       "    <tr>\n",
       "      <td>2</td>\n",
       "      <td>A</td>\n",
       "      <td>product_page</td>\n",
       "      <td>1685</td>\n",
       "    </tr>\n",
       "    <tr>\n",
       "      <td>3</td>\n",
       "      <td>A</td>\n",
       "      <td>purchase</td>\n",
       "      <td>833</td>\n",
       "    </tr>\n",
       "    <tr>\n",
       "      <td>4</td>\n",
       "      <td>B</td>\n",
       "      <td>login</td>\n",
       "      <td>877</td>\n",
       "    </tr>\n",
       "  </tbody>\n",
       "</table>\n",
       "</div>"
      ],
      "text/plain": [
       "  group    event_name  user_id\n",
       "0     A         login     2604\n",
       "1     A  product_cart      782\n",
       "2     A  product_page     1685\n",
       "3     A      purchase      833\n",
       "4     B         login      877"
      ]
     },
     "execution_count": 43,
     "metadata": {},
     "output_type": "execute_result"
    }
   ],
   "source": [
    "# Таблица с количеством уникальных пользователей по группам и событиям\n",
    "groups_by_events = events.groupby(['group', 'event_name'], as_index = False).agg({'user_id':'nunique'})\n",
    "groups_by_events.head()"
   ]
  },
  {
   "cell_type": "code",
   "execution_count": 44,
   "metadata": {},
   "outputs": [],
   "source": [
    "# Cрезы по каждой группе эксперимента\n",
    "group_a = events.query('group == \"A\"')\n",
    "group_b = events.query('group == \"B\"')"
   ]
  },
  {
   "cell_type": "code",
   "execution_count": 45,
   "metadata": {},
   "outputs": [],
   "source": [
    "# Словарь с количеством уникальных пользователей по группам\n",
    "groups_count_dict = {'A': group_a['user_id'].nunique(),\n",
    "                     'B': group_b['user_id'].nunique()}"
   ]
  },
  {
   "cell_type": "code",
   "execution_count": 46,
   "metadata": {},
   "outputs": [],
   "source": [
    "# Добавление нового столбца с количеством пользователей в группе\n",
    "# в соответствии с маппингом группа/количество пользователей\n",
    "\n",
    "groups_by_events['total'] = groups_by_events['group'].map(groups_count_dict)"
   ]
  },
  {
   "cell_type": "code",
   "execution_count": 47,
   "metadata": {},
   "outputs": [],
   "source": [
    "# Конверсия в событие от общего числа пользователей в группе\n",
    "groups_by_events['ratio_from_total'] = groups_by_events['user_id'] / groups_by_events['total']"
   ]
  },
  {
   "cell_type": "code",
   "execution_count": 48,
   "metadata": {},
   "outputs": [
    {
     "data": {
      "text/html": [
       "<div>\n",
       "<style scoped>\n",
       "    .dataframe tbody tr th:only-of-type {\n",
       "        vertical-align: middle;\n",
       "    }\n",
       "\n",
       "    .dataframe tbody tr th {\n",
       "        vertical-align: top;\n",
       "    }\n",
       "\n",
       "    .dataframe thead th {\n",
       "        text-align: right;\n",
       "    }\n",
       "</style>\n",
       "<table border=\"1\" class=\"dataframe\">\n",
       "  <thead>\n",
       "    <tr style=\"text-align: right;\">\n",
       "      <th></th>\n",
       "      <th>group</th>\n",
       "      <th>event_name</th>\n",
       "      <th>user_id</th>\n",
       "      <th>total</th>\n",
       "      <th>ratio_from_total</th>\n",
       "    </tr>\n",
       "  </thead>\n",
       "  <tbody>\n",
       "    <tr>\n",
       "      <td>0</td>\n",
       "      <td>A</td>\n",
       "      <td>login</td>\n",
       "      <td>2604</td>\n",
       "      <td>2604</td>\n",
       "      <td>1.000000</td>\n",
       "    </tr>\n",
       "    <tr>\n",
       "      <td>1</td>\n",
       "      <td>A</td>\n",
       "      <td>product_cart</td>\n",
       "      <td>782</td>\n",
       "      <td>2604</td>\n",
       "      <td>0.300307</td>\n",
       "    </tr>\n",
       "    <tr>\n",
       "      <td>2</td>\n",
       "      <td>A</td>\n",
       "      <td>product_page</td>\n",
       "      <td>1685</td>\n",
       "      <td>2604</td>\n",
       "      <td>0.647081</td>\n",
       "    </tr>\n",
       "    <tr>\n",
       "      <td>3</td>\n",
       "      <td>A</td>\n",
       "      <td>purchase</td>\n",
       "      <td>833</td>\n",
       "      <td>2604</td>\n",
       "      <td>0.319892</td>\n",
       "    </tr>\n",
       "    <tr>\n",
       "      <td>4</td>\n",
       "      <td>B</td>\n",
       "      <td>login</td>\n",
       "      <td>877</td>\n",
       "      <td>877</td>\n",
       "      <td>1.000000</td>\n",
       "    </tr>\n",
       "    <tr>\n",
       "      <td>5</td>\n",
       "      <td>B</td>\n",
       "      <td>product_cart</td>\n",
       "      <td>244</td>\n",
       "      <td>877</td>\n",
       "      <td>0.278221</td>\n",
       "    </tr>\n",
       "    <tr>\n",
       "      <td>6</td>\n",
       "      <td>B</td>\n",
       "      <td>product_page</td>\n",
       "      <td>493</td>\n",
       "      <td>877</td>\n",
       "      <td>0.562144</td>\n",
       "    </tr>\n",
       "    <tr>\n",
       "      <td>7</td>\n",
       "      <td>B</td>\n",
       "      <td>purchase</td>\n",
       "      <td>249</td>\n",
       "      <td>877</td>\n",
       "      <td>0.283922</td>\n",
       "    </tr>\n",
       "  </tbody>\n",
       "</table>\n",
       "</div>"
      ],
      "text/plain": [
       "  group    event_name  user_id  total  ratio_from_total\n",
       "0     A         login     2604   2604          1.000000\n",
       "1     A  product_cart      782   2604          0.300307\n",
       "2     A  product_page     1685   2604          0.647081\n",
       "3     A      purchase      833   2604          0.319892\n",
       "4     B         login      877    877          1.000000\n",
       "5     B  product_cart      244    877          0.278221\n",
       "6     B  product_page      493    877          0.562144\n",
       "7     B      purchase      249    877          0.283922"
      ]
     },
     "execution_count": 48,
     "metadata": {},
     "output_type": "execute_result"
    }
   ],
   "source": [
    "# Итоговая таблица\n",
    "groups_by_events"
   ]
  },
  {
   "cell_type": "markdown",
   "metadata": {},
   "source": [
    "### Функция Z-теста"
   ]
  },
  {
   "cell_type": "markdown",
   "metadata": {},
   "source": [
    "Задачу сравнения и определения статистической значимости между двумя генеральными совокупностями на основе пропорций в выборках будем решать с помощью Z-теста.\n"
   ]
  },
  {
   "cell_type": "markdown",
   "metadata": {},
   "source": [
    "<center><b>Z - критерий:\n",
    "<p>   \n",
    "\n",
    "$$Z \\approx \\frac{P_{1} - P_{2}}{(1 - P)(1/n_{1} + 1/n_{2})}$$"
   ]
  },
  {
   "cell_type": "code",
   "execution_count": 49,
   "metadata": {},
   "outputs": [],
   "source": [
    "def z_test(event, group1, group2):\n",
    "   \n",
    "    # срез данных по событию воронки продаж\n",
    "    event_slice = groups_by_events[(groups_by_events['event_name'] == event)]\n",
    "\n",
    "    # конверсия в первой группе от числа уникальных пользователей группы\n",
    "    p1 = event_slice[event_slice['group'] == group1]['ratio_from_total'].values[0]\n",
    "    # количество уникальных пользователей первой группы\n",
    "    n1 = event_slice[event_slice['group'] == group1]['total'].values[0]\n",
    "\n",
    "    # конверсия во второй группе от числа уникальных пользователей группы\n",
    "    p2 = event_slice[event_slice['group'] == group2]['ratio_from_total'].values[0]\n",
    "    # количество уникальных пользователей второй группы\n",
    "    n2 = event_slice[event_slice['group'] == group2]['total'].values[0]\n",
    "\n",
    "    # разница конверсий \n",
    "    dif = p1 - p2\n",
    "\n",
    "    # конверсия в комбинированном датасете:\n",
    "    p_combined = (\n",
    "    (event_slice[event_slice['group'] == group1]['user_id'].values[0] +\n",
    "     event_slice[event_slice['group'] == group2]['user_id'].values[0]) / \n",
    "    (event_slice[event_slice['group'] == group1]['total'].values[0] +\n",
    "     event_slice[event_slice['group'] == group2]['total'].values[0])\n",
    "    )\n",
    "\n",
    "    # расчет z-критерия\n",
    "    z_value = dif / mth.sqrt(p_combined * (1 - p_combined) * (1/n1 + 1/n2))\n",
    "\n",
    "    # стандартное нормальное распределение\n",
    "    distr = st.norm(0, 1)\n",
    "    \n",
    "    # расчет p-value\n",
    "    p_value = (1 - distr.cdf(abs(z_value))) * 2\n",
    "    print('p-значение: ', p_value)\n",
    "\n",
    "    # задаем уровень стат.значимости\n",
    "    alpha = 0.05\n",
    "\n",
    "    if (p_value < alpha):\n",
    "        print('Между конверсиями в событие {} группы {} и группы {} есть значимая разница'.format(event, group1, group2))\n",
    "    else:\n",
    "        print('Нет оснований считать конверсии в событие {} групп {} и {} разными'.format(event, group1, group2))"
   ]
  },
  {
   "cell_type": "markdown",
   "metadata": {},
   "source": [
    "### Сравнение конверсий в группах по событиям"
   ]
  },
  {
   "cell_type": "code",
   "execution_count": 50,
   "metadata": {},
   "outputs": [
    {
     "data": {
      "text/plain": [
       "array(['product_cart', 'product_page', 'purchase'], dtype=object)"
      ]
     },
     "execution_count": 50,
     "metadata": {},
     "output_type": "execute_result"
    }
   ],
   "source": [
    "# Список с уникальными названиями событий, за исключением события login\n",
    "event_name_dict = groups_by_events['event_name'].unique()[1:]\n",
    "event_name_dict"
   ]
  },
  {
   "cell_type": "code",
   "execution_count": 51,
   "metadata": {},
   "outputs": [
    {
     "name": "stdout",
     "output_type": "stream",
     "text": [
      "Событие product_cart\n",
      "p-значение:  0.21469192029582396\n",
      "Нет оснований считать конверсии в событие product_cart групп A и B разными\n",
      "\n",
      "Событие product_page\n",
      "p-значение:  6.942739359416805e-06\n",
      "Между конверсиями в событие product_page группы A и группы B есть значимая разница\n",
      "\n",
      "Событие purchase\n",
      "p-значение:  0.04652482738393027\n",
      "Между конверсиями в событие purchase группы A и группы B есть значимая разница\n",
      "\n"
     ]
    }
   ],
   "source": [
    "# Применение z-теста ко всем событиям (за ислючением события login) для групп A и B\n",
    "for i in event_name_dict:\n",
    "    print('Событие', i)\n",
    "    z_test(i, 'A', 'B')\n",
    "    print()"
   ]
  },
  {
   "cell_type": "markdown",
   "metadata": {},
   "source": [
    "<a id='step5'></a>\n",
    "## Общий вывод"
   ]
  },
  {
   "cell_type": "markdown",
   "metadata": {},
   "source": [
    "По результатам проведения анализа данных, собранных в ходе проведения AB-теста, можно сделать вывод, что конверсия в события `product_page`, `product_cart` и `purchase` в группе B хуже, чем в группе A. Причем различия между конверсиями в события `product_page` и `purchase ` статистически значимы, т.е. изменения, связанные с внедрением улучшенной рекомендательной системы, себя не оправдали, и новая платежная воронка показывает себя хуже.\n",
    "\n",
    "Однако был зафиксирован ряд грубых нарушений в процессе проведения теста, а именно:\n",
    "1. Неравномерное разбиение пользователей (участников) на группы (в группе A уникальных пользователей в 3 раза больше, чем в группе B), соответственно и количество событий распределено между группами неравномерно.\n",
    "2. Участие 24% пользователей одновременно во втором проводимом AB-тесте `interface_eu_test`.\n",
    "3. Итоговое количество участников теста почти в 2 раза меньше, чем было запланировано изначально (~3500 против 6000).\n",
    "4. В таблице с событиями есть данные только за период с 07.12.2020 по 30.12.2020, тогда как планируемый период для теста был определен с 07.12.2020 по 04.01.2021.\n",
    "5. Неудачный период для поведения теста: даты поведения теста попадают под рождественские и новогодние праздники: поведение покупателей в эти даты всегда меняется и не отражает реальной картины событий. Также в даты сбора тестовых данных проводилась маркетинговая кампания Christmas&New Year Promo  (c 25.12.2020 по 03.01.2021), которая могла повлиять на поведение определенных пользователей той или иной группы, а сведения о том, какие пользователи попали под действие данной акции, отсутствуют.  \n",
    "\n",
    "(!) В связи с выявленными нарушениями быть уверенными в достоверности сделанных выводов нельзя, поэтому нет оснований считать группу B хуже группы A. Необходимо заново провести тест, выбрав более подходящий период (без влияния сезонных события и маркетинговых кампаний), а также предварительно проведя AA-тест для проверки корректности работы инструмента разбиения пользователей на группы.\n"
   ]
  }
 ],
 "metadata": {
  "kernelspec": {
   "display_name": "Python 3",
   "language": "python",
   "name": "python3"
  },
  "language_info": {
   "codemirror_mode": {
    "name": "ipython",
    "version": 3
   },
   "file_extension": ".py",
   "mimetype": "text/x-python",
   "name": "python",
   "nbconvert_exporter": "python",
   "pygments_lexer": "ipython3",
   "version": "3.7.9"
  },
  "toc": {
   "base_numbering": 1,
   "nav_menu": {},
   "number_sections": false,
   "sideBar": true,
   "skip_h1_title": false,
   "title_cell": "Table of Contents",
   "title_sidebar": "Contents",
   "toc_cell": false,
   "toc_position": {
    "height": "calc(100% - 180px)",
    "left": "10px",
    "top": "150px",
    "width": "165px"
   },
   "toc_section_display": true,
   "toc_window_display": false
  }
 },
 "nbformat": 4,
 "nbformat_minor": 4
}
