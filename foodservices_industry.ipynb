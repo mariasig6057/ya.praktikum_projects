{
 "cells": [
  {
   "cell_type": "markdown",
   "metadata": {},
   "source": [
    "# Исследование рынка заведений общественного питания в Москве"
   ]
  },
  {
   "cell_type": "markdown",
   "metadata": {},
   "source": [
    "Задача  \n",
    "\n",
    "    Планируется открыть новое кофе в Москве, отличительной чертой которого будет облуживание посетителей роботами. Необходимо провести исследование текущего положения дел на рынке заведений общественного питания в Москве c целью анализа конкурентов нового кафе.\n",
    "\n",
    "Имеющиеся данные: \n",
    "* файл с данными о заведениях общественного питания в Москве;\n",
    "* список улиц и районов Москвы с сайта opengovdata\n"
   ]
  },
  {
   "cell_type": "markdown",
   "metadata": {},
   "source": [
    "### План работ\n",
    "0. [Глобальные настройки](#step0)\n",
    "1. [Шаг 1. Загрузка и предобработка данных](#step1)  \n",
    "2. [Шаг 2. Исследовательский анализ данных](#step2)  \n",
    "    2.1 [Исследуйте соотношение видов объектов общественного питания по количеству](#step2.1)    \n",
    "    2.2 [Исследуйте соотношение сетевых и несетевых заведений по количеству](#step2.2)  \n",
    "    2.3 [Для какого вида объекта общественного питания характерно сетевое распространение?](#step2.3)  \n",
    "    2.4 [Что характерно для сетевых заведений: много заведений с небольшим числом посадочных мест в каждом или мало заведений с большим количеством посадочных мест?](#step2.4)  \n",
    "    2.5 [Для каждого вида объекта общественного питания опишите среднее количество посадочных мест. Какой вид предоставляет в среднем самое большое количество посадочных мест?](#step2.5)    \n",
    "    2.6 [Выделите в отдельный столбец информацию об улице из столбца address](#step2.6)  \n",
    "    2.7 [Постройте график топ-10 улиц по количеству объектов общественного питания. В каких районах Москвы находятся эти улицы?](#step2.7)  \n",
    "    2.8 [Найдите число улиц с одним объектом общественного питания. В каких районах Москвы находятся эти улицы?](#step2.8)  \n",
    "    2.9 [Посмотрите на распределение количества посадочных мест для улиц с большим количеством объектов общественного питания. Какие закономерности можно выявить?](#step2.9)  \n",
    "3. [Шаг 3. Общий вывод](#step3)  \n",
    "4. [Презентация](#step4)"
   ]
  },
  {
   "cell_type": "markdown",
   "metadata": {},
   "source": [
    "<a id='step0'></a>\n",
    "## Глобальные настройки "
   ]
  },
  {
   "cell_type": "code",
   "execution_count": 1,
   "metadata": {},
   "outputs": [
    {
     "name": "stdout",
     "output_type": "stream",
     "text": [
      "Requirement already satisfied: folium in c:\\users\\asfil\\anaconda3\\envs\\practicum\\lib\\site-packages (0.12.1)\n",
      "Requirement already satisfied: branca>=0.3.0 in c:\\users\\asfil\\anaconda3\\envs\\practicum\\lib\\site-packages (from folium) (0.4.2)\n",
      "Requirement already satisfied: jinja2>=2.9 in c:\\users\\asfil\\anaconda3\\envs\\practicum\\lib\\site-packages (from folium) (2.11.2)\n",
      "Requirement already satisfied: requests in c:\\users\\asfil\\anaconda3\\envs\\practicum\\lib\\site-packages (from folium) (2.22.0)\n",
      "Requirement already satisfied: numpy in c:\\users\\asfil\\anaconda3\\envs\\practicum\\lib\\site-packages (from folium) (1.18.3)\n",
      "Requirement already satisfied: MarkupSafe>=0.23 in c:\\users\\asfil\\anaconda3\\envs\\practicum\\lib\\site-packages (from jinja2>=2.9->folium) (1.1.1)\n",
      "Requirement already satisfied: chardet<3.1.0,>=3.0.2 in c:\\users\\asfil\\anaconda3\\envs\\practicum\\lib\\site-packages (from requests->folium) (3.0.4)\n",
      "Requirement already satisfied: urllib3!=1.25.0,!=1.25.1,<1.26,>=1.21.1 in c:\\users\\asfil\\anaconda3\\envs\\practicum\\lib\\site-packages (from requests->folium) (1.25.11)\n",
      "Requirement already satisfied: idna<2.9,>=2.5 in c:\\users\\asfil\\anaconda3\\envs\\practicum\\lib\\site-packages (from requests->folium) (2.8)\n",
      "Requirement already satisfied: certifi>=2017.4.17 in c:\\users\\asfil\\anaconda3\\envs\\practicum\\lib\\site-packages (from requests->folium) (2020.12.5)\n"
     ]
    }
   ],
   "source": [
    "# Устновка библиотеки для отрисовки координат на графике\n",
    "!pip install folium"
   ]
  },
  {
   "cell_type": "code",
   "execution_count": 2,
   "metadata": {},
   "outputs": [],
   "source": [
    "# Импорт библиотек\n",
    "import pandas as pd\n",
    "import numpy as np\n",
    "\n",
    "# Построение графиков\n",
    "import matplotlib.pyplot as plt\n",
    "import seaborn as sns\n",
    "from numpy import median \n",
    "\n",
    "# Загрузка документа из Google Таблиц\n",
    "from io import BytesIO\n",
    "\n",
    "# Запросы к геокодеру Яндекса\n",
    "import requests\n",
    "from bs4 import BeautifulSoup\n",
    "\n",
    "# Отрисовка меток на карте\n",
    "import folium"
   ]
  },
  {
   "cell_type": "code",
   "execution_count": 3,
   "metadata": {},
   "outputs": [],
   "source": [
    "# Установка единой темы для всех графиков\n",
    "sns.set_style('whitegrid')"
   ]
  },
  {
   "cell_type": "markdown",
   "metadata": {},
   "source": [
    "<a id='step1'></a>\n",
    "## Шаг 1. Загрузка и предобработка данных"
   ]
  },
  {
   "cell_type": "code",
   "execution_count": 4,
   "metadata": {},
   "outputs": [],
   "source": [
    "df = pd.read_csv('rest_data.csv')"
   ]
  },
  {
   "cell_type": "code",
   "execution_count": 5,
   "metadata": {},
   "outputs": [
    {
     "data": {
      "text/html": [
       "<div>\n",
       "<style scoped>\n",
       "    .dataframe tbody tr th:only-of-type {\n",
       "        vertical-align: middle;\n",
       "    }\n",
       "\n",
       "    .dataframe tbody tr th {\n",
       "        vertical-align: top;\n",
       "    }\n",
       "\n",
       "    .dataframe thead th {\n",
       "        text-align: right;\n",
       "    }\n",
       "</style>\n",
       "<table border=\"1\" class=\"dataframe\">\n",
       "  <thead>\n",
       "    <tr style=\"text-align: right;\">\n",
       "      <th></th>\n",
       "      <th>id</th>\n",
       "      <th>object_name</th>\n",
       "      <th>chain</th>\n",
       "      <th>object_type</th>\n",
       "      <th>address</th>\n",
       "      <th>number</th>\n",
       "    </tr>\n",
       "  </thead>\n",
       "  <tbody>\n",
       "    <tr>\n",
       "      <td>0</td>\n",
       "      <td>151635</td>\n",
       "      <td>СМЕТАНА</td>\n",
       "      <td>нет</td>\n",
       "      <td>кафе</td>\n",
       "      <td>город Москва, улица Егора Абакумова, дом 9</td>\n",
       "      <td>48</td>\n",
       "    </tr>\n",
       "    <tr>\n",
       "      <td>1</td>\n",
       "      <td>77874</td>\n",
       "      <td>Родник</td>\n",
       "      <td>нет</td>\n",
       "      <td>кафе</td>\n",
       "      <td>город Москва, улица Талалихина, дом 2/1, корпус 1</td>\n",
       "      <td>35</td>\n",
       "    </tr>\n",
       "    <tr>\n",
       "      <td>2</td>\n",
       "      <td>24309</td>\n",
       "      <td>Кафе «Академия»</td>\n",
       "      <td>нет</td>\n",
       "      <td>кафе</td>\n",
       "      <td>город Москва, Абельмановская улица, дом 6</td>\n",
       "      <td>95</td>\n",
       "    </tr>\n",
       "    <tr>\n",
       "      <td>3</td>\n",
       "      <td>21894</td>\n",
       "      <td>ПИЦЦЕТОРИЯ</td>\n",
       "      <td>да</td>\n",
       "      <td>кафе</td>\n",
       "      <td>город Москва, Абрамцевская улица, дом 1</td>\n",
       "      <td>40</td>\n",
       "    </tr>\n",
       "    <tr>\n",
       "      <td>4</td>\n",
       "      <td>119365</td>\n",
       "      <td>Кафе «Вишневая метель»</td>\n",
       "      <td>нет</td>\n",
       "      <td>кафе</td>\n",
       "      <td>город Москва, Абрамцевская улица, дом 9, корпус 1</td>\n",
       "      <td>50</td>\n",
       "    </tr>\n",
       "  </tbody>\n",
       "</table>\n",
       "</div>"
      ],
      "text/plain": [
       "       id             object_name chain object_type  \\\n",
       "0  151635                 СМЕТАНА   нет        кафе   \n",
       "1   77874                  Родник   нет        кафе   \n",
       "2   24309         Кафе «Академия»   нет        кафе   \n",
       "3   21894              ПИЦЦЕТОРИЯ    да        кафе   \n",
       "4  119365  Кафе «Вишневая метель»   нет        кафе   \n",
       "\n",
       "                                             address  number  \n",
       "0         город Москва, улица Егора Абакумова, дом 9      48  \n",
       "1  город Москва, улица Талалихина, дом 2/1, корпус 1      35  \n",
       "2          город Москва, Абельмановская улица, дом 6      95  \n",
       "3            город Москва, Абрамцевская улица, дом 1      40  \n",
       "4  город Москва, Абрамцевская улица, дом 9, корпус 1      50  "
      ]
     },
     "execution_count": 5,
     "metadata": {},
     "output_type": "execute_result"
    }
   ],
   "source": [
    "df.head()"
   ]
  },
  {
   "cell_type": "code",
   "execution_count": 6,
   "metadata": {},
   "outputs": [
    {
     "name": "stdout",
     "output_type": "stream",
     "text": [
      "<class 'pandas.core.frame.DataFrame'>\n",
      "RangeIndex: 15366 entries, 0 to 15365\n",
      "Data columns (total 6 columns):\n",
      "id             15366 non-null int64\n",
      "object_name    15366 non-null object\n",
      "chain          15366 non-null object\n",
      "object_type    15366 non-null object\n",
      "address        15366 non-null object\n",
      "number         15366 non-null int64\n",
      "dtypes: int64(2), object(4)\n",
      "memory usage: 720.4+ KB\n"
     ]
    }
   ],
   "source": [
    "# Общая инаформация о таблице\n",
    "df.info()"
   ]
  },
  {
   "cell_type": "code",
   "execution_count": 7,
   "metadata": {},
   "outputs": [],
   "source": [
    "# Приведение к нижнему регистру значений в столбце object_name для проверки дубликатов\n",
    "df['object_name'] = df['object_name'].str.lower()"
   ]
  },
  {
   "cell_type": "code",
   "execution_count": 8,
   "metadata": {},
   "outputs": [
    {
     "data": {
      "text/plain": [
       "0"
      ]
     },
     "execution_count": 8,
     "metadata": {},
     "output_type": "execute_result"
    }
   ],
   "source": [
    "# Проверка дубликтов по всем столбцам\n",
    "df.duplicated().sum()"
   ]
  },
  {
   "cell_type": "code",
   "execution_count": 9,
   "metadata": {},
   "outputs": [
    {
     "data": {
      "text/html": [
       "<div>\n",
       "<style scoped>\n",
       "    .dataframe tbody tr th:only-of-type {\n",
       "        vertical-align: middle;\n",
       "    }\n",
       "\n",
       "    .dataframe tbody tr th {\n",
       "        vertical-align: top;\n",
       "    }\n",
       "\n",
       "    .dataframe thead th {\n",
       "        text-align: right;\n",
       "    }\n",
       "</style>\n",
       "<table border=\"1\" class=\"dataframe\">\n",
       "  <thead>\n",
       "    <tr style=\"text-align: right;\">\n",
       "      <th></th>\n",
       "      <th>id</th>\n",
       "      <th>object_name</th>\n",
       "      <th>chain</th>\n",
       "      <th>object_type</th>\n",
       "      <th>address</th>\n",
       "      <th>number</th>\n",
       "    </tr>\n",
       "  </thead>\n",
       "  <tbody>\n",
       "    <tr>\n",
       "      <td>8005</td>\n",
       "      <td>154087</td>\n",
       "      <td>eat and talk</td>\n",
       "      <td>нет</td>\n",
       "      <td>ресторан</td>\n",
       "      <td>город Москва, улица Воздвиженка, дом 4/7, стро...</td>\n",
       "      <td>10</td>\n",
       "    </tr>\n",
       "    <tr>\n",
       "      <td>6372</td>\n",
       "      <td>135231</td>\n",
       "      <td>il patio</td>\n",
       "      <td>нет</td>\n",
       "      <td>ресторан</td>\n",
       "      <td>город Москва, Манежная площадь, дом 1, строение 2</td>\n",
       "      <td>45</td>\n",
       "    </tr>\n",
       "    <tr>\n",
       "      <td>13858</td>\n",
       "      <td>209723</td>\n",
       "      <td>laltro bosco</td>\n",
       "      <td>нет</td>\n",
       "      <td>ресторан</td>\n",
       "      <td>город Москва, улица Петровка, дом 10</td>\n",
       "      <td>145</td>\n",
       "    </tr>\n",
       "    <tr>\n",
       "      <td>12732</td>\n",
       "      <td>192921</td>\n",
       "      <td>lift</td>\n",
       "      <td>нет</td>\n",
       "      <td>кафе</td>\n",
       "      <td>город Москва, Багратионовский проезд, дом 7, к...</td>\n",
       "      <td>3</td>\n",
       "    </tr>\n",
       "    <tr>\n",
       "      <td>5069</td>\n",
       "      <td>20025</td>\n",
       "      <td>lift</td>\n",
       "      <td>нет</td>\n",
       "      <td>кафе</td>\n",
       "      <td>город Москва, Багратионовский проезд, дом 7, к...</td>\n",
       "      <td>10</td>\n",
       "    </tr>\n",
       "    <tr>\n",
       "      <td>5068</td>\n",
       "      <td>20024</td>\n",
       "      <td>lift</td>\n",
       "      <td>нет</td>\n",
       "      <td>кафе</td>\n",
       "      <td>город Москва, Багратионовский проезд, дом 7, к...</td>\n",
       "      <td>10</td>\n",
       "    </tr>\n",
       "    <tr>\n",
       "      <td>5067</td>\n",
       "      <td>20023</td>\n",
       "      <td>lift</td>\n",
       "      <td>нет</td>\n",
       "      <td>кафе</td>\n",
       "      <td>город Москва, Багратионовский проезд, дом 7, к...</td>\n",
       "      <td>10</td>\n",
       "    </tr>\n",
       "    <tr>\n",
       "      <td>5066</td>\n",
       "      <td>20022</td>\n",
       "      <td>lift</td>\n",
       "      <td>нет</td>\n",
       "      <td>кафе</td>\n",
       "      <td>город Москва, Багратионовский проезд, дом 7, к...</td>\n",
       "      <td>20</td>\n",
       "    </tr>\n",
       "    <tr>\n",
       "      <td>5060</td>\n",
       "      <td>20015</td>\n",
       "      <td>lift</td>\n",
       "      <td>нет</td>\n",
       "      <td>кафе</td>\n",
       "      <td>город Москва, Багратионовский проезд, дом 7, к...</td>\n",
       "      <td>40</td>\n",
       "    </tr>\n",
       "    <tr>\n",
       "      <td>5059</td>\n",
       "      <td>20021</td>\n",
       "      <td>lift</td>\n",
       "      <td>нет</td>\n",
       "      <td>кафе</td>\n",
       "      <td>город Москва, Багратионовский проезд, дом 7, к...</td>\n",
       "      <td>20</td>\n",
       "    </tr>\n",
       "  </tbody>\n",
       "</table>\n",
       "</div>"
      ],
      "text/plain": [
       "           id   object_name chain object_type  \\\n",
       "8005   154087  eat and talk   нет    ресторан   \n",
       "6372   135231      il patio   нет    ресторан   \n",
       "13858  209723  laltro bosco   нет    ресторан   \n",
       "12732  192921          lift   нет        кафе   \n",
       "5069    20025          lift   нет        кафе   \n",
       "5068    20024          lift   нет        кафе   \n",
       "5067    20023          lift   нет        кафе   \n",
       "5066    20022          lift   нет        кафе   \n",
       "5060    20015          lift   нет        кафе   \n",
       "5059    20021          lift   нет        кафе   \n",
       "\n",
       "                                                 address  number  \n",
       "8005   город Москва, улица Воздвиженка, дом 4/7, стро...      10  \n",
       "6372   город Москва, Манежная площадь, дом 1, строение 2      45  \n",
       "13858               город Москва, улица Петровка, дом 10     145  \n",
       "12732  город Москва, Багратионовский проезд, дом 7, к...       3  \n",
       "5069   город Москва, Багратионовский проезд, дом 7, к...      10  \n",
       "5068   город Москва, Багратионовский проезд, дом 7, к...      10  \n",
       "5067   город Москва, Багратионовский проезд, дом 7, к...      10  \n",
       "5066   город Москва, Багратионовский проезд, дом 7, к...      20  \n",
       "5060   город Москва, Багратионовский проезд, дом 7, к...      40  \n",
       "5059   город Москва, Багратионовский проезд, дом 7, к...      20  "
      ]
     },
     "execution_count": 9,
     "metadata": {},
     "output_type": "execute_result"
    }
   ],
   "source": [
    "# Проверка дубликтов без учета идентификатора и количества посадочных мест\n",
    "df[df.duplicated(['object_name', 'address', 'object_type'])].sort_values(by = 'object_name').head(10)"
   ]
  },
  {
   "cell_type": "code",
   "execution_count": 10,
   "metadata": {},
   "outputs": [
    {
     "data": {
      "text/plain": [
       "0.011974489131849538"
      ]
     },
     "execution_count": 10,
     "metadata": {},
     "output_type": "execute_result"
    }
   ],
   "source": [
    "# Доля дубликатов от общего числа строк в таблице\n",
    "len(df[df.duplicated(['object_name', 'address', 'object_type'])]) / len(df)"
   ]
  },
  {
   "cell_type": "code",
   "execution_count": 11,
   "metadata": {},
   "outputs": [
    {
     "data": {
      "text/html": [
       "<div>\n",
       "<style scoped>\n",
       "    .dataframe tbody tr th:only-of-type {\n",
       "        vertical-align: middle;\n",
       "    }\n",
       "\n",
       "    .dataframe tbody tr th {\n",
       "        vertical-align: top;\n",
       "    }\n",
       "\n",
       "    .dataframe thead th {\n",
       "        text-align: right;\n",
       "    }\n",
       "</style>\n",
       "<table border=\"1\" class=\"dataframe\">\n",
       "  <thead>\n",
       "    <tr style=\"text-align: right;\">\n",
       "      <th></th>\n",
       "      <th>id</th>\n",
       "      <th>object_name</th>\n",
       "      <th>chain</th>\n",
       "      <th>object_type</th>\n",
       "      <th>address</th>\n",
       "      <th>number</th>\n",
       "    </tr>\n",
       "  </thead>\n",
       "  <tbody>\n",
       "    <tr>\n",
       "      <td>5057</td>\n",
       "      <td>20018</td>\n",
       "      <td>lift</td>\n",
       "      <td>нет</td>\n",
       "      <td>кафе</td>\n",
       "      <td>город Москва, Багратионовский проезд, дом 7, к...</td>\n",
       "      <td>25</td>\n",
       "    </tr>\n",
       "    <tr>\n",
       "      <td>5058</td>\n",
       "      <td>20019</td>\n",
       "      <td>lift</td>\n",
       "      <td>нет</td>\n",
       "      <td>кафе</td>\n",
       "      <td>город Москва, Багратионовский проезд, дом 7, к...</td>\n",
       "      <td>20</td>\n",
       "    </tr>\n",
       "    <tr>\n",
       "      <td>5059</td>\n",
       "      <td>20021</td>\n",
       "      <td>lift</td>\n",
       "      <td>нет</td>\n",
       "      <td>кафе</td>\n",
       "      <td>город Москва, Багратионовский проезд, дом 7, к...</td>\n",
       "      <td>20</td>\n",
       "    </tr>\n",
       "    <tr>\n",
       "      <td>5060</td>\n",
       "      <td>20015</td>\n",
       "      <td>lift</td>\n",
       "      <td>нет</td>\n",
       "      <td>кафе</td>\n",
       "      <td>город Москва, Багратионовский проезд, дом 7, к...</td>\n",
       "      <td>40</td>\n",
       "    </tr>\n",
       "    <tr>\n",
       "      <td>5064</td>\n",
       "      <td>20012</td>\n",
       "      <td>lift</td>\n",
       "      <td>нет</td>\n",
       "      <td>кафе</td>\n",
       "      <td>город Москва, Багратионовский проезд, дом 7, к...</td>\n",
       "      <td>30</td>\n",
       "    </tr>\n",
       "    <tr>\n",
       "      <td>5066</td>\n",
       "      <td>20022</td>\n",
       "      <td>lift</td>\n",
       "      <td>нет</td>\n",
       "      <td>кафе</td>\n",
       "      <td>город Москва, Багратионовский проезд, дом 7, к...</td>\n",
       "      <td>20</td>\n",
       "    </tr>\n",
       "    <tr>\n",
       "      <td>5067</td>\n",
       "      <td>20023</td>\n",
       "      <td>lift</td>\n",
       "      <td>нет</td>\n",
       "      <td>кафе</td>\n",
       "      <td>город Москва, Багратионовский проезд, дом 7, к...</td>\n",
       "      <td>10</td>\n",
       "    </tr>\n",
       "    <tr>\n",
       "      <td>5068</td>\n",
       "      <td>20024</td>\n",
       "      <td>lift</td>\n",
       "      <td>нет</td>\n",
       "      <td>кафе</td>\n",
       "      <td>город Москва, Багратионовский проезд, дом 7, к...</td>\n",
       "      <td>10</td>\n",
       "    </tr>\n",
       "    <tr>\n",
       "      <td>5069</td>\n",
       "      <td>20025</td>\n",
       "      <td>lift</td>\n",
       "      <td>нет</td>\n",
       "      <td>кафе</td>\n",
       "      <td>город Москва, Багратионовский проезд, дом 7, к...</td>\n",
       "      <td>10</td>\n",
       "    </tr>\n",
       "    <tr>\n",
       "      <td>12731</td>\n",
       "      <td>192931</td>\n",
       "      <td>lift</td>\n",
       "      <td>нет</td>\n",
       "      <td>кафе</td>\n",
       "      <td>город Москва, Багратионовский проезд, дом 7, к...</td>\n",
       "      <td>5</td>\n",
       "    </tr>\n",
       "    <tr>\n",
       "      <td>12732</td>\n",
       "      <td>192921</td>\n",
       "      <td>lift</td>\n",
       "      <td>нет</td>\n",
       "      <td>кафе</td>\n",
       "      <td>город Москва, Багратионовский проезд, дом 7, к...</td>\n",
       "      <td>3</td>\n",
       "    </tr>\n",
       "    <tr>\n",
       "      <td>12734</td>\n",
       "      <td>192923</td>\n",
       "      <td>lift</td>\n",
       "      <td>нет</td>\n",
       "      <td>кафе</td>\n",
       "      <td>город Москва, Багратионовский проезд, дом 7, к...</td>\n",
       "      <td>3</td>\n",
       "    </tr>\n",
       "  </tbody>\n",
       "</table>\n",
       "</div>"
      ],
      "text/plain": [
       "           id object_name chain object_type  \\\n",
       "5057    20018        lift   нет        кафе   \n",
       "5058    20019        lift   нет        кафе   \n",
       "5059    20021        lift   нет        кафе   \n",
       "5060    20015        lift   нет        кафе   \n",
       "5064    20012        lift   нет        кафе   \n",
       "5066    20022        lift   нет        кафе   \n",
       "5067    20023        lift   нет        кафе   \n",
       "5068    20024        lift   нет        кафе   \n",
       "5069    20025        lift   нет        кафе   \n",
       "12731  192931        lift   нет        кафе   \n",
       "12732  192921        lift   нет        кафе   \n",
       "12734  192923        lift   нет        кафе   \n",
       "\n",
       "                                                 address  number  \n",
       "5057   город Москва, Багратионовский проезд, дом 7, к...      25  \n",
       "5058   город Москва, Багратионовский проезд, дом 7, к...      20  \n",
       "5059   город Москва, Багратионовский проезд, дом 7, к...      20  \n",
       "5060   город Москва, Багратионовский проезд, дом 7, к...      40  \n",
       "5064   город Москва, Багратионовский проезд, дом 7, к...      30  \n",
       "5066   город Москва, Багратионовский проезд, дом 7, к...      20  \n",
       "5067   город Москва, Багратионовский проезд, дом 7, к...      10  \n",
       "5068   город Москва, Багратионовский проезд, дом 7, к...      10  \n",
       "5069   город Москва, Багратионовский проезд, дом 7, к...      10  \n",
       "12731  город Москва, Багратионовский проезд, дом 7, к...       5  \n",
       "12732  город Москва, Багратионовский проезд, дом 7, к...       3  \n",
       "12734  город Москва, Багратионовский проезд, дом 7, к...       3  "
      ]
     },
     "execution_count": 11,
     "metadata": {},
     "output_type": "execute_result"
    }
   ],
   "source": [
    "# Проверка дублей на примере\n",
    "df[df['object_name'] == 'lift']"
   ]
  },
  {
   "cell_type": "markdown",
   "metadata": {},
   "source": [
    "Похоже, что в таблице есть дубликаты заведений, но данные дубликаты имеют разные идентификаторы и разное количество мест.  \n",
    "Возможно, заведение проходило перерегистрацию или данные в источнике некорректные. Разное количество мест может также объясняться наличием нескольких залов в заведении. В любом случае, от таких данных лучше избавиться."
   ]
  },
  {
   "cell_type": "code",
   "execution_count": 12,
   "metadata": {},
   "outputs": [],
   "source": [
    "#  Удаление дубликатов, оставляем заведение с максимальным идентификатором\n",
    "df = df.sort_values('id').drop_duplicates(['object_name', 'address', 'object_type'], keep='last')"
   ]
  },
  {
   "cell_type": "code",
   "execution_count": 13,
   "metadata": {},
   "outputs": [
    {
     "data": {
      "text/plain": [
       "0"
      ]
     },
     "execution_count": 13,
     "metadata": {},
     "output_type": "execute_result"
    }
   ],
   "source": [
    "# Проверка\n",
    "df.duplicated(['object_name', 'address', 'object_type']).sum()"
   ]
  },
  {
   "cell_type": "code",
   "execution_count": 14,
   "metadata": {},
   "outputs": [
    {
     "data": {
      "text/plain": [
       "array(['да', 'нет'], dtype=object)"
      ]
     },
     "execution_count": 14,
     "metadata": {},
     "output_type": "execute_result"
    }
   ],
   "source": [
    "# Проверка значений в столбце с флагом принадлежности ресторана к сети\n",
    "df['chain'].unique()"
   ]
  },
  {
   "cell_type": "code",
   "execution_count": 15,
   "metadata": {},
   "outputs": [
    {
     "data": {
      "text/plain": [
       "array(['кафе', 'бар', 'предприятие быстрого обслуживания', 'буфет',\n",
       "       'столовая', 'ресторан', 'закусочная', 'кафетерий',\n",
       "       'магазин (отдел кулинарии)'], dtype=object)"
      ]
     },
     "execution_count": 15,
     "metadata": {},
     "output_type": "execute_result"
    }
   ],
   "source": [
    "# Проверка значений в столбце с типом заведений\n",
    "df['object_type'].unique()"
   ]
  },
  {
   "cell_type": "code",
   "execution_count": 16,
   "metadata": {},
   "outputs": [
    {
     "data": {
      "text/plain": [
       "count    15182.000000\n",
       "mean        59.893953\n",
       "std         74.969907\n",
       "min          0.000000\n",
       "25%         14.000000\n",
       "50%         40.000000\n",
       "75%         80.000000\n",
       "max       1700.000000\n",
       "Name: number, dtype: float64"
      ]
     },
     "execution_count": 16,
     "metadata": {},
     "output_type": "execute_result"
    }
   ],
   "source": [
    "# Проверка распределения значений в столбце с количеством посадочных мест\n",
    "df['number'].describe()"
   ]
  },
  {
   "cell_type": "markdown",
   "metadata": {},
   "source": [
    "**Вывод**   \n",
    "Были найдены дубликаты заведений с разными идентификаторами (около 1%), дубликаты были удалены.  \n",
    "В остальном, данные в таблице чистые - не найдено пустых значений и аномалий.  "
   ]
  },
  {
   "cell_type": "markdown",
   "metadata": {},
   "source": [
    "<a id='step2'></a>\n",
    "## Шаг 2. Исследовательский анализ данных"
   ]
  },
  {
   "cell_type": "code",
   "execution_count": 17,
   "metadata": {},
   "outputs": [
    {
     "data": {
      "text/html": [
       "<div>\n",
       "<style scoped>\n",
       "    .dataframe tbody tr th:only-of-type {\n",
       "        vertical-align: middle;\n",
       "    }\n",
       "\n",
       "    .dataframe tbody tr th {\n",
       "        vertical-align: top;\n",
       "    }\n",
       "\n",
       "    .dataframe thead th {\n",
       "        text-align: right;\n",
       "    }\n",
       "</style>\n",
       "<table border=\"1\" class=\"dataframe\">\n",
       "  <thead>\n",
       "    <tr style=\"text-align: right;\">\n",
       "      <th></th>\n",
       "      <th>id</th>\n",
       "      <th>object_name</th>\n",
       "      <th>chain</th>\n",
       "      <th>object_type</th>\n",
       "      <th>address</th>\n",
       "      <th>number</th>\n",
       "    </tr>\n",
       "  </thead>\n",
       "  <tbody>\n",
       "    <tr>\n",
       "      <td>1611</td>\n",
       "      <td>838</td>\n",
       "      <td>темпл бар</td>\n",
       "      <td>да</td>\n",
       "      <td>кафе</td>\n",
       "      <td>город Москва, Первомайская улица, дом 33</td>\n",
       "      <td>356</td>\n",
       "    </tr>\n",
       "    <tr>\n",
       "      <td>3290</td>\n",
       "      <td>5882</td>\n",
       "      <td>кафе «эссе»</td>\n",
       "      <td>нет</td>\n",
       "      <td>кафе</td>\n",
       "      <td>город Москва, Никитинская улица, дом 13А</td>\n",
       "      <td>70</td>\n",
       "    </tr>\n",
       "    <tr>\n",
       "      <td>3404</td>\n",
       "      <td>19613</td>\n",
       "      <td>бар азбука вкуса</td>\n",
       "      <td>да</td>\n",
       "      <td>бар</td>\n",
       "      <td>город Москва, Мичуринский проспект, дом 22, ко...</td>\n",
       "      <td>6</td>\n",
       "    </tr>\n",
       "    <tr>\n",
       "      <td>1558</td>\n",
       "      <td>19618</td>\n",
       "      <td>кафе «галладенс»</td>\n",
       "      <td>нет</td>\n",
       "      <td>кафе</td>\n",
       "      <td>город Москва, Мичуринский проспект, дом 21, ко...</td>\n",
       "      <td>25</td>\n",
       "    </tr>\n",
       "    <tr>\n",
       "      <td>6787</td>\n",
       "      <td>19619</td>\n",
       "      <td>бар-фитнес</td>\n",
       "      <td>нет</td>\n",
       "      <td>бар</td>\n",
       "      <td>город Москва, Пятницкое шоссе, дом 29, корпус 5</td>\n",
       "      <td>24</td>\n",
       "    </tr>\n",
       "  </tbody>\n",
       "</table>\n",
       "</div>"
      ],
      "text/plain": [
       "         id       object_name chain object_type  \\\n",
       "1611    838         темпл бар    да        кафе   \n",
       "3290   5882       кафе «эссе»   нет        кафе   \n",
       "3404  19613  бар азбука вкуса    да         бар   \n",
       "1558  19618  кафе «галладенс»   нет        кафе   \n",
       "6787  19619        бар-фитнес   нет         бар   \n",
       "\n",
       "                                                address  number  \n",
       "1611           город Москва, Первомайская улица, дом 33     356  \n",
       "3290           город Москва, Никитинская улица, дом 13А      70  \n",
       "3404  город Москва, Мичуринский проспект, дом 22, ко...       6  \n",
       "1558  город Москва, Мичуринский проспект, дом 21, ко...      25  \n",
       "6787    город Москва, Пятницкое шоссе, дом 29, корпус 5      24  "
      ]
     },
     "execution_count": 17,
     "metadata": {},
     "output_type": "execute_result"
    }
   ],
   "source": [
    "# Исходная таблица\n",
    "df.head()"
   ]
  },
  {
   "cell_type": "markdown",
   "metadata": {},
   "source": [
    "<a id='step2.1'></a>\n",
    "###  1. Исследуйте соотношение видов объектов общественного питания по количеству"
   ]
  },
  {
   "cell_type": "code",
   "execution_count": 18,
   "metadata": {},
   "outputs": [],
   "source": [
    "# Сокращение названий типов заведений для красивого отображения на графиках\n",
    "df['object_type'].replace({'предприятие быстрого обслуживания': 'фастфуд', 'магазин (отдел кулинарии)' : 'кулинария в магазине'}, inplace = True)"
   ]
  },
  {
   "cell_type": "code",
   "execution_count": 19,
   "metadata": {},
   "outputs": [
    {
     "data": {
      "image/png": "[encoded data removed]",
      "text/plain": [
       "<Figure size 864x504 with 1 Axes>"
      ]
     },
     "metadata": {},
     "output_type": "display_data"
    }
   ],
   "source": [
    "# Построение графика соотношения видов объектов общественного питания по количеству\n",
    "\n",
    "# Настройка фигуры\n",
    "plt.figure(figsize=(12,7))\n",
    "\n",
    "object_types_count = df['object_type'].value_counts().sort_values(ascending = False)\n",
    "ax = sns.barplot(x = object_types_count.index, y = object_types_count, color  = '#965d62')\n",
    "\n",
    "total = len(df)\n",
    "for p in ax.patches:\n",
    "        percentage = '{:.1%}'.format(p.get_height()/total)\n",
    "        x = p.get_x() + p.get_width()/3.1\n",
    "        y = p.get_y() + p.get_height()\n",
    "        ax.annotate(percentage, (x, y))\n",
    "\n",
    "# Настройка графика        \n",
    "plt.title('Cоотношение видов объектов общественного питания по количеству', pad = 20)         \n",
    "plt.xlabel('Количество заведений')     \n",
    "plt.xticks(rotation = 30)         \n",
    "plt.ylabel('Тип заведения')\n",
    "plt.show()"
   ]
  },
  {
   "cell_type": "markdown",
   "metadata": {},
   "source": [
    "С сильным отрывом по количеству лидируют заведения типа \"кафе\", также в топ 4 входят заведения типа столовая, ресторан и фастфуд.   \n",
    "Остальных типов заведений значительно меньше."
   ]
  },
  {
   "cell_type": "markdown",
   "metadata": {},
   "source": [
    "<a id='step2.2'></a>\n",
    "### 2. Исследуйте соотношение сетевых и несетевых заведений по количеству"
   ]
  },
  {
   "cell_type": "code",
   "execution_count": 20,
   "metadata": {},
   "outputs": [],
   "source": [
    "# Кол-во сетевых и несетвых заведений\n",
    "chain_flag = df['chain'].value_counts()"
   ]
  },
  {
   "cell_type": "code",
   "execution_count": 21,
   "metadata": {
    "scrolled": false
   },
   "outputs": [
    {
     "data": {
      "image/png": "[encoded data removed]",
      "text/plain": [
       "<Figure size 720x576 with 1 Axes>"
      ]
     },
     "metadata": {},
     "output_type": "display_data"
    }
   ],
   "source": [
    "# Построение графика соотношения числа сетевых и несетевых заведений\n",
    "\n",
    "# Настройка фигуры\n",
    "plt.figure(figsize=(10,8))\n",
    "\n",
    "plt.pie(x = chain_flag, labels = chain_flag.index,  autopct='%1.1f%%', \n",
    "        colors = ['#c7956d', '#f2d974'], textprops={'fontsize': 14})\n",
    "plt.title('Cоотношение сетевых и несетевых заведений по количеству', fontsize = 14)         \n",
    "plt.show()"
   ]
  },
  {
   "cell_type": "markdown",
   "metadata": {},
   "source": [
    "Несетевых заведений больше в четыре раза, чем сетевых"
   ]
  },
  {
   "cell_type": "markdown",
   "metadata": {},
   "source": [
    "<a id='step2.'></a>\n",
    "### 3. Для какого вида объекта общественного питания характерно сетевое распространение?"
   ]
  },
  {
   "cell_type": "code",
   "execution_count": 22,
   "metadata": {},
   "outputs": [
    {
     "data": {
      "image/png": "[encoded data removed]",
      "text/plain": [
       "<Figure size 864x504 with 1 Axes>"
      ]
     },
     "metadata": {},
     "output_type": "display_data"
    }
   ],
   "source": [
    "# Построение графика соотношения сетевых к несетевым заведениям в разбивке по типу объекта\n",
    "\n",
    "# Настройки фигуры \n",
    "plt.figure(figsize=(12, 7))\n",
    "palette ={\"да\": \"#f2d974\", \"нет\": \"#c7956d\"}\n",
    "\n",
    "ax = sns.countplot(data = df, x = 'object_type', hue = 'chain', palette = palette);\n",
    " \n",
    "# Настройка графика            \n",
    "plt.title('Принадлежность к сети для разных типов заведений ', pad = 20)\n",
    "plt.xlabel('Тип заведения')         \n",
    "plt.xticks(rotation=30)\n",
    "plt.ylabel('Количество заведений')\n",
    "\n",
    "# Настройка легенды\n",
    "plt.legend(title = 'Принадлежность к сети')\n",
    "leg = ax.get_legend()\n",
    "leg._legend_box.align = 'left'\n",
    "\n",
    "\n",
    "plt.show()"
   ]
  },
  {
   "cell_type": "markdown",
   "metadata": {},
   "source": [
    "Для всех типов заведений более характерно несетевое распространение.  \n",
    "Однко, можно заметить, что для типа заведений фастфуд более характерно сетевое распростронение, чем для других (с учетом общего числа заведений).   \n",
    "Посмотрим на отношение сетевых заведений к общему числу заведений для каждого типа объекта.\n",
    "  "
   ]
  },
  {
   "cell_type": "code",
   "execution_count": 23,
   "metadata": {},
   "outputs": [],
   "source": [
    "# Количество сетевых и несетевых заведений для каждого типа объекта\n",
    "chain_pivot = df.pivot_table(index = 'object_type', columns = 'chain', values = 'id', aggfunc = 'count')\n",
    "chain_pivot.columns = ['chain', 'not_chain']"
   ]
  },
  {
   "cell_type": "code",
   "execution_count": 24,
   "metadata": {},
   "outputs": [],
   "source": [
    "# Общее количество заведений по типам объектов\n",
    "chain_pivot['total'] = chain_pivot['chain'] + chain_pivot['not_chain']"
   ]
  },
  {
   "cell_type": "code",
   "execution_count": 25,
   "metadata": {},
   "outputs": [],
   "source": [
    "# Доля сетевых заведений от общего числа заведений\n",
    "chain_pivot['chain_rate'] = chain_pivot['chain'] / chain_pivot['total']"
   ]
  },
  {
   "cell_type": "code",
   "execution_count": 26,
   "metadata": {},
   "outputs": [],
   "source": [
    "# Сортировка по убыванию доли сетевых кафе\n",
    "chain_pivot = chain_pivot.sort_values(by = 'chain_rate', ascending = False).reset_index()"
   ]
  },
  {
   "cell_type": "code",
   "execution_count": 27,
   "metadata": {},
   "outputs": [
    {
     "data": {
      "text/html": [
       "<div>\n",
       "<style scoped>\n",
       "    .dataframe tbody tr th:only-of-type {\n",
       "        vertical-align: middle;\n",
       "    }\n",
       "\n",
       "    .dataframe tbody tr th {\n",
       "        vertical-align: top;\n",
       "    }\n",
       "\n",
       "    .dataframe thead th {\n",
       "        text-align: right;\n",
       "    }\n",
       "</style>\n",
       "<table border=\"1\" class=\"dataframe\">\n",
       "  <thead>\n",
       "    <tr style=\"text-align: right;\">\n",
       "      <th></th>\n",
       "      <th>object_type</th>\n",
       "      <th>chain</th>\n",
       "      <th>not_chain</th>\n",
       "      <th>total</th>\n",
       "      <th>chain_rate</th>\n",
       "    </tr>\n",
       "  </thead>\n",
       "  <tbody>\n",
       "    <tr>\n",
       "      <td>0</td>\n",
       "      <td>фастфуд</td>\n",
       "      <td>784</td>\n",
       "      <td>1106</td>\n",
       "      <td>1890</td>\n",
       "      <td>0.414815</td>\n",
       "    </tr>\n",
       "    <tr>\n",
       "      <td>1</td>\n",
       "      <td>кулинария в магазине</td>\n",
       "      <td>78</td>\n",
       "      <td>194</td>\n",
       "      <td>272</td>\n",
       "      <td>0.286765</td>\n",
       "    </tr>\n",
       "    <tr>\n",
       "      <td>2</td>\n",
       "      <td>ресторан</td>\n",
       "      <td>541</td>\n",
       "      <td>1733</td>\n",
       "      <td>2274</td>\n",
       "      <td>0.237907</td>\n",
       "    </tr>\n",
       "    <tr>\n",
       "      <td>3</td>\n",
       "      <td>кафе</td>\n",
       "      <td>1387</td>\n",
       "      <td>4621</td>\n",
       "      <td>6008</td>\n",
       "      <td>0.230859</td>\n",
       "    </tr>\n",
       "    <tr>\n",
       "      <td>4</td>\n",
       "      <td>закусочная</td>\n",
       "      <td>56</td>\n",
       "      <td>291</td>\n",
       "      <td>347</td>\n",
       "      <td>0.161383</td>\n",
       "    </tr>\n",
       "  </tbody>\n",
       "</table>\n",
       "</div>"
      ],
      "text/plain": [
       "            object_type  chain  not_chain  total  chain_rate\n",
       "0               фастфуд    784       1106   1890    0.414815\n",
       "1  кулинария в магазине     78        194    272    0.286765\n",
       "2              ресторан    541       1733   2274    0.237907\n",
       "3                  кафе   1387       4621   6008    0.230859\n",
       "4            закусочная     56        291    347    0.161383"
      ]
     },
     "execution_count": 27,
     "metadata": {},
     "output_type": "execute_result"
    }
   ],
   "source": [
    "chain_pivot.head()"
   ]
  },
  {
   "cell_type": "code",
   "execution_count": 28,
   "metadata": {},
   "outputs": [
    {
     "data": {
      "image/png": "[encoded data removed]",
      "text/plain": [
       "<Figure size 864x504 with 1 Axes>"
      ]
     },
     "metadata": {},
     "output_type": "display_data"
    }
   ],
   "source": [
    "# Построение графика отношения количества сетевых заведений к общему числу заведений\n",
    "\n",
    "# Настройка фигуры\n",
    "plt.figure(figsize=(12, 7))\n",
    "palette = {\"да\": \"#f2d974\", \"нет\": \"#c7956d\"}\n",
    "\n",
    "ax = sns.barplot(data = chain_pivot, \n",
    "                 x = 'object_type',\n",
    "                 y = 'chain_rate', color = '#f2d974')\n",
    "\n",
    "# Расчет процентов\n",
    "for p in ax.patches:\n",
    "        percentage = '{:.1%}'.format(p.get_height())\n",
    "        x = p.get_x() + p.get_width()/3.4\n",
    "        y = p.get_y() + p.get_height()\n",
    "        ax.annotate(percentage, (x, y))\n",
    "          \n",
    "# Настройка графика\n",
    "plt.title('Доля сетевых заведений к общему числу заведений по типам объектов', pad = 20)\n",
    "plt.xlabel('Тип заведения')         \n",
    "plt.xticks(rotation=30)\n",
    "plt.ylabel('Доля сетевых заведений к общему числу')\n",
    "\n",
    "plt.show()"
   ]
  },
  {
   "cell_type": "markdown",
   "metadata": {},
   "source": [
    "Данный график подтверждает вывод о том, что сетевое распространение характерно для заведений типа фастфуд (более 40% заведений принадлежат сетям).  \n",
    "Абсолютно не характерно сетевое распространение для заведений типа бар, буфет и столовая."
   ]
  },
  {
   "cell_type": "markdown",
   "metadata": {},
   "source": [
    "<a id='step2.4'></a>\n",
    "### 4. Что характерно для сетевых заведений: много заведений с небольшим числом посадочных мест в каждом или мало заведений с большим количеством посадочных мест?"
   ]
  },
  {
   "cell_type": "code",
   "execution_count": 29,
   "metadata": {},
   "outputs": [],
   "source": [
    "# Выделение заведений, принадлежащих сетям и группировка по названию сети\n",
    "df_chain = df[df['chain'] == 'да'].groupby('object_name').agg({'id':'count', 'number': 'median'})\n",
    "df_chain.columns = ['count', 'number']"
   ]
  },
  {
   "cell_type": "code",
   "execution_count": 30,
   "metadata": {},
   "outputs": [
    {
     "data": {
      "text/html": [
       "<div>\n",
       "<style scoped>\n",
       "    .dataframe tbody tr th:only-of-type {\n",
       "        vertical-align: middle;\n",
       "    }\n",
       "\n",
       "    .dataframe tbody tr th {\n",
       "        vertical-align: top;\n",
       "    }\n",
       "\n",
       "    .dataframe thead th {\n",
       "        text-align: right;\n",
       "    }\n",
       "</style>\n",
       "<table border=\"1\" class=\"dataframe\">\n",
       "  <thead>\n",
       "    <tr style=\"text-align: right;\">\n",
       "      <th></th>\n",
       "      <th>count</th>\n",
       "      <th>number</th>\n",
       "    </tr>\n",
       "    <tr>\n",
       "      <th>object_name</th>\n",
       "      <th></th>\n",
       "      <th></th>\n",
       "    </tr>\n",
       "  </thead>\n",
       "  <tbody>\n",
       "    <tr>\n",
       "      <td>kfc</td>\n",
       "      <td>155</td>\n",
       "      <td>45.0</td>\n",
       "    </tr>\n",
       "    <tr>\n",
       "      <td>шоколадница</td>\n",
       "      <td>154</td>\n",
       "      <td>50.0</td>\n",
       "    </tr>\n",
       "    <tr>\n",
       "      <td>макдоналдс</td>\n",
       "      <td>148</td>\n",
       "      <td>79.0</td>\n",
       "    </tr>\n",
       "    <tr>\n",
       "      <td>бургер кинг</td>\n",
       "      <td>136</td>\n",
       "      <td>45.0</td>\n",
       "    </tr>\n",
       "    <tr>\n",
       "      <td>теремок</td>\n",
       "      <td>94</td>\n",
       "      <td>23.0</td>\n",
       "    </tr>\n",
       "  </tbody>\n",
       "</table>\n",
       "</div>"
      ],
      "text/plain": [
       "             count  number\n",
       "object_name               \n",
       "kfc            155    45.0\n",
       "шоколадница    154    50.0\n",
       "макдоналдс     148    79.0\n",
       "бургер кинг    136    45.0\n",
       "теремок         94    23.0"
      ]
     },
     "execution_count": 30,
     "metadata": {},
     "output_type": "execute_result"
    }
   ],
   "source": [
    "df_chain.sort_values(by = 'count', ascending = False).head()"
   ]
  },
  {
   "cell_type": "code",
   "execution_count": 31,
   "metadata": {},
   "outputs": [
    {
     "data": {
      "image/png": "[encoded data removed]",
      "text/plain": [
       "<Figure size 576x576 with 3 Axes>"
      ]
     },
     "metadata": {},
     "output_type": "display_data"
    }
   ],
   "source": [
    "# Построение графика взаимосвязи количества заведений в сети и количества мест\n",
    "\n",
    "ax = sns.jointplot(x = 'number', y='count', data = df_chain, \n",
    "                   height = 8, color = '#965d62', space = 1)\n",
    "\n",
    "# Настройки графика\n",
    "ax.fig.subplots_adjust(top=0.9)\n",
    "ax.fig.suptitle('Взаимосвязь количества заведений в сети и количества мест')\n",
    "ax.set_axis_labels('Медианное количество посадочных мест', 'Количество заведений в сети')\n",
    "     \n",
    "plt.show()"
   ]
  },
  {
   "cell_type": "markdown",
   "metadata": {},
   "source": [
    "Можно отметить, что для сетевых завдений более характерно мало заведений с большим количеством посадочных мест, чем много заведений с малым количеством посадочных мест.  \n",
    "Также можно заметить, что у нас есть значения количества заведений в сети = 1. Это может быть связано с тем, что остальные заведений сети находятся в других городах, или, возможно, это вообще международная сеть и в Москве всего один объект сети, поэтому удалять такие заведения нельзя."
   ]
  },
  {
   "cell_type": "markdown",
   "metadata": {},
   "source": [
    "<a id='step2.5'></a>\n",
    "### 5. Для каждого вида объекта общественного питания опишите среднее количество посадочных мест.  Какой вид предоставляет в среднем самое большое количество посадочных мест? "
   ]
  },
  {
   "cell_type": "code",
   "execution_count": 32,
   "metadata": {},
   "outputs": [
    {
     "data": {
      "image/png": "[encoded data removed]",
      "text/plain": [
       "<Figure size 864x504 with 2 Axes>"
      ]
     },
     "metadata": {},
     "output_type": "display_data"
    }
   ],
   "source": [
    "# Распределение количества посадочных мест по всем заведениям\n",
    "\n",
    "# Разделение фигуры на две части\n",
    "fig, (ax_box, ax_hist) = plt.subplots(2, gridspec_kw={\"height_ratios\": (.15, .85)}, figsize=(12, 7))\n",
    " \n",
    "# Добавление графика к каждой части\n",
    "sns.boxplot(df['number'], ax = ax_box, color = '#965d62')\n",
    "sns.distplot(df['number'], ax = ax_hist, color = '#965d62')\n",
    "\n",
    "# Настройки графика\n",
    "ax_box.set_title('Распределение количества посадочных мест по всем заведениям',  pad = 20)\n",
    "ax_box.set_xlabel('')\n",
    "ax_hist.set_xlabel('Количество посадочных мест')\n",
    "\n",
    "plt.show()\n"
   ]
  },
  {
   "cell_type": "code",
   "execution_count": 33,
   "metadata": {},
   "outputs": [
    {
     "data": {
      "image/png": "[encoded data removed]",
      "text/plain": [
       "<Figure size 864x504 with 1 Axes>"
      ]
     },
     "metadata": {},
     "output_type": "display_data"
    }
   ],
   "source": [
    "# Построение графика распределений посадочных мест по типам заведений\n",
    "\n",
    "# Настройки фигуры\n",
    "plt.figure(figsize = (12, 7))\n",
    "\n",
    "ax = sns.boxplot(data = df, x = 'number', y = 'object_type', color = '#965d62')\n",
    "\n",
    "# Настройки графика\n",
    "plt.title('Распределение посадочных мест по типам заведений', pad = 20)\n",
    "plt.xlabel('Количество посадочных мест')         \n",
    "plt.ylabel('Тип заведений')\n",
    "\n",
    "plt.show()"
   ]
  },
  {
   "cell_type": "markdown",
   "metadata": {},
   "source": [
    "Можно заметить сильные выбросы у заведений типа бар, столовая и ресторан."
   ]
  },
  {
   "cell_type": "code",
   "execution_count": 34,
   "metadata": {},
   "outputs": [
    {
     "data": {
      "image/png": "[encoded data removed]",
      "text/plain": [
       "<Figure size 864x504 with 1 Axes>"
      ]
     },
     "metadata": {},
     "output_type": "display_data"
    }
   ],
   "source": [
    "# Построение графика распределений посадочных мест по типам заведений без крупных выбросов\n",
    "\n",
    "# Настройки фигуры\n",
    "plt.figure(figsize=(12, 7))\n",
    "\n",
    "ax = sns.boxplot(data = df, x = 'number', y = 'object_type', color = '#965d62')\n",
    "\n",
    "# Настройки графика\n",
    "plt.title('Распределение посадочных мест по типам заведений', pad = 20)\n",
    "plt.xlabel('Количество посадочных мест')         \n",
    "plt.ylabel('Тип заведений')\n",
    "plt.xlim(0, 750)\n",
    "\n",
    "plt.show()"
   ]
  },
  {
   "cell_type": "markdown",
   "metadata": {},
   "source": [
    "На графике видно, что в среднем большое количество посадочных мест характерно для заведений типа столовая, на втором месте идут заведения типа ресторан. Маленькое количество посадочных мест характерно для заведений типа закусочная, кафетерий, кулинария в магазине.  \n",
    "Посчитаем медианные средние и построим график, для подтверждения данных.\n"
   ]
  },
  {
   "cell_type": "code",
   "execution_count": 35,
   "metadata": {},
   "outputs": [],
   "source": [
    "object_type_by_number = df.groupby('object_type')['number'].median().reset_index().sort_values(by = 'number', ascending = False)"
   ]
  },
  {
   "cell_type": "code",
   "execution_count": 36,
   "metadata": {},
   "outputs": [
    {
     "data": {
      "text/html": [
       "<div>\n",
       "<style scoped>\n",
       "    .dataframe tbody tr th:only-of-type {\n",
       "        vertical-align: middle;\n",
       "    }\n",
       "\n",
       "    .dataframe tbody tr th {\n",
       "        vertical-align: top;\n",
       "    }\n",
       "\n",
       "    .dataframe thead th {\n",
       "        text-align: right;\n",
       "    }\n",
       "</style>\n",
       "<table border=\"1\" class=\"dataframe\">\n",
       "  <thead>\n",
       "    <tr style=\"text-align: right;\">\n",
       "      <th></th>\n",
       "      <th>object_type</th>\n",
       "      <th>number</th>\n",
       "    </tr>\n",
       "  </thead>\n",
       "  <tbody>\n",
       "    <tr>\n",
       "      <td>7</td>\n",
       "      <td>столовая</td>\n",
       "      <td>103</td>\n",
       "    </tr>\n",
       "    <tr>\n",
       "      <td>6</td>\n",
       "      <td>ресторан</td>\n",
       "      <td>80</td>\n",
       "    </tr>\n",
       "    <tr>\n",
       "      <td>0</td>\n",
       "      <td>бар</td>\n",
       "      <td>35</td>\n",
       "    </tr>\n",
       "    <tr>\n",
       "      <td>1</td>\n",
       "      <td>буфет</td>\n",
       "      <td>32</td>\n",
       "    </tr>\n",
       "    <tr>\n",
       "      <td>3</td>\n",
       "      <td>кафе</td>\n",
       "      <td>32</td>\n",
       "    </tr>\n",
       "    <tr>\n",
       "      <td>4</td>\n",
       "      <td>кафетерий</td>\n",
       "      <td>6</td>\n",
       "    </tr>\n",
       "    <tr>\n",
       "      <td>8</td>\n",
       "      <td>фастфуд</td>\n",
       "      <td>6</td>\n",
       "    </tr>\n",
       "    <tr>\n",
       "      <td>2</td>\n",
       "      <td>закусочная</td>\n",
       "      <td>0</td>\n",
       "    </tr>\n",
       "    <tr>\n",
       "      <td>5</td>\n",
       "      <td>кулинария в магазине</td>\n",
       "      <td>0</td>\n",
       "    </tr>\n",
       "  </tbody>\n",
       "</table>\n",
       "</div>"
      ],
      "text/plain": [
       "            object_type  number\n",
       "7              столовая     103\n",
       "6              ресторан      80\n",
       "0                   бар      35\n",
       "1                 буфет      32\n",
       "3                  кафе      32\n",
       "4             кафетерий       6\n",
       "8               фастфуд       6\n",
       "2            закусочная       0\n",
       "5  кулинария в магазине       0"
      ]
     },
     "execution_count": 36,
     "metadata": {},
     "output_type": "execute_result"
    }
   ],
   "source": [
    "object_type_by_number"
   ]
  },
  {
   "cell_type": "code",
   "execution_count": 37,
   "metadata": {},
   "outputs": [
    {
     "data": {
      "text/plain": [
       "array([  0,   5,  10,  15,  20,  25,  30,  35,  40,  45,  50,  55,  60,\n",
       "        65,  70,  75,  80,  85,  90,  95, 100], dtype=int64)"
      ]
     },
     "execution_count": 37,
     "metadata": {},
     "output_type": "execute_result"
    }
   ],
   "source": [
    "np.arange(object_type_by_number['number'].min(), \n",
    "          object_type_by_number['number'].max() + 1, 5)"
   ]
  },
  {
   "cell_type": "code",
   "execution_count": 38,
   "metadata": {},
   "outputs": [
    {
     "data": {
      "image/png": "[encoded data removed]",
      "text/plain": [
       "<Figure size 864x504 with 1 Axes>"
      ]
     },
     "metadata": {},
     "output_type": "display_data"
    }
   ],
   "source": [
    "# Построение графика отношения количества сетевых заведений к общему числу заведений\n",
    "\n",
    "# Настройка фигуры\n",
    "plt.figure(figsize = (12, 7))\n",
    "palette = ['#965d62' if (x >= 80) else '#c7956d' if (30 < x < 80) else '#f2d974' for x in object_type_by_number['number']]\n",
    "\n",
    "ax = sns.barplot(data = object_type_by_number, \n",
    "                 x = 'number',\n",
    "                 y = 'object_type', \n",
    "                 palette = palette)\n",
    "\n",
    "          \n",
    "# Настройка графика\n",
    "plt.xticks(np.arange(object_type_by_number['number'].min(), \n",
    "          object_type_by_number['number'].max() + 1, 10))\n",
    "\n",
    "plt.title('Медианное количество посадочных мест по типу заведения', pad = 20)\n",
    "plt.xlabel('Медианное количество посадочных мест')    \n",
    "plt.ylabel('Тип заведения')\n",
    "\n",
    "plt.show()"
   ]
  },
  {
   "cell_type": "markdown",
   "metadata": {},
   "source": [
    "Условно по медианному количеству посадочных мест можно разделить типы заведений на 4 группы:\n",
    "1. Большое количество посадочных мест: столовые и рестораны (больше 80);\n",
    "2. Среднее количество посадочных мест: бары, буфеты, кафе (в среднем около 35 посадочных мест);\n",
    "3. Небольшое количество посадочных мест: кафетерии и фастфуды (в среднем около 5 посадочных мест);\n",
    "4. Чаще всего отсутствуют посадочные места отсутствуют: закусочные и отдел кулинарии в магазине. "
   ]
  },
  {
   "cell_type": "code",
   "execution_count": 39,
   "metadata": {},
   "outputs": [
    {
     "data": {
      "image/png": "[encoded data removed]",
      "text/plain": [
       "<Figure size 864x504 with 1 Axes>"
      ]
     },
     "metadata": {},
     "output_type": "display_data"
    }
   ],
   "source": [
    "# Построение графика медианного количества мест для сетевых и несетевых заведений в разбике по типу объекта\n",
    "\n",
    "plt.figure(figsize = (12, 7))\n",
    "palette = {\"да\": \"#f2d974\", \"нет\": \"#c7956d\"}\n",
    "\n",
    "ax = sns.barplot(data= df, x='number', y='object_type', hue='chain', \n",
    "            ci = None, estimator = median, palette = palette)\n",
    "\n",
    "plt.title('Медианного количество посадочных мест для сетевых и несетевых заведений в разбике по типу объекта', pad = 20)\n",
    "plt.xlabel('Медианное количество посадочных мест')    \n",
    "plt.ylabel('Тип заведения')\n",
    "\n",
    "# Настройка легенды\n",
    "plt.legend(title = 'Принадлежность к сети')\n",
    "leg = ax.get_legend()\n",
    "leg._legend_box.align = 'left'\n",
    "\n",
    "plt.show()"
   ]
  },
  {
   "cell_type": "markdown",
   "metadata": {},
   "source": [
    "Можно отметить, что для сетевых заведений медианное количество мест немного превышает медианное количество мест для несетевых заведений. Особенно это ярко выражено для заведений типа _фастфуд_.   \n",
    "Исключение составляют заведения типа _буфет_. Но скорее всего здесь сказывается то, что буфеты редко бывают сетевыми.\n"
   ]
  },
  {
   "cell_type": "markdown",
   "metadata": {},
   "source": [
    "<a id='step2.6'></a>\n",
    "### 6. Выделите в отдельный столбец информацию об улице из столбца address "
   ]
  },
  {
   "cell_type": "code",
   "execution_count": 40,
   "metadata": {},
   "outputs": [
    {
     "data": {
      "text/plain": [
       "4115     город Москва, улица Москворечье, дом 31, корпус 2\n",
       "4609                  город Москва, Донецкая улица, дом 33\n",
       "13654    город Москва, 4-я Тверская-Ямская улица, дом 6/12\n",
       "3523        город Москва, Тверская улица, дом 18, корпус 1\n",
       "13958            город Москва, Юрьевский переулок, дом 16А\n",
       "14686                 город Москва, Боровское шоссе, дом 6\n",
       "105      город Москва, Коктебельская улица, дом 11, стр...\n",
       "1808     город Москва, 1-й Нагатинский проезд, дом 11, ...\n",
       "451           город Москва, Комсомольский проспект, дом 17\n",
       "12148    город Москва, Днепропетровская улица, дом 3, к...\n",
       "Name: address, dtype: object"
      ]
     },
     "execution_count": 40,
     "metadata": {},
     "output_type": "execute_result"
    }
   ],
   "source": [
    "# Просмотр примеров обозначений улиц\n",
    "df.address.sample(10)"
   ]
  },
  {
   "cell_type": "code",
   "execution_count": 41,
   "metadata": {},
   "outputs": [],
   "source": [
    "# Словарь с типами улиц, а также с типами населенных пунктов Новой Москвы\n",
    "streets_dict = ['улица', 'проспект', 'переулок', 'проезд', 'набережная', 'шоссе', 'аллея', 'бульвар',\n",
    "                'площадь', 'тупик', 'линия', 'квартал', 'мост', 'территория', 'просек', 'посёлок', \n",
    "                'город Зеленоград', 'город Московский', 'город Троицк', 'поселение', 'микрорайон', 'километр']"
   ]
  },
  {
   "cell_type": "code",
   "execution_count": 42,
   "metadata": {},
   "outputs": [],
   "source": [
    "# Функция выделения улицы из строки с адресом\n",
    "def extract_street(address):\n",
    "    for element in address.split(', '):\n",
    "        for street_type in streets_dict:\n",
    "            if element.find(street_type)!= -1:\n",
    "                return(element)\n",
    "\n",
    "# Применение функции к стобцу с адресом\n",
    "df['street'] = df['address'].apply(extract_street)"
   ]
  },
  {
   "cell_type": "code",
   "execution_count": 43,
   "metadata": {},
   "outputs": [
    {
     "data": {
      "text/plain": [
       "0"
      ]
     },
     "execution_count": 43,
     "metadata": {},
     "output_type": "execute_result"
    }
   ],
   "source": [
    "# Проверка пустых значений\n",
    "df['street'].isnull().sum()"
   ]
  },
  {
   "cell_type": "code",
   "execution_count": 44,
   "metadata": {},
   "outputs": [
    {
     "data": {
      "text/html": [
       "<div>\n",
       "<style scoped>\n",
       "    .dataframe tbody tr th:only-of-type {\n",
       "        vertical-align: middle;\n",
       "    }\n",
       "\n",
       "    .dataframe tbody tr th {\n",
       "        vertical-align: top;\n",
       "    }\n",
       "\n",
       "    .dataframe thead th {\n",
       "        text-align: right;\n",
       "    }\n",
       "</style>\n",
       "<table border=\"1\" class=\"dataframe\">\n",
       "  <thead>\n",
       "    <tr style=\"text-align: right;\">\n",
       "      <th></th>\n",
       "      <th>id</th>\n",
       "      <th>object_name</th>\n",
       "      <th>chain</th>\n",
       "      <th>object_type</th>\n",
       "      <th>address</th>\n",
       "      <th>number</th>\n",
       "      <th>street</th>\n",
       "    </tr>\n",
       "  </thead>\n",
       "  <tbody>\n",
       "    <tr>\n",
       "      <td>13431</td>\n",
       "      <td>193785</td>\n",
       "      <td>пицца паоло</td>\n",
       "      <td>да</td>\n",
       "      <td>кулинария в магазине</td>\n",
       "      <td>город Москва, Пятницкое шоссе, дом 43</td>\n",
       "      <td>0</td>\n",
       "      <td>Пятницкое шоссе</td>\n",
       "    </tr>\n",
       "    <tr>\n",
       "      <td>1801</td>\n",
       "      <td>70614</td>\n",
       "      <td>кафе-кондитерская «селезнефф»</td>\n",
       "      <td>нет</td>\n",
       "      <td>кафе</td>\n",
       "      <td>город Москва, микрорайон Северное Чертаново, д...</td>\n",
       "      <td>24</td>\n",
       "      <td>микрорайон Северное Чертаново</td>\n",
       "    </tr>\n",
       "    <tr>\n",
       "      <td>13695</td>\n",
       "      <td>221535</td>\n",
       "      <td>напитки</td>\n",
       "      <td>нет</td>\n",
       "      <td>бар</td>\n",
       "      <td>город Москва, улица Кузнецкий Мост, дом 19, ст...</td>\n",
       "      <td>30</td>\n",
       "      <td>улица Кузнецкий Мост</td>\n",
       "    </tr>\n",
       "    <tr>\n",
       "      <td>14484</td>\n",
       "      <td>217710</td>\n",
       "      <td>кофе пью</td>\n",
       "      <td>нет</td>\n",
       "      <td>кафе</td>\n",
       "      <td>город Москва, Гамсоновский переулок, дом 2, ст...</td>\n",
       "      <td>38</td>\n",
       "      <td>Гамсоновский переулок</td>\n",
       "    </tr>\n",
       "    <tr>\n",
       "      <td>7503</td>\n",
       "      <td>143849</td>\n",
       "      <td>предприятие быстрого обслуживания «макдоналдс»</td>\n",
       "      <td>да</td>\n",
       "      <td>фастфуд</td>\n",
       "      <td>город Москва, Кантемировская улица, дом 47</td>\n",
       "      <td>90</td>\n",
       "      <td>Кантемировская улица</td>\n",
       "    </tr>\n",
       "    <tr>\n",
       "      <td>7321</td>\n",
       "      <td>29032</td>\n",
       "      <td>гбоу школа № 1636 «кдп»</td>\n",
       "      <td>нет</td>\n",
       "      <td>столовая</td>\n",
       "      <td>город Москва, Елецкая улица, дом 12, корпус 3</td>\n",
       "      <td>240</td>\n",
       "      <td>Елецкая улица</td>\n",
       "    </tr>\n",
       "    <tr>\n",
       "      <td>4869</td>\n",
       "      <td>28481</td>\n",
       "      <td>столовая</td>\n",
       "      <td>нет</td>\n",
       "      <td>столовая</td>\n",
       "      <td>город Москва, Вельяминовская улица, дом 9</td>\n",
       "      <td>48</td>\n",
       "      <td>Вельяминовская улица</td>\n",
       "    </tr>\n",
       "    <tr>\n",
       "      <td>3244</td>\n",
       "      <td>27382</td>\n",
       "      <td>гбоу школа №1519</td>\n",
       "      <td>нет</td>\n",
       "      <td>столовая</td>\n",
       "      <td>город Москва, улица Исаковского, дом 14, корпус 3</td>\n",
       "      <td>246</td>\n",
       "      <td>улица Исаковского</td>\n",
       "    </tr>\n",
       "    <tr>\n",
       "      <td>1298</td>\n",
       "      <td>143092</td>\n",
       "      <td>19bar atmosphere</td>\n",
       "      <td>нет</td>\n",
       "      <td>бар</td>\n",
       "      <td>город Москва, улица Покровка, дом 19</td>\n",
       "      <td>90</td>\n",
       "      <td>улица Покровка</td>\n",
       "    </tr>\n",
       "    <tr>\n",
       "      <td>417</td>\n",
       "      <td>22129</td>\n",
       "      <td>погребок</td>\n",
       "      <td>нет</td>\n",
       "      <td>кафе</td>\n",
       "      <td>город Москва, Мясницкая улица, дом 22, строение 1</td>\n",
       "      <td>34</td>\n",
       "      <td>Мясницкая улица</td>\n",
       "    </tr>\n",
       "  </tbody>\n",
       "</table>\n",
       "</div>"
      ],
      "text/plain": [
       "           id                                     object_name chain  \\\n",
       "13431  193785                                     пицца паоло    да   \n",
       "1801    70614                   кафе-кондитерская «селезнефф»   нет   \n",
       "13695  221535                                         напитки   нет   \n",
       "14484  217710                                        кофе пью   нет   \n",
       "7503   143849  предприятие быстрого обслуживания «макдоналдс»    да   \n",
       "7321    29032                         гбоу школа № 1636 «кдп»   нет   \n",
       "4869    28481                                        столовая   нет   \n",
       "3244    27382                                гбоу школа №1519   нет   \n",
       "1298   143092                                19bar atmosphere   нет   \n",
       "417     22129                                        погребок   нет   \n",
       "\n",
       "                object_type  \\\n",
       "13431  кулинария в магазине   \n",
       "1801                   кафе   \n",
       "13695                   бар   \n",
       "14484                  кафе   \n",
       "7503                фастфуд   \n",
       "7321               столовая   \n",
       "4869               столовая   \n",
       "3244               столовая   \n",
       "1298                    бар   \n",
       "417                    кафе   \n",
       "\n",
       "                                                 address  number  \\\n",
       "13431              город Москва, Пятницкое шоссе, дом 43       0   \n",
       "1801   город Москва, микрорайон Северное Чертаново, д...      24   \n",
       "13695  город Москва, улица Кузнецкий Мост, дом 19, ст...      30   \n",
       "14484  город Москва, Гамсоновский переулок, дом 2, ст...      38   \n",
       "7503          город Москва, Кантемировская улица, дом 47      90   \n",
       "7321       город Москва, Елецкая улица, дом 12, корпус 3     240   \n",
       "4869           город Москва, Вельяминовская улица, дом 9      48   \n",
       "3244   город Москва, улица Исаковского, дом 14, корпус 3     246   \n",
       "1298                город Москва, улица Покровка, дом 19      90   \n",
       "417    город Москва, Мясницкая улица, дом 22, строение 1      34   \n",
       "\n",
       "                              street  \n",
       "13431                Пятницкое шоссе  \n",
       "1801   микрорайон Северное Чертаново  \n",
       "13695           улица Кузнецкий Мост  \n",
       "14484          Гамсоновский переулок  \n",
       "7503            Кантемировская улица  \n",
       "7321                   Елецкая улица  \n",
       "4869            Вельяминовская улица  \n",
       "3244               улица Исаковского  \n",
       "1298                  улица Покровка  \n",
       "417                  Мясницкая улица  "
      ]
     },
     "execution_count": 44,
     "metadata": {},
     "output_type": "execute_result"
    }
   ],
   "source": [
    "# Проверка таблицы\n",
    "df.sample(10)"
   ]
  },
  {
   "cell_type": "markdown",
   "metadata": {},
   "source": [
    "<a id='step2.7'></a>\n",
    "### 7. Постройте график топ-10 улиц по количеству объектов общественного питания. В каких районах Москвы находятся эти улицы?"
   ]
  },
  {
   "cell_type": "code",
   "execution_count": 45,
   "metadata": {},
   "outputs": [
    {
     "data": {
      "text/plain": [
       "город Зеленоград          230\n",
       "проспект Мира             196\n",
       "Профсоюзная улица         181\n",
       "Ленинградский проспект    172\n",
       "Пресненская набережная    165\n",
       "Варшавское шоссе          162\n",
       "Ленинский проспект        148\n",
       "поселение Сосенское       138\n",
       "проспект Вернадского      126\n",
       "Кутузовский проспект      114\n",
       "Name: street, dtype: int64"
      ]
     },
     "execution_count": 45,
     "metadata": {},
     "output_type": "execute_result"
    }
   ],
   "source": [
    "# Топ 10 улиц по количеству заведений\n",
    "df['street'].value_counts().head(10)"
   ]
  },
  {
   "cell_type": "markdown",
   "metadata": {},
   "source": [
    "В топ-10 попал город Зеленоград из Новой Москвы и поселение Сосенское, т.к. считать за улицу их никак нельзя, то исключим записи с г.Зеленоград и поселением Сосенским, после чего сохраним записи по топ-10 в отдельную таблицу и построим график."
   ]
  },
  {
   "cell_type": "code",
   "execution_count": 46,
   "metadata": {},
   "outputs": [],
   "source": [
    "top10_streets = df[(df['street'] != 'город Зеленоград') & (df['street'] != 'поселение Сосенское') ]['street'].value_counts().reset_index().head(10)"
   ]
  },
  {
   "cell_type": "code",
   "execution_count": 47,
   "metadata": {},
   "outputs": [],
   "source": [
    "top10_streets.columns = ['street_name', 'objects_count']"
   ]
  },
  {
   "cell_type": "code",
   "execution_count": 48,
   "metadata": {},
   "outputs": [
    {
     "data": {
      "text/html": [
       "<div>\n",
       "<style scoped>\n",
       "    .dataframe tbody tr th:only-of-type {\n",
       "        vertical-align: middle;\n",
       "    }\n",
       "\n",
       "    .dataframe tbody tr th {\n",
       "        vertical-align: top;\n",
       "    }\n",
       "\n",
       "    .dataframe thead th {\n",
       "        text-align: right;\n",
       "    }\n",
       "</style>\n",
       "<table border=\"1\" class=\"dataframe\">\n",
       "  <thead>\n",
       "    <tr style=\"text-align: right;\">\n",
       "      <th></th>\n",
       "      <th>street_name</th>\n",
       "      <th>objects_count</th>\n",
       "    </tr>\n",
       "  </thead>\n",
       "  <tbody>\n",
       "    <tr>\n",
       "      <td>0</td>\n",
       "      <td>проспект Мира</td>\n",
       "      <td>196</td>\n",
       "    </tr>\n",
       "    <tr>\n",
       "      <td>1</td>\n",
       "      <td>Профсоюзная улица</td>\n",
       "      <td>181</td>\n",
       "    </tr>\n",
       "    <tr>\n",
       "      <td>2</td>\n",
       "      <td>Ленинградский проспект</td>\n",
       "      <td>172</td>\n",
       "    </tr>\n",
       "    <tr>\n",
       "      <td>3</td>\n",
       "      <td>Пресненская набережная</td>\n",
       "      <td>165</td>\n",
       "    </tr>\n",
       "    <tr>\n",
       "      <td>4</td>\n",
       "      <td>Варшавское шоссе</td>\n",
       "      <td>162</td>\n",
       "    </tr>\n",
       "    <tr>\n",
       "      <td>5</td>\n",
       "      <td>Ленинский проспект</td>\n",
       "      <td>148</td>\n",
       "    </tr>\n",
       "    <tr>\n",
       "      <td>6</td>\n",
       "      <td>проспект Вернадского</td>\n",
       "      <td>126</td>\n",
       "    </tr>\n",
       "    <tr>\n",
       "      <td>7</td>\n",
       "      <td>Кутузовский проспект</td>\n",
       "      <td>114</td>\n",
       "    </tr>\n",
       "    <tr>\n",
       "      <td>8</td>\n",
       "      <td>Каширское шоссе</td>\n",
       "      <td>110</td>\n",
       "    </tr>\n",
       "    <tr>\n",
       "      <td>9</td>\n",
       "      <td>Кировоградская улица</td>\n",
       "      <td>107</td>\n",
       "    </tr>\n",
       "  </tbody>\n",
       "</table>\n",
       "</div>"
      ],
      "text/plain": [
       "              street_name  objects_count\n",
       "0           проспект Мира            196\n",
       "1       Профсоюзная улица            181\n",
       "2  Ленинградский проспект            172\n",
       "3  Пресненская набережная            165\n",
       "4        Варшавское шоссе            162\n",
       "5      Ленинский проспект            148\n",
       "6    проспект Вернадского            126\n",
       "7    Кутузовский проспект            114\n",
       "8         Каширское шоссе            110\n",
       "9    Кировоградская улица            107"
      ]
     },
     "execution_count": 48,
     "metadata": {},
     "output_type": "execute_result"
    }
   ],
   "source": [
    "top10_streets"
   ]
  },
  {
   "cell_type": "code",
   "execution_count": 49,
   "metadata": {},
   "outputs": [
    {
     "data": {
      "text/plain": [
       "0.09754972994335397"
      ]
     },
     "execution_count": 49,
     "metadata": {},
     "output_type": "execute_result"
    }
   ],
   "source": [
    "# Доля заведений на популярных улиц от всех заведений Москвы\n",
    "top10_streets['objects_count'].sum() / len(df)"
   ]
  },
  {
   "cell_type": "markdown",
   "metadata": {},
   "source": [
    "Почти 10% всех заведений Москвы находятся всего на 10 улицах."
   ]
  },
  {
   "cell_type": "code",
   "execution_count": 50,
   "metadata": {},
   "outputs": [
    {
     "data": {
      "image/png": "[encoded data removed]",
      "text/plain": [
       "<Figure size 864x504 with 1 Axes>"
      ]
     },
     "metadata": {},
     "output_type": "display_data"
    }
   ],
   "source": [
    "# Построение графика топ-10 улиц Москвы по количеству заведений\n",
    "\n",
    "# Настройки фигуры\n",
    "plt.figure(figsize=(12, 7))\n",
    "\n",
    "ax = sns.barplot(data = top10_streets, \n",
    "                 x = 'objects_count',\n",
    "                 y = 'street_name',\n",
    "                 color = '#965d62')\n",
    "\n",
    "# Среднее значение заведений на улице для всех улиц\n",
    "plt.axvline(df.groupby('street')['id'].count().mean(), linewidth=4, color='#c7956d', label = 'cреднее значение')\n",
    "\n",
    "# Медианное значение заведений на улице для всех улиц\n",
    "plt.axvline(df.groupby('street')['id'].count().median(), linewidth=4, color='#f2d974', label = 'медианное значение')\n",
    "\n",
    "# Настройки графика\n",
    "plt.title('Топ-10 улиц Москвы по количеству заведений', pad = 20)\n",
    "plt.xlabel('Количество заведений на улице')         \n",
    "plt.ylabel('Название улицы')\n",
    "plt.xticks((np.arange(0, top10_streets['objects_count'].max() + 10, 10)))\n",
    "\n",
    "# Настройки легенды\n",
    "plt.legend(title = 'Кол-во заведений на улице:')\n",
    "leg = ax.get_legend()\n",
    "leg._legend_box.align = 'left'\n",
    "\n",
    "plt.show()"
   ]
  },
  {
   "cell_type": "markdown",
   "metadata": {},
   "source": [
    "Можно отметить, что кол-во заведений на популярных улицах сильно превышает среднее и медианное кол-во заведений по всем улицам Москвы: на улицах топ-10 располагается более 100 заведений общественного питание, в то время как в среднем по всем улицам их не больше 10."
   ]
  },
  {
   "cell_type": "code",
   "execution_count": 51,
   "metadata": {},
   "outputs": [
    {
     "data": {
      "text/html": [
       "<div>\n",
       "<style scoped>\n",
       "    .dataframe tbody tr th:only-of-type {\n",
       "        vertical-align: middle;\n",
       "    }\n",
       "\n",
       "    .dataframe tbody tr th {\n",
       "        vertical-align: top;\n",
       "    }\n",
       "\n",
       "    .dataframe thead th {\n",
       "        text-align: right;\n",
       "    }\n",
       "</style>\n",
       "<table border=\"1\" class=\"dataframe\">\n",
       "  <thead>\n",
       "    <tr style=\"text-align: right;\">\n",
       "      <th></th>\n",
       "      <th>street_name</th>\n",
       "      <th>areaid</th>\n",
       "      <th>okrug</th>\n",
       "      <th>area</th>\n",
       "    </tr>\n",
       "  </thead>\n",
       "  <tbody>\n",
       "    <tr>\n",
       "      <td>0</td>\n",
       "      <td>Выставочный переулок</td>\n",
       "      <td>17</td>\n",
       "      <td>ЦАО</td>\n",
       "      <td>Пресненский район</td>\n",
       "    </tr>\n",
       "    <tr>\n",
       "      <td>1</td>\n",
       "      <td>улица Гашека</td>\n",
       "      <td>17</td>\n",
       "      <td>ЦАО</td>\n",
       "      <td>Пресненский район</td>\n",
       "    </tr>\n",
       "    <tr>\n",
       "      <td>2</td>\n",
       "      <td>Большая Никитская улица</td>\n",
       "      <td>17</td>\n",
       "      <td>ЦАО</td>\n",
       "      <td>Пресненский район</td>\n",
       "    </tr>\n",
       "    <tr>\n",
       "      <td>3</td>\n",
       "      <td>Глубокий переулок</td>\n",
       "      <td>17</td>\n",
       "      <td>ЦАО</td>\n",
       "      <td>Пресненский район</td>\n",
       "    </tr>\n",
       "    <tr>\n",
       "      <td>4</td>\n",
       "      <td>Большой Гнездниковский переулок</td>\n",
       "      <td>17</td>\n",
       "      <td>ЦАО</td>\n",
       "      <td>Пресненский район</td>\n",
       "    </tr>\n",
       "  </tbody>\n",
       "</table>\n",
       "</div>"
      ],
      "text/plain": [
       "                       street_name  areaid okrug               area\n",
       "0             Выставочный переулок      17   ЦАО  Пресненский район\n",
       "1                     улица Гашека      17   ЦАО  Пресненский район\n",
       "2          Большая Никитская улица      17   ЦАО  Пресненский район\n",
       "3                Глубокий переулок      17   ЦАО  Пресненский район\n",
       "4  Большой Гнездниковский переулок      17   ЦАО  Пресненский район"
      ]
     },
     "execution_count": 51,
     "metadata": {},
     "output_type": "execute_result"
    }
   ],
   "source": [
    "# Импторт списка улиц и их принадлежности к районам с сайта opengovdata\n",
    "spreadsheet_id = '19yj3N6dCXHktdNw_IV-GqTW2XcxxZgtVNm5V_qiY3N0'\n",
    "file_name = 'https://docs.google.com/spreadsheets/d/{}/export?format=csv'.format(spreadsheet_id)\n",
    "r = requests.get(file_name)\n",
    "streets = pd.read_csv(BytesIO(r.content))\n",
    "\n",
    "streets.rename(columns={'streetname': 'street_name'}, inplace = True)\n",
    "streets.head()"
   ]
  },
  {
   "cell_type": "code",
   "execution_count": 52,
   "metadata": {},
   "outputs": [],
   "source": [
    "# Объединение таблиц с топ-10 улицами и районами, через которые данные улицы проходят\n",
    "top10_streets_vs_districts = top10_streets.merge(streets[['street_name', 'okrug', 'area']], \n",
    "                                                 how = 'left', \n",
    "                                                 on = 'street_name')"
   ]
  },
  {
   "cell_type": "code",
   "execution_count": 53,
   "metadata": {},
   "outputs": [
    {
     "data": {
      "text/html": [
       "<div>\n",
       "<style scoped>\n",
       "    .dataframe tbody tr th:only-of-type {\n",
       "        vertical-align: middle;\n",
       "    }\n",
       "\n",
       "    .dataframe tbody tr th {\n",
       "        vertical-align: top;\n",
       "    }\n",
       "\n",
       "    .dataframe thead th {\n",
       "        text-align: right;\n",
       "    }\n",
       "</style>\n",
       "<table border=\"1\" class=\"dataframe\">\n",
       "  <thead>\n",
       "    <tr style=\"text-align: right;\">\n",
       "      <th></th>\n",
       "      <th>street_name</th>\n",
       "      <th>objects_count</th>\n",
       "      <th>okrug</th>\n",
       "      <th>area</th>\n",
       "    </tr>\n",
       "  </thead>\n",
       "  <tbody>\n",
       "    <tr>\n",
       "      <td>0</td>\n",
       "      <td>проспект Мира</td>\n",
       "      <td>196</td>\n",
       "      <td>СВАО</td>\n",
       "      <td>Алексеевский район</td>\n",
       "    </tr>\n",
       "    <tr>\n",
       "      <td>1</td>\n",
       "      <td>проспект Мира</td>\n",
       "      <td>196</td>\n",
       "      <td>СВАО</td>\n",
       "      <td>Ярославский Район</td>\n",
       "    </tr>\n",
       "    <tr>\n",
       "      <td>2</td>\n",
       "      <td>проспект Мира</td>\n",
       "      <td>196</td>\n",
       "      <td>СВАО</td>\n",
       "      <td>Район Марьина роща</td>\n",
       "    </tr>\n",
       "    <tr>\n",
       "      <td>3</td>\n",
       "      <td>проспект Мира</td>\n",
       "      <td>196</td>\n",
       "      <td>СВАО</td>\n",
       "      <td>Останкинский район</td>\n",
       "    </tr>\n",
       "    <tr>\n",
       "      <td>4</td>\n",
       "      <td>проспект Мира</td>\n",
       "      <td>196</td>\n",
       "      <td>СВАО</td>\n",
       "      <td>Район Ростокино</td>\n",
       "    </tr>\n",
       "  </tbody>\n",
       "</table>\n",
       "</div>"
      ],
      "text/plain": [
       "     street_name  objects_count okrug                area\n",
       "0  проспект Мира            196  СВАО  Алексеевский район\n",
       "1  проспект Мира            196  СВАО   Ярославский Район\n",
       "2  проспект Мира            196  СВАО  Район Марьина роща\n",
       "3  проспект Мира            196  СВАО  Останкинский район\n",
       "4  проспект Мира            196  СВАО     Район Ростокино"
      ]
     },
     "execution_count": 53,
     "metadata": {},
     "output_type": "execute_result"
    }
   ],
   "source": [
    "top10_streets_vs_districts.head()"
   ]
  },
  {
   "cell_type": "code",
   "execution_count": 54,
   "metadata": {
    "scrolled": false
   },
   "outputs": [
    {
     "name": "stdout",
     "output_type": "stream",
     "text": [
      "Список топ-10 улиц и районов, в которых данные улица находятся\n",
      "\n",
      "Варшавское шоссе проходит через районы:\n",
      "· Район Чертаново Центральное\n",
      "· Район Чертаново Северное\n",
      "· Район Чертаново Южное\n",
      "· Донской район\n",
      "· Район Нагатино-Садовники\n",
      "· Нагорный район\n",
      "· Район Северное Бутово\n",
      "· Район Южное Бутово\n",
      "\n",
      "Каширское шоссе проходит через районы:\n",
      "· Район Москворечье-Сабурово\n",
      "· Район Нагатино-Садовники\n",
      "· Район Орехово-Борисово Южное\n",
      "· Район Орехово-Борисово Северное\n",
      "\n",
      "Кировоградская улица проходит через районы:\n",
      "· Район Чертаново Центральное\n",
      "· Район Чертаново Северное\n",
      "· Район Чертаново Южное\n",
      "\n",
      "Кутузовский проспект проходит через районы:\n",
      "· Район Дорогомилово\n",
      "· Район Фили-Давыдково\n",
      "\n",
      "Ленинградский проспект проходит через районы:\n",
      "· Район Аэропорт\n",
      "· Район Беговой\n",
      "· Хорошевский район\n",
      "· Район Сокол\n",
      "\n",
      "Ленинский проспект проходит через районы:\n",
      "· Район Проспект Вернадского\n",
      "· Район Тропарево-Никулино\n",
      "· Донской район\n",
      "· Район Гагаринский\n",
      "· Ломоносовский район\n",
      "· Обручевский район\n",
      "· Район Теплый Стан\n",
      "· Район Якиманка\n",
      "\n",
      "Пресненская набережная проходит через районы:\n",
      "· Пресненский район\n",
      "\n",
      "Профсоюзная улица проходит через районы:\n",
      "· Академический район\n",
      "· Район Черемушки\n",
      "· Район Ясенево\n",
      "· Район Коньково\n",
      "· Обручевский район\n",
      "· Район Теплый Стан\n",
      "\n",
      "проспект Вернадского проходит через районы:\n",
      "· Район Проспект Вернадского\n",
      "· Район Раменки\n",
      "· Район Тропарево-Никулино\n",
      "· Район Гагаринский\n",
      "· Ломоносовский район\n",
      "\n",
      "проспект Мира проходит через районы:\n",
      "· Алексеевский район\n",
      "· Ярославский Район\n",
      "· Район Марьина роща\n",
      "· Останкинский район\n",
      "· Район Ростокино\n",
      "· Район Свиблово\n",
      "· Мещанский район\n",
      "\n"
     ]
    }
   ],
   "source": [
    "# Определение районов, на которых размещаются улицы\n",
    "print('Список топ-10 улиц и районов, в которых данные улица находятся')\n",
    "print()\n",
    "for street, data in top10_streets_vs_districts.groupby('street_name'):\n",
    "    print(street, 'проходит через районы:')\n",
    "    for element in data['area'].unique():\n",
    "        print('·', element)\n",
    "    print()"
   ]
  },
  {
   "cell_type": "code",
   "execution_count": 55,
   "metadata": {
    "scrolled": false
   },
   "outputs": [
    {
     "data": {
      "image/png": "[encoded data removed]",
      "text/plain": [
       "<Figure size 864x504 with 1 Axes>"
      ]
     },
     "metadata": {},
     "output_type": "display_data"
    }
   ],
   "source": [
    "# Построение графика распределение улиц по количеству районов\n",
    "\n",
    "# Расчет количества районов для каждой улицы\n",
    "area_dist = top10_streets_vs_districts.groupby('street_name', as_index = False) \\\n",
    "                            .agg({'area' : 'count', 'okrug' : 'count', 'objects_count' : 'median'}) \\\n",
    "                            .sort_values('area', ascending = False)\n",
    "\n",
    "# Настройки фигуры\n",
    "plt.figure(figsize=(12, 7))\n",
    "\n",
    "sns.barplot(data = area_dist, \n",
    "                 x = 'area',\n",
    "                 y = 'street_name',\n",
    "                 color = '#965d62')\n",
    "\n",
    "# Настройки графика\n",
    "plt.title('Распределение улиц по количеству районов', pad = 20)\n",
    "plt.xlabel('Количество районов')         \n",
    "plt.ylabel('Название улицы')\n",
    "\n",
    "plt.show()"
   ]
  },
  {
   "cell_type": "markdown",
   "metadata": {},
   "source": [
    "Можно отметить, что многие улицы, вошедшие в топ-10 довольно длинные, т.к. их расположение охватывает несколько округов.  Возможно именно это влияет на их попадание в топ-10 по числу находящихся на них заведений."
   ]
  },
  {
   "cell_type": "markdown",
   "metadata": {},
   "source": [
    "Посмотрим расположение улиц из топ 10 на карте Москвы."
   ]
  },
  {
   "cell_type": "code",
   "execution_count": 56,
   "metadata": {},
   "outputs": [
    {
     "data": {
      "text/plain": [
       "ЮАО     14\n",
       "ЮЗАО    14\n",
       "ЗАО      7\n",
       "СВАО     6\n",
       "САО      4\n",
       "ЦАО      3\n",
       "Name: okrug, dtype: int64"
      ]
     },
     "execution_count": 56,
     "metadata": {},
     "output_type": "execute_result"
    }
   ],
   "source": [
    "# Распределение улиц по округам\n",
    "top10_streets_vs_districts['okrug'].value_counts()"
   ]
  },
  {
   "cell_type": "code",
   "execution_count": 57,
   "metadata": {},
   "outputs": [],
   "source": [
    "# Импорт библиотеки для запроса к геокодеру и для парсинга ответа\n",
    "BASE_URL = 'https://geocode-maps.yandex.ru/1.x/'\n",
    "\n",
    "# Функция поиска координат по наименованию улицы\n",
    "def find_coords(street_name):\n",
    "    \n",
    "    # Добавляем к назвнии улицы г.Москва для корректного поиска\n",
    "    street = 'г.Москва, {}'.format(street_name)\n",
    "    \n",
    "    # Отправка запроса и получение ответа от геокодера\n",
    "    params = { \n",
    "        \"apikey\" : \"***\", \n",
    "        \"geocode\" : street\n",
    "    }\n",
    "    \n",
    "    response = requests.get(BASE_URL, params=params)\n",
    "    \n",
    "    # Парсинг ответа и сохранение значения из первого тега <pos>\n",
    "    soup = BeautifulSoup(response.text, 'html')\n",
    "    pos = soup.find('pos')\n",
    "    \n",
    "    # Разделяем координаты и сохраняем их в параметры coord1 и coord2\n",
    "    split_pos = pos.text.split(' ')\n",
    "    coord1 = split_pos[0]\n",
    "    coord2 = split_pos[1]\n",
    "    \n",
    "    return [coord1, coord2]\n",
    "\n",
    "# Применение функции\n",
    "top10_streets['coords'] = top10_streets['street_name'].apply(find_coords)"
   ]
  },
  {
   "cell_type": "code",
   "execution_count": 58,
   "metadata": {
    "scrolled": true
   },
   "outputs": [],
   "source": [
    "# Сохранение коордитан в разные столбцы\n",
    "top10_streets['coord1'] = top10_streets['coords'].map(lambda x: x[0])\n",
    "top10_streets['coord2'] = top10_streets['coords'].map(lambda x: x[1])"
   ]
  },
  {
   "cell_type": "code",
   "execution_count": 59,
   "metadata": {
    "scrolled": true
   },
   "outputs": [
    {
     "data": {
      "text/html": [
       "<div>\n",
       "<style scoped>\n",
       "    .dataframe tbody tr th:only-of-type {\n",
       "        vertical-align: middle;\n",
       "    }\n",
       "\n",
       "    .dataframe tbody tr th {\n",
       "        vertical-align: top;\n",
       "    }\n",
       "\n",
       "    .dataframe thead th {\n",
       "        text-align: right;\n",
       "    }\n",
       "</style>\n",
       "<table border=\"1\" class=\"dataframe\">\n",
       "  <thead>\n",
       "    <tr style=\"text-align: right;\">\n",
       "      <th></th>\n",
       "      <th>street_name</th>\n",
       "      <th>objects_count</th>\n",
       "      <th>coords</th>\n",
       "      <th>coord1</th>\n",
       "      <th>coord2</th>\n",
       "    </tr>\n",
       "  </thead>\n",
       "  <tbody>\n",
       "    <tr>\n",
       "      <td>0</td>\n",
       "      <td>проспект Мира</td>\n",
       "      <td>196</td>\n",
       "      <td>[37.637937, 55.812368]</td>\n",
       "      <td>37.637937</td>\n",
       "      <td>55.812368</td>\n",
       "    </tr>\n",
       "    <tr>\n",
       "      <td>1</td>\n",
       "      <td>Профсоюзная улица</td>\n",
       "      <td>181</td>\n",
       "      <td>[37.532511, 55.649525]</td>\n",
       "      <td>37.532511</td>\n",
       "      <td>55.649525</td>\n",
       "    </tr>\n",
       "    <tr>\n",
       "      <td>2</td>\n",
       "      <td>Ленинградский проспект</td>\n",
       "      <td>172</td>\n",
       "      <td>[37.545626, 55.794285]</td>\n",
       "      <td>37.545626</td>\n",
       "      <td>55.794285</td>\n",
       "    </tr>\n",
       "    <tr>\n",
       "      <td>3</td>\n",
       "      <td>Пресненская набережная</td>\n",
       "      <td>165</td>\n",
       "      <td>[37.540982, 55.746791]</td>\n",
       "      <td>37.540982</td>\n",
       "      <td>55.746791</td>\n",
       "    </tr>\n",
       "    <tr>\n",
       "      <td>4</td>\n",
       "      <td>Варшавское шоссе</td>\n",
       "      <td>162</td>\n",
       "      <td>[37.603954, 55.599799]</td>\n",
       "      <td>37.603954</td>\n",
       "      <td>55.599799</td>\n",
       "    </tr>\n",
       "    <tr>\n",
       "      <td>5</td>\n",
       "      <td>Ленинский проспект</td>\n",
       "      <td>148</td>\n",
       "      <td>[37.537137, 55.68263]</td>\n",
       "      <td>37.537137</td>\n",
       "      <td>55.68263</td>\n",
       "    </tr>\n",
       "    <tr>\n",
       "      <td>6</td>\n",
       "      <td>проспект Вернадского</td>\n",
       "      <td>126</td>\n",
       "      <td>[37.515353, 55.681666]</td>\n",
       "      <td>37.515353</td>\n",
       "      <td>55.681666</td>\n",
       "    </tr>\n",
       "    <tr>\n",
       "      <td>7</td>\n",
       "      <td>Кутузовский проспект</td>\n",
       "      <td>114</td>\n",
       "      <td>[37.50911, 55.735013]</td>\n",
       "      <td>37.50911</td>\n",
       "      <td>55.735013</td>\n",
       "    </tr>\n",
       "    <tr>\n",
       "      <td>8</td>\n",
       "      <td>Каширское шоссе</td>\n",
       "      <td>110</td>\n",
       "      <td>[37.683194, 55.641244]</td>\n",
       "      <td>37.683194</td>\n",
       "      <td>55.641244</td>\n",
       "    </tr>\n",
       "    <tr>\n",
       "      <td>9</td>\n",
       "      <td>Кировоградская улица</td>\n",
       "      <td>107</td>\n",
       "      <td>[37.605023, 55.614455]</td>\n",
       "      <td>37.605023</td>\n",
       "      <td>55.614455</td>\n",
       "    </tr>\n",
       "  </tbody>\n",
       "</table>\n",
       "</div>"
      ],
      "text/plain": [
       "              street_name  objects_count                  coords     coord1  \\\n",
       "0           проспект Мира            196  [37.637937, 55.812368]  37.637937   \n",
       "1       Профсоюзная улица            181  [37.532511, 55.649525]  37.532511   \n",
       "2  Ленинградский проспект            172  [37.545626, 55.794285]  37.545626   \n",
       "3  Пресненская набережная            165  [37.540982, 55.746791]  37.540982   \n",
       "4        Варшавское шоссе            162  [37.603954, 55.599799]  37.603954   \n",
       "5      Ленинский проспект            148   [37.537137, 55.68263]  37.537137   \n",
       "6    проспект Вернадского            126  [37.515353, 55.681666]  37.515353   \n",
       "7    Кутузовский проспект            114   [37.50911, 55.735013]   37.50911   \n",
       "8         Каширское шоссе            110  [37.683194, 55.641244]  37.683194   \n",
       "9    Кировоградская улица            107  [37.605023, 55.614455]  37.605023   \n",
       "\n",
       "      coord2  \n",
       "0  55.812368  \n",
       "1  55.649525  \n",
       "2  55.794285  \n",
       "3  55.746791  \n",
       "4  55.599799  \n",
       "5   55.68263  \n",
       "6  55.681666  \n",
       "7  55.735013  \n",
       "8  55.641244  \n",
       "9  55.614455  "
      ]
     },
     "execution_count": 59,
     "metadata": {},
     "output_type": "execute_result"
    }
   ],
   "source": [
    "top10_streets"
   ]
  },
  {
   "cell_type": "code",
   "execution_count": 60,
   "metadata": {
    "scrolled": false
   },
   "outputs": [
    {
     "data": {
      "text/html": [
       "<div style=\"width:100%;\"><div style=\"position:relative;width:100%;height:0;padding-bottom:60%;\"><span style=\"color:#565656\">Make this Notebook Trusted to load map: File -> Trust Notebook</span><iframe src=\"about:blank\" style=\"position:absolute;width:100%;height:100%;left:0;top:0;border:none !important;\" data-html=%3C%21DOCTYPE%20html%3E%0A%3Chead%3E%20%20%20%20%0A%20%20%20%20%3Cmeta%20http-equiv%3D%22content-type%22%20content%3D%22text/html%3B%20charset%3DUTF-8%22%20/%3E%0A%20%20%20%20%0A%20%20%20%20%20%20%20%20%3Cscript%3E%0A%20%20%20%20%20%20%20%20%20%20%20%20L_NO_TOUCH%20%3D%20false%3B%0A%20%20%20%20%20%20%20%20%20%20%20%20L_DISABLE_3D%20%3D%20false%3B%0A%20%20%20%20%20%20%20%20%3C/script%3E%0A%20%20%20%20%0A%20%20%20%20%3Cstyle%3Ehtml%2C%20body%20%7Bwidth%3A%20100%25%3Bheight%3A%20100%25%3Bmargin%3A%200%3Bpadding%3A%200%3B%7D%3C/style%3E%0A%20%20%20%20%3Cstyle%3E%23map%20%7Bposition%3Aabsolute%3Btop%3A0%3Bbottom%3A0%3Bright%3A0%3Bleft%3A0%3B%7D%3C/style%3E%0A%20%20%20%20%3Cscript%20src%3D%22https%3A//cdn.jsdelivr.net/npm/leaflet%401.6.0/dist/leaflet.js%22%3E%3C/script%3E%0A%20%20%20%20%3Cscript%20src%3D%22https%3A//code.jquery.com/jquery-1.12.4.min.js%22%3E%3C/script%3E%0A%20%20%20%20%3Cscript%20src%3D%22https%3A//maxcdn.bootstrapcdn.com/bootstrap/3.2.0/js/bootstrap.min.js%22%3E%3C/script%3E%0A%20%20%20%20%3Cscript%20src%3D%22https%3A//cdnjs.cloudflare.com/ajax/libs/Leaflet.awesome-markers/2.0.2/leaflet.awesome-markers.js%22%3E%3C/script%3E%0A%20%20%20%20%3Clink%20rel%3D%22stylesheet%22%20href%3D%22https%3A//cdn.jsdelivr.net/npm/leaflet%401.6.0/dist/leaflet.css%22/%3E%0A%20%20%20%20%3Clink%20rel%3D%22stylesheet%22%20href%3D%22https%3A//maxcdn.bootstrapcdn.com/bootstrap/3.2.0/css/bootstrap.min.css%22/%3E%0A%20%20%20%20%3Clink%20rel%3D%22stylesheet%22%20href%3D%22https%3A//maxcdn.bootstrapcdn.com/bootstrap/3.2.0/css/bootstrap-theme.min.css%22/%3E%0A%20%20%20%20%3Clink%20rel%3D%22stylesheet%22%20href%3D%22https%3A//maxcdn.bootstrapcdn.com/font-awesome/4.6.3/css/font-awesome.min.css%22/%3E%0A%20%20%20%20%3Clink%20rel%3D%22stylesheet%22%20href%3D%22https%3A//cdnjs.cloudflare.com/ajax/libs/Leaflet.awesome-markers/2.0.2/leaflet.awesome-markers.css%22/%3E%0A%20%20%20%20%3Clink%20rel%3D%22stylesheet%22%20href%3D%22https%3A//cdn.jsdelivr.net/gh/python-visualization/folium/folium/templates/leaflet.awesome.rotate.min.css%22/%3E%0A%20%20%20%20%0A%20%20%20%20%20%20%20%20%20%20%20%20%3Cmeta%20name%3D%22viewport%22%20content%3D%22width%3Ddevice-width%2C%0A%20%20%20%20%20%20%20%20%20%20%20%20%20%20%20%20initial-scale%3D1.0%2C%20maximum-scale%3D1.0%2C%20user-scalable%3Dno%22%20/%3E%0A%20%20%20%20%20%20%20%20%20%20%20%20%3Cstyle%3E%0A%20%20%20%20%20%20%20%20%20%20%20%20%20%20%20%20%23map_020ac234f6e6413fb826782408cc7e2c%20%7B%0A%20%20%20%20%20%20%20%20%20%20%20%20%20%20%20%20%20%20%20%20position%3A%20relative%3B%0A%20%20%20%20%20%20%20%20%20%20%20%20%20%20%20%20%20%20%20%20width%3A%20100.0%25%3B%0A%20%20%20%20%20%20%20%20%20%20%20%20%20%20%20%20%20%20%20%20height%3A%20100.0%25%3B%0A%20%20%20%20%20%20%20%20%20%20%20%20%20%20%20%20%20%20%20%20left%3A%200.0%25%3B%0A%20%20%20%20%20%20%20%20%20%20%20%20%20%20%20%20%20%20%20%20top%3A%200.0%25%3B%0A%20%20%20%20%20%20%20%20%20%20%20%20%20%20%20%20%7D%0A%20%20%20%20%20%20%20%20%20%20%20%20%3C/style%3E%0A%20%20%20%20%20%20%20%20%0A%3C/head%3E%0A%3Cbody%3E%20%20%20%20%0A%20%20%20%20%0A%20%20%20%20%20%20%20%20%20%20%20%20%3Cdiv%20class%3D%22folium-map%22%20id%3D%22map_020ac234f6e6413fb826782408cc7e2c%22%20%3E%3C/div%3E%0A%20%20%20%20%20%20%20%20%0A%3C/body%3E%0A%3Cscript%3E%20%20%20%20%0A%20%20%20%20%0A%20%20%20%20%20%20%20%20%20%20%20%20var%20map_020ac234f6e6413fb826782408cc7e2c%20%3D%20L.map%28%0A%20%20%20%20%20%20%20%20%20%20%20%20%20%20%20%20%22map_020ac234f6e6413fb826782408cc7e2c%22%2C%0A%20%20%20%20%20%20%20%20%20%20%20%20%20%20%20%20%7B%0A%20%20%20%20%20%20%20%20%20%20%20%20%20%20%20%20%20%20%20%20center%3A%20%5B55.7522%2C%2037.6156%5D%2C%0A%20%20%20%20%20%20%20%20%20%20%20%20%20%20%20%20%20%20%20%20crs%3A%20L.CRS.EPSG3857%2C%0A%20%20%20%20%20%20%20%20%20%20%20%20%20%20%20%20%20%20%20%20zoom%3A%2010%2C%0A%20%20%20%20%20%20%20%20%20%20%20%20%20%20%20%20%20%20%20%20zoomControl%3A%20true%2C%0A%20%20%20%20%20%20%20%20%20%20%20%20%20%20%20%20%20%20%20%20preferCanvas%3A%20false%2C%0A%20%20%20%20%20%20%20%20%20%20%20%20%20%20%20%20%7D%0A%20%20%20%20%20%20%20%20%20%20%20%20%29%3B%0A%0A%20%20%20%20%20%20%20%20%20%20%20%20%0A%0A%20%20%20%20%20%20%20%20%0A%20%20%20%20%0A%20%20%20%20%20%20%20%20%20%20%20%20var%20tile_layer_d805b262e1fc46c4920d1f63e0e06041%20%3D%20L.tileLayer%28%0A%20%20%20%20%20%20%20%20%20%20%20%20%20%20%20%20%22https%3A//%7Bs%7D.tile.openstreetmap.org/%7Bz%7D/%7Bx%7D/%7By%7D.png%22%2C%0A%20%20%20%20%20%20%20%20%20%20%20%20%20%20%20%20%7B%22attribution%22%3A%20%22Data%20by%20%5Cu0026copy%3B%20%5Cu003ca%20href%3D%5C%22http%3A//openstreetmap.org%5C%22%5Cu003eOpenStreetMap%5Cu003c/a%5Cu003e%2C%20under%20%5Cu003ca%20href%3D%5C%22http%3A//www.openstreetmap.org/copyright%5C%22%5Cu003eODbL%5Cu003c/a%5Cu003e.%22%2C%20%22detectRetina%22%3A%20false%2C%20%22maxNativeZoom%22%3A%2018%2C%20%22maxZoom%22%3A%2018%2C%20%22minZoom%22%3A%200%2C%20%22noWrap%22%3A%20false%2C%20%22opacity%22%3A%201%2C%20%22subdomains%22%3A%20%22abc%22%2C%20%22tms%22%3A%20false%7D%0A%20%20%20%20%20%20%20%20%20%20%20%20%29.addTo%28map_020ac234f6e6413fb826782408cc7e2c%29%3B%0A%20%20%20%20%20%20%20%20%0A%20%20%20%20%0A%20%20%20%20%20%20%20%20%20%20%20%20var%20marker_3fdb3c56229c464a835f37b544ee2787%20%3D%20L.marker%28%0A%20%20%20%20%20%20%20%20%20%20%20%20%20%20%20%20%5B55.812368%2C%2037.637937%5D%2C%0A%20%20%20%20%20%20%20%20%20%20%20%20%20%20%20%20%7B%7D%0A%20%20%20%20%20%20%20%20%20%20%20%20%29.addTo%28map_020ac234f6e6413fb826782408cc7e2c%29%3B%0A%20%20%20%20%20%20%20%20%0A%20%20%20%20%0A%20%20%20%20%20%20%20%20%20%20%20%20var%20icon_2795aec4284c42faaeb8a77e2a9d3426%20%3D%20L.AwesomeMarkers.icon%28%0A%20%20%20%20%20%20%20%20%20%20%20%20%20%20%20%20%7B%22extraClasses%22%3A%20%22fa-rotate-0%22%2C%20%22icon%22%3A%20%22info-sign%22%2C%20%22iconColor%22%3A%20%22white%22%2C%20%22markerColor%22%3A%20%22beige%22%2C%20%22prefix%22%3A%20%22glyphicon%22%7D%0A%20%20%20%20%20%20%20%20%20%20%20%20%29%3B%0A%20%20%20%20%20%20%20%20%20%20%20%20marker_3fdb3c56229c464a835f37b544ee2787.setIcon%28icon_2795aec4284c42faaeb8a77e2a9d3426%29%3B%0A%20%20%20%20%20%20%20%20%0A%20%20%20%20%0A%20%20%20%20%20%20%20%20%20%20%20%20var%20marker_9c08eccf2f2345d98acfbc4cca44eca0%20%3D%20L.marker%28%0A%20%20%20%20%20%20%20%20%20%20%20%20%20%20%20%20%5B55.649525%2C%2037.532511%5D%2C%0A%20%20%20%20%20%20%20%20%20%20%20%20%20%20%20%20%7B%7D%0A%20%20%20%20%20%20%20%20%20%20%20%20%29.addTo%28map_020ac234f6e6413fb826782408cc7e2c%29%3B%0A%20%20%20%20%20%20%20%20%0A%20%20%20%20%0A%20%20%20%20%20%20%20%20%20%20%20%20var%20icon_b0645af00c5640b0aabcbc18716bac56%20%3D%20L.AwesomeMarkers.icon%28%0A%20%20%20%20%20%20%20%20%20%20%20%20%20%20%20%20%7B%22extraClasses%22%3A%20%22fa-rotate-0%22%2C%20%22icon%22%3A%20%22info-sign%22%2C%20%22iconColor%22%3A%20%22white%22%2C%20%22markerColor%22%3A%20%22beige%22%2C%20%22prefix%22%3A%20%22glyphicon%22%7D%0A%20%20%20%20%20%20%20%20%20%20%20%20%29%3B%0A%20%20%20%20%20%20%20%20%20%20%20%20marker_9c08eccf2f2345d98acfbc4cca44eca0.setIcon%28icon_b0645af00c5640b0aabcbc18716bac56%29%3B%0A%20%20%20%20%20%20%20%20%0A%20%20%20%20%0A%20%20%20%20%20%20%20%20%20%20%20%20var%20marker_9f52e3bd4a2f4ca982394fb877f653c0%20%3D%20L.marker%28%0A%20%20%20%20%20%20%20%20%20%20%20%20%20%20%20%20%5B55.794285%2C%2037.545626%5D%2C%0A%20%20%20%20%20%20%20%20%20%20%20%20%20%20%20%20%7B%7D%0A%20%20%20%20%20%20%20%20%20%20%20%20%29.addTo%28map_020ac234f6e6413fb826782408cc7e2c%29%3B%0A%20%20%20%20%20%20%20%20%0A%20%20%20%20%0A%20%20%20%20%20%20%20%20%20%20%20%20var%20icon_4610a5b59bb94a70b20f8c2e6d0c823d%20%3D%20L.AwesomeMarkers.icon%28%0A%20%20%20%20%20%20%20%20%20%20%20%20%20%20%20%20%7B%22extraClasses%22%3A%20%22fa-rotate-0%22%2C%20%22icon%22%3A%20%22info-sign%22%2C%20%22iconColor%22%3A%20%22white%22%2C%20%22markerColor%22%3A%20%22beige%22%2C%20%22prefix%22%3A%20%22glyphicon%22%7D%0A%20%20%20%20%20%20%20%20%20%20%20%20%29%3B%0A%20%20%20%20%20%20%20%20%20%20%20%20marker_9f52e3bd4a2f4ca982394fb877f653c0.setIcon%28icon_4610a5b59bb94a70b20f8c2e6d0c823d%29%3B%0A%20%20%20%20%20%20%20%20%0A%20%20%20%20%0A%20%20%20%20%20%20%20%20%20%20%20%20var%20marker_01af4d250ba64de78e953f9ad6ab3aa4%20%3D%20L.marker%28%0A%20%20%20%20%20%20%20%20%20%20%20%20%20%20%20%20%5B55.746791%2C%2037.540982%5D%2C%0A%20%20%20%20%20%20%20%20%20%20%20%20%20%20%20%20%7B%7D%0A%20%20%20%20%20%20%20%20%20%20%20%20%29.addTo%28map_020ac234f6e6413fb826782408cc7e2c%29%3B%0A%20%20%20%20%20%20%20%20%0A%20%20%20%20%0A%20%20%20%20%20%20%20%20%20%20%20%20var%20icon_c9d72afabfc847bc8ec375e4730db01f%20%3D%20L.AwesomeMarkers.icon%28%0A%20%20%20%20%20%20%20%20%20%20%20%20%20%20%20%20%7B%22extraClasses%22%3A%20%22fa-rotate-0%22%2C%20%22icon%22%3A%20%22info-sign%22%2C%20%22iconColor%22%3A%20%22white%22%2C%20%22markerColor%22%3A%20%22beige%22%2C%20%22prefix%22%3A%20%22glyphicon%22%7D%0A%20%20%20%20%20%20%20%20%20%20%20%20%29%3B%0A%20%20%20%20%20%20%20%20%20%20%20%20marker_01af4d250ba64de78e953f9ad6ab3aa4.setIcon%28icon_c9d72afabfc847bc8ec375e4730db01f%29%3B%0A%20%20%20%20%20%20%20%20%0A%20%20%20%20%0A%20%20%20%20%20%20%20%20%20%20%20%20var%20marker_e2709be34aa040f2a01b9e9c48fdcf72%20%3D%20L.marker%28%0A%20%20%20%20%20%20%20%20%20%20%20%20%20%20%20%20%5B55.599799%2C%2037.603954%5D%2C%0A%20%20%20%20%20%20%20%20%20%20%20%20%20%20%20%20%7B%7D%0A%20%20%20%20%20%20%20%20%20%20%20%20%29.addTo%28map_020ac234f6e6413fb826782408cc7e2c%29%3B%0A%20%20%20%20%20%20%20%20%0A%20%20%20%20%0A%20%20%20%20%20%20%20%20%20%20%20%20var%20icon_6b5222d5eb2f4601a8e73c99925281c0%20%3D%20L.AwesomeMarkers.icon%28%0A%20%20%20%20%20%20%20%20%20%20%20%20%20%20%20%20%7B%22extraClasses%22%3A%20%22fa-rotate-0%22%2C%20%22icon%22%3A%20%22info-sign%22%2C%20%22iconColor%22%3A%20%22white%22%2C%20%22markerColor%22%3A%20%22beige%22%2C%20%22prefix%22%3A%20%22glyphicon%22%7D%0A%20%20%20%20%20%20%20%20%20%20%20%20%29%3B%0A%20%20%20%20%20%20%20%20%20%20%20%20marker_e2709be34aa040f2a01b9e9c48fdcf72.setIcon%28icon_6b5222d5eb2f4601a8e73c99925281c0%29%3B%0A%20%20%20%20%20%20%20%20%0A%20%20%20%20%0A%20%20%20%20%20%20%20%20%20%20%20%20var%20marker_a7c7b9ee05bb47f4b24610887b7199da%20%3D%20L.marker%28%0A%20%20%20%20%20%20%20%20%20%20%20%20%20%20%20%20%5B55.68263%2C%2037.537137%5D%2C%0A%20%20%20%20%20%20%20%20%20%20%20%20%20%20%20%20%7B%7D%0A%20%20%20%20%20%20%20%20%20%20%20%20%29.addTo%28map_020ac234f6e6413fb826782408cc7e2c%29%3B%0A%20%20%20%20%20%20%20%20%0A%20%20%20%20%0A%20%20%20%20%20%20%20%20%20%20%20%20var%20icon_e7f4376eaaaf4a97b3529527d09da298%20%3D%20L.AwesomeMarkers.icon%28%0A%20%20%20%20%20%20%20%20%20%20%20%20%20%20%20%20%7B%22extraClasses%22%3A%20%22fa-rotate-0%22%2C%20%22icon%22%3A%20%22info-sign%22%2C%20%22iconColor%22%3A%20%22white%22%2C%20%22markerColor%22%3A%20%22beige%22%2C%20%22prefix%22%3A%20%22glyphicon%22%7D%0A%20%20%20%20%20%20%20%20%20%20%20%20%29%3B%0A%20%20%20%20%20%20%20%20%20%20%20%20marker_a7c7b9ee05bb47f4b24610887b7199da.setIcon%28icon_e7f4376eaaaf4a97b3529527d09da298%29%3B%0A%20%20%20%20%20%20%20%20%0A%20%20%20%20%0A%20%20%20%20%20%20%20%20%20%20%20%20var%20marker_195c9c2dbbf3474abaf1a25df4b601ea%20%3D%20L.marker%28%0A%20%20%20%20%20%20%20%20%20%20%20%20%20%20%20%20%5B55.681666%2C%2037.515353%5D%2C%0A%20%20%20%20%20%20%20%20%20%20%20%20%20%20%20%20%7B%7D%0A%20%20%20%20%20%20%20%20%20%20%20%20%29.addTo%28map_020ac234f6e6413fb826782408cc7e2c%29%3B%0A%20%20%20%20%20%20%20%20%0A%20%20%20%20%0A%20%20%20%20%20%20%20%20%20%20%20%20var%20icon_32ac6f0b55e04b748c5a541e04fbdc9b%20%3D%20L.AwesomeMarkers.icon%28%0A%20%20%20%20%20%20%20%20%20%20%20%20%20%20%20%20%7B%22extraClasses%22%3A%20%22fa-rotate-0%22%2C%20%22icon%22%3A%20%22info-sign%22%2C%20%22iconColor%22%3A%20%22white%22%2C%20%22markerColor%22%3A%20%22beige%22%2C%20%22prefix%22%3A%20%22glyphicon%22%7D%0A%20%20%20%20%20%20%20%20%20%20%20%20%29%3B%0A%20%20%20%20%20%20%20%20%20%20%20%20marker_195c9c2dbbf3474abaf1a25df4b601ea.setIcon%28icon_32ac6f0b55e04b748c5a541e04fbdc9b%29%3B%0A%20%20%20%20%20%20%20%20%0A%20%20%20%20%0A%20%20%20%20%20%20%20%20%20%20%20%20var%20marker_bc8e4f69a46845f49d97105a661281f2%20%3D%20L.marker%28%0A%20%20%20%20%20%20%20%20%20%20%20%20%20%20%20%20%5B55.735013%2C%2037.50911%5D%2C%0A%20%20%20%20%20%20%20%20%20%20%20%20%20%20%20%20%7B%7D%0A%20%20%20%20%20%20%20%20%20%20%20%20%29.addTo%28map_020ac234f6e6413fb826782408cc7e2c%29%3B%0A%20%20%20%20%20%20%20%20%0A%20%20%20%20%0A%20%20%20%20%20%20%20%20%20%20%20%20var%20icon_7505c9df7f59456bac0fb66b0d600af1%20%3D%20L.AwesomeMarkers.icon%28%0A%20%20%20%20%20%20%20%20%20%20%20%20%20%20%20%20%7B%22extraClasses%22%3A%20%22fa-rotate-0%22%2C%20%22icon%22%3A%20%22info-sign%22%2C%20%22iconColor%22%3A%20%22white%22%2C%20%22markerColor%22%3A%20%22beige%22%2C%20%22prefix%22%3A%20%22glyphicon%22%7D%0A%20%20%20%20%20%20%20%20%20%20%20%20%29%3B%0A%20%20%20%20%20%20%20%20%20%20%20%20marker_bc8e4f69a46845f49d97105a661281f2.setIcon%28icon_7505c9df7f59456bac0fb66b0d600af1%29%3B%0A%20%20%20%20%20%20%20%20%0A%20%20%20%20%0A%20%20%20%20%20%20%20%20%20%20%20%20var%20marker_17fc712af7da4e98a1a4bd5533bf6f61%20%3D%20L.marker%28%0A%20%20%20%20%20%20%20%20%20%20%20%20%20%20%20%20%5B55.641244%2C%2037.683194%5D%2C%0A%20%20%20%20%20%20%20%20%20%20%20%20%20%20%20%20%7B%7D%0A%20%20%20%20%20%20%20%20%20%20%20%20%29.addTo%28map_020ac234f6e6413fb826782408cc7e2c%29%3B%0A%20%20%20%20%20%20%20%20%0A%20%20%20%20%0A%20%20%20%20%20%20%20%20%20%20%20%20var%20icon_a25f261f140247428a4cd4c2eefa5881%20%3D%20L.AwesomeMarkers.icon%28%0A%20%20%20%20%20%20%20%20%20%20%20%20%20%20%20%20%7B%22extraClasses%22%3A%20%22fa-rotate-0%22%2C%20%22icon%22%3A%20%22info-sign%22%2C%20%22iconColor%22%3A%20%22white%22%2C%20%22markerColor%22%3A%20%22beige%22%2C%20%22prefix%22%3A%20%22glyphicon%22%7D%0A%20%20%20%20%20%20%20%20%20%20%20%20%29%3B%0A%20%20%20%20%20%20%20%20%20%20%20%20marker_17fc712af7da4e98a1a4bd5533bf6f61.setIcon%28icon_a25f261f140247428a4cd4c2eefa5881%29%3B%0A%20%20%20%20%20%20%20%20%0A%20%20%20%20%0A%20%20%20%20%20%20%20%20%20%20%20%20var%20marker_187c6bf276234cf4b1f1f81c9bd9df8c%20%3D%20L.marker%28%0A%20%20%20%20%20%20%20%20%20%20%20%20%20%20%20%20%5B55.614455%2C%2037.605023%5D%2C%0A%20%20%20%20%20%20%20%20%20%20%20%20%20%20%20%20%7B%7D%0A%20%20%20%20%20%20%20%20%20%20%20%20%29.addTo%28map_020ac234f6e6413fb826782408cc7e2c%29%3B%0A%20%20%20%20%20%20%20%20%0A%20%20%20%20%0A%20%20%20%20%20%20%20%20%20%20%20%20var%20icon_4151c3844f7a4dd1b5b9cc51bfff6faf%20%3D%20L.AwesomeMarkers.icon%28%0A%20%20%20%20%20%20%20%20%20%20%20%20%20%20%20%20%7B%22extraClasses%22%3A%20%22fa-rotate-0%22%2C%20%22icon%22%3A%20%22info-sign%22%2C%20%22iconColor%22%3A%20%22white%22%2C%20%22markerColor%22%3A%20%22beige%22%2C%20%22prefix%22%3A%20%22glyphicon%22%7D%0A%20%20%20%20%20%20%20%20%20%20%20%20%29%3B%0A%20%20%20%20%20%20%20%20%20%20%20%20marker_187c6bf276234cf4b1f1f81c9bd9df8c.setIcon%28icon_4151c3844f7a4dd1b5b9cc51bfff6faf%29%3B%0A%20%20%20%20%20%20%20%20%0A%3C/script%3E onload=\"this.contentDocument.open();this.contentDocument.write(    decodeURIComponent(this.getAttribute('data-html')));this.contentDocument.close();\" allowfullscreen webkitallowfullscreen mozallowfullscreen></iframe></div></div>"
      ],
      "text/plain": [
       "<folium.folium.Map at 0x1576ffbe908>"
      ]
     },
     "execution_count": 60,
     "metadata": {},
     "output_type": "execute_result"
    }
   ],
   "source": [
    "# Настрока центра карты и масштаба\n",
    "map = folium.Map(location=[55.7522, 37.6156], zoom_start = 10)\n",
    "\n",
    "# Размещение координат на карте\n",
    "def put_coords_on_map(row):\n",
    "    folium.Marker(location=[row['coord2'], row['coord1']], icon=folium.Icon(color = 'beige')).add_to(map)\n",
    "    \n",
    "top10_streets.apply(put_coords_on_map, axis = 1)\n",
    "\n",
    "map"
   ]
  },
  {
   "cell_type": "markdown",
   "metadata": {},
   "source": [
    "Наибольшей популярностью по количеству заведений отличается юг и юго-запад Москвы. А вот наименьшей, похоже, пользуется восток Москвы: на востоке нет ни одной улицы из топ-10 улицы по количеству размещенных на ней заведений общественного питания. "
   ]
  },
  {
   "cell_type": "markdown",
   "metadata": {},
   "source": [
    "<a id='step2.8'></a>\n",
    "### 8.\tНайдите число улиц с одним объектом общественного питания. В каких районах Москвы находятся эти улицы?"
   ]
  },
  {
   "cell_type": "code",
   "execution_count": 61,
   "metadata": {},
   "outputs": [
    {
     "data": {
      "text/html": [
       "<div>\n",
       "<style scoped>\n",
       "    .dataframe tbody tr th:only-of-type {\n",
       "        vertical-align: middle;\n",
       "    }\n",
       "\n",
       "    .dataframe tbody tr th {\n",
       "        vertical-align: top;\n",
       "    }\n",
       "\n",
       "    .dataframe thead th {\n",
       "        text-align: right;\n",
       "    }\n",
       "</style>\n",
       "<table border=\"1\" class=\"dataframe\">\n",
       "  <thead>\n",
       "    <tr style=\"text-align: right;\">\n",
       "      <th></th>\n",
       "      <th>street</th>\n",
       "      <th>id</th>\n",
       "    </tr>\n",
       "  </thead>\n",
       "  <tbody>\n",
       "    <tr>\n",
       "      <td>2</td>\n",
       "      <td>1-й Балтийский переулок</td>\n",
       "      <td>1</td>\n",
       "    </tr>\n",
       "    <tr>\n",
       "      <td>3</td>\n",
       "      <td>1-й Басманный переулок</td>\n",
       "      <td>1</td>\n",
       "    </tr>\n",
       "    <tr>\n",
       "      <td>4</td>\n",
       "      <td>1-й Ботанический проезд</td>\n",
       "      <td>1</td>\n",
       "    </tr>\n",
       "    <tr>\n",
       "      <td>7</td>\n",
       "      <td>1-й Вешняковский проезд</td>\n",
       "      <td>1</td>\n",
       "    </tr>\n",
       "    <tr>\n",
       "      <td>9</td>\n",
       "      <td>1-й Голутвинский переулок</td>\n",
       "      <td>1</td>\n",
       "    </tr>\n",
       "  </tbody>\n",
       "</table>\n",
       "</div>"
      ],
      "text/plain": [
       "                      street  id\n",
       "2    1-й Балтийский переулок   1\n",
       "3     1-й Басманный переулок   1\n",
       "4    1-й Ботанический проезд   1\n",
       "7    1-й Вешняковский проезд   1\n",
       "9  1-й Голутвинский переулок   1"
      ]
     },
     "execution_count": 61,
     "metadata": {},
     "output_type": "execute_result"
    }
   ],
   "source": [
    "# Все улицы с одним заведением\n",
    "one_object_street = df.groupby('street', as_index = False)['id'].count().query('id == 1')\n",
    "one_object_street.head()"
   ]
  },
  {
   "cell_type": "code",
   "execution_count": 62,
   "metadata": {},
   "outputs": [
    {
     "data": {
      "text/plain": [
       "543"
      ]
     },
     "execution_count": 62,
     "metadata": {},
     "output_type": "execute_result"
    }
   ],
   "source": [
    "# Количество улиц с одним заведением\n",
    "len(one_object_street)"
   ]
  },
  {
   "cell_type": "code",
   "execution_count": 63,
   "metadata": {},
   "outputs": [
    {
     "data": {
      "text/plain": [
       "0.29130901287553645"
      ]
     },
     "execution_count": 63,
     "metadata": {},
     "output_type": "execute_result"
    }
   ],
   "source": [
    "# Доля улиц с одним заведением по отношению ко всем улицам\n",
    "len(one_object_street) / len(df.groupby('street')['id'].count())"
   ]
  },
  {
   "cell_type": "markdown",
   "metadata": {},
   "source": [
    "Почти на 30% улиц из всех улиц Москвы находится всего 1 заведение общественного питания."
   ]
  },
  {
   "cell_type": "code",
   "execution_count": 64,
   "metadata": {},
   "outputs": [],
   "source": [
    "# Объединение таблиц с улицами с одним заведением и с районами, через которые данные улицы проходят\n",
    "one_object_street_vs_districts = one_object_street.merge(streets[['street_name', 'area']], \n",
    "                                                         how = 'left', \n",
    "                                                         right_on = 'street_name',\n",
    "                                                         left_on = 'street')"
   ]
  },
  {
   "cell_type": "code",
   "execution_count": 65,
   "metadata": {},
   "outputs": [
    {
     "data": {
      "text/plain": [
       "Таганский район        27\n",
       "Район Хамовники        26\n",
       "Басманный район        25\n",
       "Тверской район         20\n",
       "Пресненский район      20\n",
       "Район Марьина роща     18\n",
       "Район Арбат            18\n",
       "Район Сокольники       15\n",
       "Мещанский район        15\n",
       "Район Замоскворечье    14\n",
       "Name: area, dtype: int64"
      ]
     },
     "execution_count": 65,
     "metadata": {},
     "output_type": "execute_result"
    }
   ],
   "source": [
    "# Топ 10 районов по количеству улиц с одним заведением\n",
    "one_object_street_vs_districts['area'].value_counts().head(10)"
   ]
  },
  {
   "cell_type": "code",
   "execution_count": 66,
   "metadata": {},
   "outputs": [
    {
     "name": "stdout",
     "output_type": "stream",
     "text": [
      "Все районы, где есть улицы с 1 заведением:\n",
      "· Алексеевский район\n",
      "· Алтуфьевский район\n",
      "· Бабушкинский район\n",
      "· Басманный район\n",
      "· Бескудниковский Район\n",
      "· Бутырский район\n",
      "· Войковский Район\n",
      "· Головинский район\n",
      "· Даниловский район\n",
      "· Дмитровский район\n",
      "· Донской район\n",
      "· Красносельский район\n",
      "· Лосиноостровский район\n",
      "· Мещанский район\n",
      "· Можайский Район\n",
      "· Молжаниновский район\n",
      "· Нагорный район\n",
      "· Нижегородский район\n",
      "· Обручевский район\n",
      "· Останкинский район\n",
      "· Пресненский район\n",
      "· Район Арбат\n",
      "· Район Аэропорт\n",
      "· Район Беговой\n",
      "· Район Бирюлево Восточное\n",
      "· Район Богородское\n",
      "· Район Внуково\n",
      "· Район Восточное Измайлово\n",
      "· Район Восточный\n",
      "· Район Выхино-Жулебино\n",
      "· Район Гагаринский\n",
      "· Район Гольяново\n",
      "· Район Дорогомилово\n",
      "· Район Замоскворечье\n",
      "· Район Западное Дегунино\n",
      "· Район Зюзино\n",
      "· Район Ивановское\n",
      "· Район Измайлово\n",
      "· Район Коньково\n",
      "· Район Коптево\n",
      "· Район Косино-Ухтомский\n",
      "· Район Котловка\n",
      "· Район Крюково\n",
      "· Район Кузьминки\n",
      "· Район Кунцево\n",
      "· Район Куркино\n",
      "· Район Левобережный\n",
      "· Район Лефортово\n",
      "· Район Лианозово\n",
      "· Район Люблино\n",
      "· Район Марфино\n",
      "· Район Марьина роща\n",
      "· Район Марьино\n",
      "· Район Матушкино-Савелки\n",
      "· Район Метрогородок\n",
      "· Район Митино\n",
      "· Район Москворечье-Сабурово\n",
      "· Район Нагатино-Садовники\n",
      "· Район Ново-Переделкино\n",
      "· Район Новогиреево\n",
      "· Район Отрадное\n",
      "· Район Очаково-Матвеевское\n",
      "· Район Перово\n",
      "· Район Печатники\n",
      "· Район Покровское-Стрешнево\n",
      "· Район Преображенское\n",
      "· Район Раменки\n",
      "· Район Ростокино\n",
      "· Район Свиблово\n",
      "· Район Северное Бутово\n",
      "· Район Северное Измайлово\n",
      "· Район Северное Медведково\n",
      "· Район Северный\n",
      "· Район Сокол\n",
      "· Район Соколиная Гора\n",
      "· Район Сокольники\n",
      "· Район Солнцево\n",
      "· Район Строгино\n",
      "· Район Текстильщики\n",
      "· Район Филевский Парк\n",
      "· Район Фили-Давыдково\n",
      "· Район Хамовники\n",
      "· Район Хорошево-Мневники\n",
      "· Район Царицыно\n",
      "· Район Черемушки\n",
      "· Район Чертаново Северное\n",
      "· Район Чертаново Южное\n",
      "· Район Щукино\n",
      "· Район Южное Бутово\n",
      "· Район Южное Медведково\n",
      "· Район Южное Тушино\n",
      "· Район Якиманка\n",
      "· Район Ясенево\n",
      "· Рязанский район\n",
      "· Савеловский район\n",
      "· Таганский район\n",
      "· Тверской район\n",
      "· Тимирязевский Район\n",
      "· Хорошевский район\n",
      "· Южнопортовый Район\n",
      "· Ярославский Район\n",
      "\n",
      "Всего районов, где есть улицы с 1 заведением: 102\n"
     ]
    }
   ],
   "source": [
    "# Список всех районов, где есть улицы с 1 заведением\n",
    "print('Все районы, где есть улицы с 1 заведением:')\n",
    "for i in one_object_street_vs_districts[~one_object_street_vs_districts ['area'].isnull()]['area'].sort_values().unique():\n",
    "    print('·', i)\n",
    "print()    \n",
    "print('Всего районов, где есть улицы с 1 заведением:', len(one_object_street_vs_districts['area'].unique()))"
   ]
  },
  {
   "cell_type": "markdown",
   "metadata": {},
   "source": [
    "Можно заметить, что в списке встречаются районы в центре Москвы, причем по числу улиц с одним заведением они лидируют у районов по окраинам. Это можно обяснить тем, что в центре Москвы очень часто встречаются короткие улицы, также одна улица может проходить через 2, или даже три района."
   ]
  },
  {
   "cell_type": "markdown",
   "metadata": {},
   "source": [
    "<a id='step2.9'></a>\n",
    "### 9.  Посмотрите на распределение количества посадочных мест для улиц с большим количеством объектов общественного питания. Какие закономерности можно выявить?"
   ]
  },
  {
   "cell_type": "code",
   "execution_count": 67,
   "metadata": {},
   "outputs": [],
   "source": [
    "# Срез данных из исходной таблицы по улицам из топ-10\n",
    "df_top10_streets = df.query('street in @top10_streets.street_name')"
   ]
  },
  {
   "cell_type": "code",
   "execution_count": 68,
   "metadata": {},
   "outputs": [
    {
     "data": {
      "image/png": "[encoded data removed]",
      "text/plain": [
       "<Figure size 864x504 with 1 Axes>"
      ]
     },
     "metadata": {},
     "output_type": "display_data"
    }
   ],
   "source": [
    "# Построение графика распределений посадочных мест по улицам из топ-10\n",
    "\n",
    "# Настройки фигуры\n",
    "plt.figure(figsize = (12, 7))\n",
    "\n",
    "ax = sns.boxplot(data = df_top10_streets, x = 'number', y = 'street', color = '#965d62')\n",
    "\n",
    "# Настройки графика\n",
    "plt.title('Распределение посадочных мест по улицам из топ-10', pad = 20)\n",
    "plt.xlabel('Количество посадочных мест')         \n",
    "plt.ylabel('Название улицы')\n",
    "\n",
    "plt.show()"
   ]
  },
  {
   "cell_type": "markdown",
   "metadata": {},
   "source": [
    "На графике заметны сильные выбросы для улиц Кутузовский проспект и проспект Вернадоского.  \n",
    "Увеличим масштаб графика, чтобы лучше увидеть распределение, а также добавим распределение по остальным улицам, не входящим в топ-10."
   ]
  },
  {
   "cell_type": "code",
   "execution_count": 69,
   "metadata": {},
   "outputs": [
    {
     "data": {
      "image/png": "[encoded data removed]",
      "text/plain": [
       "<Figure size 864x504 with 2 Axes>"
      ]
     },
     "metadata": {},
     "output_type": "display_data"
    }
   ],
   "source": [
    "# Построение графика распределений посадочных мест \n",
    "\n",
    "# Настройки фигуры: разделение фигуры на две части\n",
    "fig, (ax_top, ax_all) = plt.subplots(2, gridspec_kw={\"height_ratios\": (.85, .15)}, figsize=(12, 7))\n",
    "\n",
    "\n",
    "# Добавление графика к каждой части\n",
    "sns.boxplot(data = df_top10_streets, x = 'number', y = 'street', ax = ax_top, color = '#965d62')\n",
    "sns.boxplot(df[~df['street'].isin(top10_streets['street_name'])]['number'], ax = ax_all, color = '#534e52')\n",
    "\n",
    "\n",
    "# Настройки графика\n",
    "ax_top.set_title('Распределение посадочных мест по улицам из топ-10 и остальным улицам (без сильных выбросов)',  pad = 20)\n",
    "ax_top.set_xlabel('')\n",
    "ax_top.set_ylabel('Название улицы')\n",
    "ax_top.set_xlim(0, 400)\n",
    "ax_top.set_xticks([])\n",
    "\n",
    "\n",
    "ax_all.set_xlabel('Количество посадочных мест')\n",
    "ax_all.set_ylabel('Остальные', rotation = 0, labelpad = 28)\n",
    "ax_all.set_xlim(0, 400)\n",
    "\n",
    "plt.show()"
   ]
  },
  {
   "cell_type": "code",
   "execution_count": 70,
   "metadata": {},
   "outputs": [
    {
     "data": {
      "text/plain": [
       "street\n",
       "проспект Мира             45\n",
       "Ленинский проспект        45\n",
       "проспект Вернадского      40\n",
       "Ленинградский проспект    40\n",
       "Кутузовский проспект      40\n",
       "Пресненская набережная    30\n",
       "Кировоградская улица      30\n",
       "Варшавское шоссе          30\n",
       "Профсоюзная улица         25\n",
       "Каширское шоссе           25\n",
       "Name: number, dtype: int64"
      ]
     },
     "execution_count": 70,
     "metadata": {},
     "output_type": "execute_result"
    }
   ],
   "source": [
    "# Медианное кол-во посадочных мест для каждой улицы\n",
    "df_top10_streets.groupby('street')['number'].median().sort_values(ascending = False)"
   ]
  },
  {
   "cell_type": "markdown",
   "metadata": {},
   "source": [
    "Распределение посадочных мест на топ-10 и на остальных улицах более менее похожи. Медианное число мест колеблется от 25 до 40."
   ]
  },
  {
   "cell_type": "code",
   "execution_count": 71,
   "metadata": {},
   "outputs": [
    {
     "name": "stdout",
     "output_type": "stream",
     "text": [
      "Медианное кол-во мест для улиц из топ-10: 40.0\n",
      "Медианное кол-во мест для остальных улиц: 40.0\n",
      "Медианное кол-во мест для всех улиц: 40.0\n"
     ]
    }
   ],
   "source": [
    "# Медианное кол-во мест для улиц из топ-10 и для всех улиц\n",
    "print('Медианное кол-во мест для улиц из топ-10:', df_top10_streets['number'].median())\n",
    "print('Медианное кол-во мест для остальных улиц:', df[~df['street'].isin(top10_streets['street_name'])]['number'].median())\n",
    "print('Медианное кол-во мест для всех улиц:', df['number'].median())"
   ]
  },
  {
   "cell_type": "markdown",
   "metadata": {},
   "source": [
    "<a id='step3'></a>\n",
    "## Шаг 3. Общий вывод\n",
    "\n",
    "### Результаты исследований\n",
    "\n",
    "* **Типы заведений**\n",
    "\n",
    "Самый распространенный тип заведений общественного питания - кафе (почти 40%).   \n",
    "Заведения типа столовые, рестораны и фастфуд составляют вместе около 45% от всех заведений.   \n",
    "На все остальные типы приходится около 15% заведений.\n",
    "\n",
    "* **Принадлежность к сети**\n",
    "\n",
    "Для Москвы более характерны несетевые заведения (80,6% несетевых к 19,4% сетевых).    \n",
    "Принадлежность к сети более характерна для заведений типа фастфуд (более 40% принадлежат сетям), в то время как сети совсем не характерны для баров, буфетов и столовых.  \n",
    "Характерная черта сетевых заведений в Москве - мало заведений с большим количеством посадочных мест.\n",
    "\n",
    "* **Посадочные места**\n",
    "\n",
    "По медианному количеству посадочных мест можно условно все заведения разделить на 4 группы\n",
    "1. Большое количество посадочных мест: столовые и рестораны (больше 80);\n",
    "2. Среднее количество посадочных мест: бары, буфеты, кафе (около 35);\n",
    "3. Небольшое количество посадочных мест: кафетерии и фастфуды (около 5);\n",
    "4. Чаще всего отсутствуют посдаочные места отсутствуют: закусочные и отдел кулинарии в магазине. \n",
    "\n",
    "Можно отметить, что для сетевых заведений медианное количество мест немного превышает медианное количество мест для несетевых заведений.\n",
    "\n",
    "Распределение посадочных мест на топ-10 и на остальных улицах Москвы более менее похожи.     \n",
    "Медианное число мест колеблется от 25 до 40.\n",
    "\n",
    "* **Расположение**\n",
    "\n",
    "Топ 10 улиц в Москве по количеству заведений:  \n",
    "  1. проспект Мира\t        196\n",
    "  2. Профсоюзная улица\t    181\n",
    "  3. Ленинградский проспект\t172\n",
    "  4. Пресненская набережная\t165\n",
    "  5. Варшавское шоссе\t    162\n",
    "  6. Ленинский проспект\t    148\n",
    "  7. проспект Вернадского\t126\n",
    "  8. Кутузовский проспект\t114\n",
    "  9. Каширское шоссе\t    110\n",
    "  10. Кировоградская улица\t107\n",
    "\n",
    "Почти 10% всех заведений Москвы находятся всего на 10 улицах (составляют менее 1% всех улиц в Москве), в то время как на 30% улиц из всех улиц Москвы находится всего 1 заведение общественного питания. \n",
    "\n",
    "Количество заведений на популярных улицах сильно превышает среднее количество заведений по всем улицам Москвы: на улицах топ-10 располагается более 100 заведений общественного питание, в то время как в среднем по всем улицам их не больше 10.  \n",
    "\n",
    "Многие улицы, вошедшие в топ-10 довольно длинные, т.к. их расположение охватывает несколько районов и даже округов. \n",
    "\n",
    "Наибольшей популярностью по количеству заведений отличается юг и юго-запад Москвы. Наименьшей - восток Москвы: на востоке нет ни одной улицы из топ-10 улицы по количеству размещенных на ней заведений общественного питания.\n",
    "\n",
    "### Рекомендации\n",
    "\n",
    "Для принятия каких-либо решений данных очень мало.\n",
    "Для открытия кафе можно использовать типичный паттерн заведений Москвы: несетевое кафе на юге/юго-западе Москвы (на одной или близлежащих из ТОП-10 улиц) на 30-40 посадочных мест.\n",
    "\n",
    "Однако стоит подробнее изучить ряд критериев.\n",
    "\n",
    "Какой может быть план действий:\n",
    "\n",
    "1. Исследовать успешные и провальные проекты для заведений. Посмотреть, что привело их к этому? Заведения каких форматов чаще имеют успех и какие типы заведений сейчас популярны?    \n",
    "\n",
    "2. Определиться с целевой аудиторией и типом (форматом) заведения, после чего изучить конкурентов:  \n",
    "    * местоположение,\n",
    "    * поток пользователей,\n",
    "    * средний чек\n",
    "3. После определения выгодного местоположения:\n",
    "    * спрогнозировать месячную выручку "
   ]
  },
  {
   "cell_type": "markdown",
   "metadata": {},
   "source": [
    "<a id='step4'></a>\n",
    "## Презентация"
   ]
  },
  {
   "cell_type": "markdown",
   "metadata": {},
   "source": [
    "Ссылка: https://drive.google.com/file/d/1JKWN9GT8ZOFj5FNhWyh6jYDZk8-2oO5j/view?usp=sharing"
   ]
  }
 ],
 "metadata": {
  "kernelspec": {
   "display_name": "Python 3",
   "language": "python",
   "name": "python3"
  },
  "language_info": {
   "codemirror_mode": {
    "name": "ipython",
    "version": 3
   },
   "file_extension": ".py",
   "mimetype": "text/x-python",
   "name": "python",
   "nbconvert_exporter": "python",
   "pygments_lexer": "ipython3",
   "version": "3.7.9"
  }
 },
 "nbformat": 4,
 "nbformat_minor": 2
}
